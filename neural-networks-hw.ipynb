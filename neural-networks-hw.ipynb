{
 "nbformat": 4,
 "nbformat_minor": 0,
 "metadata": {
  "colab": {
   "name": "neural-networks-hw.ipynb",
   "provenance": [],
   "collapsed_sections": [],
   "authorship_tag": "ABX9TyMOqyknD9w1GzGY0a57g1Fg"
  },
  "kernelspec": {
   "name": "python3",
   "display_name": "Python 3"
  },
  "language_info": {
   "name": "python"
  },
  "accelerator": "GPU"
 },
 "cells": [
  {
   "cell_type": "code",
   "execution_count": 1,
   "metadata": {
    "id": "LswNlPo6GRdu",
    "executionInfo": {
     "status": "ok",
     "timestamp": 1651588999110,
     "user_tz": -120,
     "elapsed": 213,
     "user": {
      "displayName": "Máté Meglécz",
      "userId": "07251541339499465296"
     }
    },
    "pycharm": {
     "name": "#%%\n"
    }
   },
   "outputs": [
    {
     "name": "stderr",
     "output_type": "stream",
     "text": [
      "Using plaidml.keras.backend backend.\n"
     ]
    }
   ],
   "source": [
    "import copy\n",
    "import os\n",
    "import numpy as np\n",
    "import random\n",
    "import time\n",
    "import copy\n",
    "from operator import attrgetter\n",
    "\n",
    "import matplotlib.pyplot as plt\n",
    "from joblib import Parallel, delayed\n",
    "from enum import Enum\n",
    "import ssl\n",
    "ssl._create_default_https_context = ssl._create_unverified_context\n",
    "\n",
    "os.environ[\"KERAS_BACKEND\"] = \"plaidml.keras.backend\"\n",
    "\n",
    "import keras\n",
    "from keras.datasets import cifar10\n",
    "from keras.utils.np_utils import to_categorical\n",
    "from keras.layers import Dense, Flatten, Activation, Conv2D, MaxPooling2D, AveragePooling2D\n",
    "from keras.models import Sequential\n",
    "from keras.optimizers import SGD, Adam"
   ]
  },
  {
   "cell_type": "markdown",
   "source": [
    "# Configuration"
   ],
   "metadata": {
    "id": "VWaw1YaL89QO",
    "pycharm": {
     "name": "#%% md\n"
    }
   }
  },
  {
   "cell_type": "code",
   "source": [
    "class ActivationType(Enum):\n",
    "  relu = 'relu'\n",
    "  softmax = 'softmax'     "
   ],
   "metadata": {
    "id": "H9CionTlAJu7",
    "executionInfo": {
     "status": "ok",
     "timestamp": 1651584627091,
     "user_tz": -120,
     "elapsed": 19,
     "user": {
      "displayName": "Máté Meglécz",
      "userId": "07251541339499465296"
     }
    },
    "pycharm": {
     "name": "#%%\n"
    }
   },
   "execution_count": 2,
   "outputs": []
  },
  {
   "cell_type": "code",
   "source": [
    "class PoolingTypes(Enum):\n",
    "  avg_pooling = 1\n",
    "  max_pooling = 2"
   ],
   "metadata": {
    "id": "U5VNaPViAeSe",
    "executionInfo": {
     "status": "ok",
     "timestamp": 1651584627091,
     "user_tz": -120,
     "elapsed": 18,
     "user": {
      "displayName": "Máté Meglécz",
      "userId": "07251541339499465296"
     }
    },
    "pycharm": {
     "name": "#%%\n"
    }
   },
   "execution_count": 3,
   "outputs": []
  },
  {
   "cell_type": "code",
   "source": [
    "class OptimizerType(Enum):\n",
    "  adam = 1\n",
    "  sgd = 2"
   ],
   "metadata": {
    "id": "bde0-H5NBi95",
    "executionInfo": {
     "status": "ok",
     "timestamp": 1651584627092,
     "user_tz": -120,
     "elapsed": 18,
     "user": {
      "displayName": "Máté Meglécz",
      "userId": "07251541339499465296"
     }
    },
    "pycharm": {
     "name": "#%%\n"
    }
   },
   "execution_count": 4,
   "outputs": []
  },
  {
   "cell_type": "code",
   "source": [
    "class Configuration:\n",
    "  kernel_size_set = range(1, 5)\n",
    "  act_set = [ActivationType.relu, ActivationType.softmax]\n",
    "  pooling_set = [PoolingTypes.max_pooling, PoolingTypes.avg_pooling]\n",
    "  neuron_set = range(1, 300)\n",
    "  epochs_set = range(1, 20)\n",
    "  batch_size_set = [16, 32, 64]\n",
    "  optimizer_set = [OptimizerType.adam, OptimizerType.sgd]\n",
    "\n",
    "  def __init__(self, convulution_kernel_size = 3, \n",
    "               convulution_act = ActivationType.relu, \n",
    "               pooling_layer_type = PoolingTypes.max_pooling, \n",
    "               pooling_layer_kernel_size = 2, \n",
    "               first_dense_layer_neurons = 256, \n",
    "               first_dense_act = ActivationType.relu, \n",
    "               second_dense_layer_neurons = 10,\n",
    "               second_dense_act = ActivationType.softmax, \n",
    "               dropout_rate = 0.5, \n",
    "               optimizer_type = OptimizerType.sgd, \n",
    "               learning_rate = 0.01,\n",
    "               epochs = 15, \n",
    "               batch_size = 32) -> None:\n",
    "    self.convulution_kernel_size = convulution_kernel_size\n",
    "    self.convulution_act = convulution_act\n",
    "    self.pooling_layer_type = pooling_layer_type\n",
    "    self.pooling_layer_kernel_size = pooling_layer_kernel_size\n",
    "    self.first_dense_layer_neurons = first_dense_layer_neurons\n",
    "    self.first_dense_act = first_dense_act\n",
    "    self.second_dense_layer_neurons = second_dense_layer_neurons\n",
    "    self.second_dense_act = second_dense_act\n",
    "    self.dropout_rate = dropout_rate\n",
    "    self.optimizer_type = optimizer_type\n",
    "    self.learning_rate = learning_rate\n",
    "    self.epochs = epochs\n",
    "    self.batch_size = batch_size\n",
    "    self.loss = None\n",
    "    self.fitness = 0"
   ],
   "metadata": {
    "id": "sOK0WfPV8678",
    "executionInfo": {
     "status": "ok",
     "timestamp": 1651597681250,
     "user_tz": -120,
     "elapsed": 198,
     "user": {
      "displayName": "Máté Meglécz",
      "userId": "07251541339499465296"
     }
    },
    "pycharm": {
     "name": "#%%\n"
    }
   },
   "execution_count": 5,
   "outputs": []
  },
  {
   "cell_type": "code",
   "source": [
    "def create_random():\n",
    "  first_dense_neurons = random.choice(Configuration.neuron_set)\n",
    "  second_dense_neurons = random.choice(range(min(Configuration.neuron_set), first_dense_neurons))\n",
    "  return Configuration(\n",
    "      random.choice(Configuration.kernel_size_set),\n",
    "      random.choice(Configuration.act_set),\n",
    "      random.choice(Configuration.pooling_set),\n",
    "      random.choice(Configuration.kernel_size_set),\n",
    "      first_dense_neurons,\n",
    "      random.choice(Configuration.act_set),\n",
    "      second_dense_neurons,\n",
    "      random.choice(Configuration.act_set),\n",
    "      random.uniform(0, 1),\n",
    "      random.choice(Configuration.optimizer_set),\n",
    "      random.uniform(0.0001, 0.1),\n",
    "      random.choice(Configuration.epochs_set),\n",
    "      random.choice(Configuration.batch_size_set)\n",
    "  )"
   ],
   "metadata": {
    "id": "tLPb2pnfPjgR",
    "executionInfo": {
     "status": "ok",
     "timestamp": 1651597683737,
     "user_tz": -120,
     "elapsed": 318,
     "user": {
      "displayName": "Máté Meglécz",
      "userId": "07251541339499465296"
     }
    },
    "pycharm": {
     "name": "#%%\n"
    }
   },
   "execution_count": 6,
   "outputs": []
  },
  {
   "cell_type": "markdown",
   "source": [
    "# CNN"
   ],
   "metadata": {
    "id": "qPiajPVcRNZy",
    "pycharm": {
     "name": "#%% md\n"
    }
   }
  },
  {
   "cell_type": "code",
   "source": [
    "def plotLosses(history):  \n",
    "    plt.plot(history.history['loss'])\n",
    "    # plt.plot(history.history['val_loss'])\n",
    "    plt.title('model loss')\n",
    "    plt.ylabel('loss')\n",
    "    plt.xlabel('epoch')\n",
    "    plt.legend(['train', 'validation'], loc='upper left')\n",
    "    plt.show()"
   ],
   "metadata": {
    "id": "dgUpv79MPrI2",
    "executionInfo": {
     "status": "ok",
     "timestamp": 1651584627093,
     "user_tz": -120,
     "elapsed": 19,
     "user": {
      "displayName": "Máté Meglécz",
      "userId": "07251541339499465296"
     }
    },
    "pycharm": {
     "name": "#%%\n"
    }
   },
   "execution_count": 7,
   "outputs": []
  },
  {
   "cell_type": "code",
   "source": [
    "def cnn(config, img_train, img_test, label_train, label_test):\n",
    "  if config.loss is not None:\n",
    "    return config.loss\n",
    "\n",
    " # TODO hiányoznak a dropout layerek\n",
    "  model = Sequential()\n",
    "\n",
    "  model.add(Conv2D(32, (config.convulution_kernel_size, config.convulution_kernel_size), activation=config.convulution_act.value, input_shape=(32, 32, 3)))\n",
    "  model.add(Conv2D(32, (config.convulution_kernel_size, config.convulution_kernel_size), activation=config.convulution_act.value))\n",
    "\n",
    "  if config.pooling_layer_type == PoolingTypes.max_pooling:\n",
    "    model.add(MaxPooling2D(pool_size=(config.pooling_layer_kernel_size, config.pooling_layer_kernel_size)))\n",
    "  elif config.pooling_layer_type == PoolingTypes.avg_pooling:\n",
    "    model.add(AveragePooling2D(pool_size = (config.pooling_layer_kernel_size, config.pooling_layer_kernel_size)))\n",
    "\n",
    "\n",
    "  model.add(Flatten())\n",
    "  model.add(Dense(config.first_dense_layer_neurons, activation=config.first_dense_act.value))\n",
    "  model.add(Dense(10, activation=config.second_dense_act.value)) # ennek softmaxnak kell lennie\n",
    "\n",
    "  if config.optimizer_type == OptimizerType.sgd:\n",
    "    opt = SGD(lr=config.learning_rate, decay=1e-6, momentum=0.9, nesterov=True)\n",
    "  elif config.optimizer_type == OptimizerType.adam:\n",
    "    opt = Adam(lr=config.learning_rate)\n",
    "\n",
    "  model.compile(loss='categorical_crossentropy', metrics=['accuracy'], optimizer=opt)\n",
    "  history = model.fit(img_train,label_train, epochs=config.epochs, batch_size=config.batch_size, verbose=2, validation_split=0.0)\n",
    "  #plotLosses(history)\n",
    "  return model.evaluate(img_test, label_test)[0]\n"
   ],
   "metadata": {
    "id": "Wd-yuzIqLoW1",
    "executionInfo": {
     "status": "ok",
     "timestamp": 1651593205891,
     "user_tz": -120,
     "elapsed": 551,
     "user": {
      "displayName": "Máté Meglécz",
      "userId": "07251541339499465296"
     }
    },
    "pycharm": {
     "name": "#%%\n"
    }
   },
   "execution_count": 8,
   "outputs": []
  },
  {
   "cell_type": "code",
   "source": [
    "(img_train, label_train), (img_test, label_test) = cifar10.load_data()\n",
    "label_train = to_categorical(label_train, num_classes=10)\n",
    "label_test = to_categorical(label_test, num_classes=10)\n",
    "img_train = img_train.astype('float32')\n",
    "img_test = img_test.astype('float32')\n",
    "img_train /= 255\n",
    "img_test /= 255"
   ],
   "metadata": {
    "id": "WCtNtIRCHHxM",
    "executionInfo": {
     "status": "ok",
     "timestamp": 1651584628546,
     "user_tz": -120,
     "elapsed": 1471,
     "user": {
      "displayName": "Máté Meglécz",
      "userId": "07251541339499465296"
     }
    },
    "pycharm": {
     "name": "#%%\n"
    }
   },
   "execution_count": 9,
   "outputs": []
  },
  {
   "cell_type": "code",
   "source": [
    "config = Configuration(2, ActivationType.relu, PoolingTypes.avg_pooling, 2, 151, ActivationType.relu, 42, ActivationType.softmax, 0.6599541350938929, OptimizerType.sgd, 0.020280410342938485, 3, 32)\n",
    "res = cnn(config, img_train, img_test, label_train, label_test)\n",
    "\n",
    "print(res)"
   ],
   "metadata": {
    "colab": {
     "base_uri": "https://localhost:8080/"
    },
    "id": "kcM9yC8ZPr-O",
    "executionInfo": {
     "status": "ok",
     "timestamp": 1651598863331,
     "user_tz": -120,
     "elapsed": 206926,
     "user": {
      "displayName": "Máté Meglécz",
      "userId": "07251541339499465296"
     }
    },
    "outputId": "c60d21ba-e55a-43e7-d250-eafe26f077f5",
    "pycharm": {
     "name": "#%%\n"
    }
   },
   "execution_count": 27,
   "outputs": [
    {
     "name": "stderr",
     "output_type": "stream",
     "text": [
      "INFO:plaidml:Opening device \"opencl_amd_ellesmere.0\"\n"
     ]
    },
    {
     "name": "stdout",
     "output_type": "stream",
     "text": [
      "Epoch 1/3\n",
      " - 24s - loss: 1.5788 - acc: 0.4327\n",
      "Epoch 2/3\n",
      " - 15s - loss: 1.2063 - acc: 0.5717\n",
      "Epoch 3/3\n",
      " - 15s - loss: 0.9899 - acc: 0.6492\n",
      "10000/10000 [==============================] - 4s 418us/step\n",
      "1.0704704772949218\n"
     ]
    }
   ]
  },
  {
   "cell_type": "markdown",
   "source": [
    "# Genetic Algorithm"
   ],
   "metadata": {
    "id": "xURpGO8uSBnS",
    "pycharm": {
     "name": "#%% md\n"
    }
   }
  },
  {
   "cell_type": "code",
   "source": [
    "class GA_parameters:\n",
    "  population_size = 40\n",
    "  number_of_generations = 25\n",
    "  mutation_rate = 0.3\n",
    "  crossover_rate = 0.8\n",
    "  parameters_number = 13\n",
    "  elite_rate = 0.1"
   ],
   "metadata": {
    "id": "mp90iQqNTti1",
    "executionInfo": {
     "status": "ok",
     "timestamp": 1651595244176,
     "user_tz": -120,
     "elapsed": 304,
     "user": {
      "displayName": "Máté Meglécz",
      "userId": "07251541339499465296"
     }
    },
    "pycharm": {
     "name": "#%%\n"
    }
   },
   "execution_count": 10,
   "outputs": []
  },
  {
   "cell_type": "code",
   "source": [
    "def fitness(population):\n",
    "  loss_values = np.empty((len(population), 2), float)\n",
    "  \n",
    "  fitness_values = [0 for _ in range(len(population))]\n",
    "  for j in range(len(population)):\n",
    "    loss_values[j][0] = j\n",
    "    loss_values[j][1] = population[j].loss\n",
    "\n",
    "  loss_sorted = loss_values[loss_values[:, 1].argsort()]\n",
    "\n",
    "  sp = 2#loss_sorted[0][1] - loss_sorted[-1][1]\n",
    "  for j in range(len(population), 0, -1):\n",
    "    fitness = 2-sp + 2 * (sp - 1) * (j - 1) / (len(population) - 1)\n",
    "    fitness_values[int(loss_sorted[len(population)-j][0])] = fitness\n",
    "    population[int(loss_sorted[len(population)-j][0])].fitness = fitness\n",
    "\n",
    "  return fitness_values"
   ],
   "metadata": {
    "id": "FSnmOnBHTPUW",
    "executionInfo": {
     "status": "ok",
     "timestamp": 1651601374741,
     "user_tz": -120,
     "elapsed": 626,
     "user": {
      "displayName": "Máté Meglécz",
      "userId": "07251541339499465296"
     }
    },
    "pycharm": {
     "name": "#%%\n"
    }
   },
   "execution_count": 11,
   "outputs": []
  },
  {
   "cell_type": "code",
   "source": [
    "def select_parents(fitness_values, population):\n",
    "  selected_parent_idx = [0 for _ in range(GA_parameters.population_size)]\n",
    "  fitness_tuples = [(i, fitness_values[i]) for i in range(GA_parameters.population_size)]\n",
    "  sorted_fitnesses = sorted(fitness_tuples, key=lambda tup: tup[1])\n",
    "  print(sorted_fitnesses)\n",
    "  #sorted_fitnesses = sorted_fitnesses[::-1]\n",
    "  print(sorted_fitnesses)\n",
    "  fitness_sum = sum(fitness_values)\n",
    "  distance = fitness_sum / GA_parameters.population_size\n",
    "  shift = random.uniform(0, distance)\n",
    "\n",
    "  borders = [0 for _ in range(GA_parameters.population_size)]\n",
    "\n",
    "  for i in range(GA_parameters.population_size):\n",
    "    new_border = shift + i * distance\n",
    "    borders[i] = new_border\n",
    "\n",
    "  for border_id in range(len(borders)):\n",
    "    i = 0\n",
    "    roulette_sum = sorted_fitnesses[i][1]\n",
    "    while roulette_sum < borders[border_id]:\n",
    "      i = i + 1\n",
    "      roulette_sum = roulette_sum + sorted_fitnesses[i][1]\n",
    "\n",
    "    selected_parent_idx[border_id] = sorted_fitnesses[i][0]\n",
    "\n",
    "  return selected_parent_idx"
   ],
   "metadata": {
    "id": "3tfWegsAS2p1",
    "executionInfo": {
     "status": "ok",
     "timestamp": 1651602384972,
     "user_tz": -120,
     "elapsed": 275,
     "user": {
      "displayName": "Máté Meglécz",
      "userId": "07251541339499465296"
     }
    },
    "pycharm": {
     "name": "#%%\n"
    }
   },
   "execution_count": 12,
   "outputs": []
  },
  {
   "cell_type": "code",
   "execution_count": 13,
   "outputs": [],
   "source": [
    "def crossover_blend(p1, p2, round_value):\n",
    "    c1 = p1\n",
    "    c2 = p2\n",
    "\n",
    "    r = random.uniform(0, 1)\n",
    "    c1 = p1 + r * (p2 - p1)\n",
    "    c2 = p2 - r * (p2 - p1)\n",
    "\n",
    "    if round_value:\n",
    "      c1 = round(c1)\n",
    "      c2 = round(c2)\n",
    "\n",
    "    return c1, c2\n"
   ],
   "metadata": {
    "collapsed": false,
    "pycharm": {
     "name": "#%%\n"
    }
   }
  },
  {
   "cell_type": "code",
   "execution_count": 14,
   "outputs": [],
   "source": [
    "def crossover_operation(p1, p2):\n",
    "    prob = 0.5\n",
    "    c1 = copy.deepcopy(p1)\n",
    "    c2 = copy.deepcopy(p2)\n",
    "\n",
    "    if random.uniform(0,1) < prob:\n",
    "      c1.convulution_kernel_size, c2.convulution_kernel_size = crossover_blend(p1.convulution_kernel_size, p2.convulution_kernel_size, True)\n",
    "    if random.uniform(0,1) < prob:\n",
    "      c1.convulution_act, c2.convulution_act = p2.convulution_act, p1.convulution_act\n",
    "    if random.uniform(0,1) < prob:\n",
    "      c1.pooling_layer_type, c2.pooling_layer_type = p2.pooling_layer_type, p1.pooling_layer_type\n",
    "    if random.uniform(0,1) < prob:\n",
    "      c1.pooling_layer_kernel_size, c2.pooling_layer_kernel_size = crossover_blend(p1.pooling_layer_kernel_size, p2.pooling_layer_kernel_size, True)\n",
    "    if random.uniform(0,1) < prob:\n",
    "      c1.first_dense_layer_neurons, c2.first_dense_layer_neurons = crossover_blend(p1.first_dense_layer_neurons, p2.first_dense_layer_neurons, True)\n",
    "    if random.uniform(0,1) < prob:\n",
    "      c1.first_dense_act, c2.first_dense_act = p2.first_dense_act, p1.first_dense_act\n",
    "    if random.uniform(0,1) < prob:\n",
    "      c1.second_dense_layer_neurons, c2.second_dense_layer_neurons = crossover_blend(p1.second_dense_layer_neurons, p2.second_dense_layer_neurons, True)\n",
    "    if random.uniform(0,1) < prob:\n",
    "      c1.second_dense_act, c2.second_dense_act = p2.second_dense_act, p1.second_dense_act\n",
    "    if random.uniform(0,1) < prob:\n",
    "      c1.dropout_rate, c2.dropout_rate = crossover_blend(p1.dropout_rate, p2.dropout_rate, False)\n",
    "    if random.uniform(0,1) < prob:\n",
    "      c1.optimizer_type, c2.optimizer_type = p2.optimizer_type, p1.optimizer_type\n",
    "    if random.uniform(0,1) < prob:\n",
    "      c1.learning_rate, c2.learning_rate = crossover_blend(p1.learning_rate, p2.learning_rate, False)\n",
    "    if random.uniform(0,1) < prob:\n",
    "      c1.epochs, c2.epochs = crossover_blend(p1.epochs, p2.epochs, True)\n",
    "    if random.uniform(0,1) < prob:\n",
    "      c1.batch_size, c2.batch_size = p2.batch_size, p1.batch_size\n",
    "\n",
    "    c1.fitness = 0\n",
    "    c2.fitness = 0\n",
    "    c1.loss = None\n",
    "    c2.loss = None\n",
    "    return c1, c2"
   ],
   "metadata": {
    "collapsed": false,
    "pycharm": {
     "name": "#%%\n"
    }
   }
  },
  {
   "cell_type": "code",
   "source": [
    "def pair_exists(pairs, candidate):\n",
    "  for p in pairs:\n",
    "    if p == candidate or p == candidate[::-1]:\n",
    "      return True\n",
    "  return False\n",
    "\n",
    "def crossover(population, parents):\n",
    "  parent_pair_number = round(len(population) * GA_parameters.crossover_rate)\n",
    "\n",
    "  combinations = len(set(parents)) * (len(set(parents))-1)\n",
    "  if combinations < parent_pair_number:\n",
    "      parent_pair_number = combinations\n",
    "\n",
    "  pairs = [[0, 0] for _ in range(parent_pair_number)]\n",
    "  for i in range(parent_pair_number):\n",
    "    a = random.choice(parents)\n",
    "    leftover = parents.copy()\n",
    "    leftover = list(filter(lambda x: x != a, leftover))\n",
    "\n",
    "    b = random.choice(leftover)\n",
    "    random_pair = [a, b]\n",
    "    while random_pair[0] == random_pair[1] and pair_exists(pairs, random_pair):\n",
    "      a = random.choice(parents)\n",
    "      leftover = parents\n",
    "      leftover = list(filter(lambda x: x != a, leftover))\n",
    "      print(leftover)\n",
    "      b = random.choice(leftover)\n",
    "      random_pair = [a, b]\n",
    "\n",
    "    pairs[i] = random_pair\n",
    "\n",
    "  childs = []\n",
    "\n",
    "  for p in pairs:\n",
    "    c1, c2 = crossover_operation(population[p[0]], population[p[1]])\n",
    "    childs.append(c1)\n",
    "    childs.append(c2)\n",
    "\n",
    "  return childs\n"
   ],
   "metadata": {
    "id": "m8-sgw5ISQuL",
    "pycharm": {
     "name": "#%%\n"
    }
   },
   "execution_count": 15,
   "outputs": []
  },
  {
   "cell_type": "code",
   "execution_count": 16,
   "outputs": [],
   "source": [
    "def mutate(x, sigma, round_value, bounds):\n",
    "    res = x + random.gauss(0, sigma)\n",
    "    if round_value:\n",
    "        res = round(res)\n",
    "    if max(bounds) > res > min(bounds):\n",
    "        return res\n",
    "\n",
    "    return x"
   ],
   "metadata": {
    "collapsed": false,
    "pycharm": {
     "name": "#%%\n"
    }
   }
  },
  {
   "cell_type": "code",
   "source": [
    "def mutation_operation(population):\n",
    "    prob = 0.5\n",
    "    choosen = random.sample(range(0, len(population)), round(len(population) * GA_parameters.mutation_rate))\n",
    "    mutated = []\n",
    "    for p_id in choosen:\n",
    "        p = population[p_id]\n",
    "        m = copy.deepcopy(p)\n",
    "\n",
    "        if random.uniform(0,1) < prob:\n",
    "          m.convulution_kernel_size = mutate(p.convulution_kernel_size, 1, True, Configuration.kernel_size_set)\n",
    "        if random.uniform(0,1) < prob:\n",
    "          m.convulution_act = random.choice(Configuration.act_set)\n",
    "        if random.uniform(0,1) < prob:\n",
    "          m.pooling_layer_type = random.choice(Configuration.pooling_set)\n",
    "        if random.uniform(0,1) < prob:\n",
    "          m.pooling_layer_kernel_size = mutate(p.pooling_layer_kernel_size, 1, True, Configuration.kernel_size_set)\n",
    "        if random.uniform(0,1) < prob:\n",
    "          m.first_dense_layer_neurons = mutate(p.first_dense_layer_neurons, 10, True, Configuration.neuron_set)\n",
    "        if random.uniform(0,1) < prob:\n",
    "          m.first_dense_act = random.choice(Configuration.act_set)\n",
    "        if random.uniform(0,1) < prob:\n",
    "          m.second_dense_layer_neurons = mutate(p.second_dense_layer_neurons, 10, True, Configuration.neuron_set)\n",
    "        if random.uniform(0,1) < prob:\n",
    "          m.second_dense_act = random.choice(Configuration.act_set)\n",
    "        if random.uniform(0,1) < prob:\n",
    "          m.dropout_rate = mutate(p.dropout_rate, 0.05, False, [0, 1])\n",
    "        if random.uniform(0,1) < prob:\n",
    "          m.optimizer_type = random.choice(Configuration.optimizer_set)\n",
    "        if random.uniform(0,1) < prob:\n",
    "          m.learning_rate = mutate(p.learning_rate, 0.01, False, [0.0001, 0.1])\n",
    "        if random.uniform(0,1) < prob:\n",
    "          m.epochs = mutate(p.epochs, 1, True, [1, 20])\n",
    "        if random.uniform(0,1) < prob:\n",
    "          m.batch_size = random.choice(Configuration.batch_size_set)\n",
    "\n",
    "        m.fitness = 0\n",
    "        m.loss = None\n",
    "        mutated.append(m)\n",
    "    return mutated"
   ],
   "metadata": {
    "id": "498d9MhXSmKj",
    "pycharm": {
     "name": "#%%\n"
    }
   },
   "execution_count": 17,
   "outputs": []
  },
  {
   "cell_type": "code",
   "source": [
    "def select_new_population(population, childs, mutated):\n",
    "    sorted_pop = sorted(population, key=lambda x: x.fitness, reverse=True)\n",
    "    new_population = sorted_pop[0 : round(len(population) * GA_parameters.elite_rate)]\n",
    "    leftover = sorted_pop[round(len(population) * GA_parameters.elite_rate)::]\n",
    "\n",
    "    leftover = leftover + childs + mutated\n",
    "\n",
    "    def proc(i):\n",
    "        loss = cnn(leftover[i], img_train, img_test, label_train, label_test)\n",
    "        return loss\n",
    "\n",
    "    losses = Parallel(n_jobs=3)(delayed(proc)(i) for i in range(len(leftover)))\n",
    "    for j in range(len(leftover)):\n",
    "      leftover[j].loss = losses[j]\n",
    "\n",
    "    fitness_values = fitness(leftover)\n",
    "    for j in range(len(leftover)):\n",
    "      leftover[j].fitness = fitness_values[j]\n",
    "\n",
    "    leftover_chosen = sorted(leftover, key=lambda x: x.fitness, reverse=True)[0 : GA_parameters.population_size - round(len(population) * GA_parameters.elite_rate)]\n",
    "\n",
    "    new_population = new_population + leftover_chosen\n",
    "\n",
    "    return new_population"
   ],
   "metadata": {
    "id": "IzL3-q49Sr2a",
    "pycharm": {
     "name": "#%%\n"
    }
   },
   "execution_count": 18,
   "outputs": []
  },
  {
   "cell_type": "code",
   "source": [
    "population = [create_random() for a in range(GA_parameters.population_size)]\n",
    "for j in range(GA_parameters.population_size):\n",
    "  print(vars(population[j]))\n",
    "\n",
    "def process(i):\n",
    "    loss = cnn(population[i], img_train, img_test, label_train, label_test)\n",
    "    #population[i].loss = loss\n",
    "    return loss\n",
    "\n",
    "start = time.perf_counter()\n",
    "losses = Parallel(n_jobs=3)(delayed(process)(i) for i in range(GA_parameters.population_size))\n",
    "end = time.perf_counter()\n",
    "for j in range(GA_parameters.population_size):\n",
    "  print(vars(population[j]))\n"
   ],
   "metadata": {
    "colab": {
     "base_uri": "https://localhost:8080/"
    },
    "id": "zVyMN4g6S0Kp",
    "executionInfo": {
     "status": "ok",
     "timestamp": 1651599654021,
     "user_tz": -120,
     "elapsed": 699870,
     "user": {
      "displayName": "Máté Meglécz",
      "userId": "07251541339499465296"
     }
    },
    "outputId": "10072ac8-432a-4dd3-a98a-346b901de80a",
    "pycharm": {
     "name": "#%%\n"
    }
   },
   "execution_count": 13,
   "outputs": [
    {
     "ename": "NameError",
     "evalue": "name 'create_random' is not defined",
     "output_type": "error",
     "traceback": [
      "\u001B[1;31m---------------------------------------------------------------------------\u001B[0m",
      "\u001B[1;31mNameError\u001B[0m                                 Traceback (most recent call last)",
      "Input \u001B[1;32mIn [13]\u001B[0m, in \u001B[0;36m<cell line: 1>\u001B[1;34m()\u001B[0m\n\u001B[1;32m----> 1\u001B[0m population \u001B[38;5;241m=\u001B[39m [create_random() \u001B[38;5;28;01mfor\u001B[39;00m a \u001B[38;5;129;01min\u001B[39;00m \u001B[38;5;28mrange\u001B[39m(GA_parameters\u001B[38;5;241m.\u001B[39mpopulation_size)]\n\u001B[0;32m      2\u001B[0m \u001B[38;5;28;01mfor\u001B[39;00m j \u001B[38;5;129;01min\u001B[39;00m \u001B[38;5;28mrange\u001B[39m(GA_parameters\u001B[38;5;241m.\u001B[39mpopulation_size):\n\u001B[0;32m      3\u001B[0m   \u001B[38;5;28mprint\u001B[39m(\u001B[38;5;28mvars\u001B[39m(population[j]))\n",
      "Input \u001B[1;32mIn [13]\u001B[0m, in \u001B[0;36m<listcomp>\u001B[1;34m(.0)\u001B[0m\n\u001B[1;32m----> 1\u001B[0m population \u001B[38;5;241m=\u001B[39m [\u001B[43mcreate_random\u001B[49m() \u001B[38;5;28;01mfor\u001B[39;00m a \u001B[38;5;129;01min\u001B[39;00m \u001B[38;5;28mrange\u001B[39m(GA_parameters\u001B[38;5;241m.\u001B[39mpopulation_size)]\n\u001B[0;32m      2\u001B[0m \u001B[38;5;28;01mfor\u001B[39;00m j \u001B[38;5;129;01min\u001B[39;00m \u001B[38;5;28mrange\u001B[39m(GA_parameters\u001B[38;5;241m.\u001B[39mpopulation_size):\n\u001B[0;32m      3\u001B[0m   \u001B[38;5;28mprint\u001B[39m(\u001B[38;5;28mvars\u001B[39m(population[j]))\n",
      "\u001B[1;31mNameError\u001B[0m: name 'create_random' is not defined"
     ]
    }
   ]
  },
  {
   "cell_type": "code",
   "execution_count": 22,
   "outputs": [
    {
     "name": "stdout",
     "output_type": "stream",
     "text": [
      "1500.1381 seconds\n"
     ]
    }
   ],
   "source": [
    "elapsed_time = end-start\n",
    "print(f\"{elapsed_time:0.4f} seconds\")"
   ],
   "metadata": {
    "collapsed": false,
    "pycharm": {
     "name": "#%%\n"
    }
   }
  },
  {
   "cell_type": "code",
   "source": [
    "for j in range(GA_parameters.population_size):\n",
    "  print(population[j].loss)"
   ],
   "metadata": {
    "colab": {
     "base_uri": "https://localhost:8080/"
    },
    "id": "4Y9rBY4Vlrwt",
    "executionInfo": {
     "status": "ok",
     "timestamp": 1651601529094,
     "user_tz": -120,
     "elapsed": 310,
     "user": {
      "displayName": "Máté Meglécz",
      "userId": "07251541339499465296"
     }
    },
    "outputId": "57be8b44-e87b-4d73-deb9-e64ecde0eda1",
    "pycharm": {
     "name": "#%%\n"
    }
   },
   "execution_count": 27,
   "outputs": [
    {
     "name": "stdout",
     "output_type": "stream",
     "text": [
      "2.309623580169678\n",
      "8.870509118652343\n",
      "6.1983064155578615\n",
      "2.3126065975189207\n",
      "4.875065173339844\n",
      "2.3059911834716798\n",
      "11.613233776855468\n",
      "7.52274270324707\n",
      "2.309860329055786\n",
      "2.304917765045166\n"
     ]
    }
   ]
  },
  {
   "cell_type": "code",
   "source": [
    "for j in range(GA_parameters.population_size):\n",
    "  population[j].loss = losses[j]\n",
    "  #print(vars(population[j]))\n",
    "\n",
    "fitness_values = fitness(population)\n",
    "for j in range(GA_parameters.population_size):\n",
    "    population[j].fitness = fitness_values[j]\n",
    "\n",
    "print(fitness_values)"
   ],
   "metadata": {
    "colab": {
     "base_uri": "https://localhost:8080/"
    },
    "id": "WrYwtuAT1cT_",
    "executionInfo": {
     "status": "ok",
     "timestamp": 1651601521155,
     "user_tz": -120,
     "elapsed": 329,
     "user": {
      "displayName": "Máté Meglécz",
      "userId": "07251541339499465296"
     }
    },
    "outputId": "ea93a152-522c-4bb7-96be-30dae684679c",
    "pycharm": {
     "name": "#%%\n"
    }
   },
   "execution_count": 46,
   "outputs": [
    {
     "name": "stdout",
     "output_type": "stream",
     "text": [
      "[1.5555555555555556, 0.2222222222222222, 0.6666666666666666, 1.1111111111111112, 0.8888888888888888, 1.7777777777777777, 0.0, 0.4444444444444444, 1.3333333333333333, 2.0]\n"
     ]
    }
   ]
  },
  {
   "cell_type": "code",
   "execution_count": 56,
   "outputs": [
    {
     "name": "stdout",
     "output_type": "stream",
     "text": [
      "[(6, 0.0), (1, 0.2222222222222222), (7, 0.4444444444444444), (2, 0.6666666666666666), (4, 0.8888888888888888), (3, 1.1111111111111112), (8, 1.3333333333333333), (0, 1.5555555555555556), (5, 1.7777777777777777), (9, 2.0)]\n",
      "[(6, 0.0), (1, 0.2222222222222222), (7, 0.4444444444444444), (2, 0.6666666666666666), (4, 0.8888888888888888), (3, 1.1111111111111112), (8, 1.3333333333333333), (0, 1.5555555555555556), (5, 1.7777777777777777), (9, 2.0)]\n"
     ]
    }
   ],
   "source": [
    "parents = select_parents(fitness_values, population)"
   ],
   "metadata": {
    "collapsed": false,
    "pycharm": {
     "name": "#%%\n"
    }
   }
  },
  {
   "cell_type": "code",
   "execution_count": 81,
   "outputs": [
    {
     "name": "stdout",
     "output_type": "stream",
     "text": [
      "{'convulution_kernel_size': 3, 'convulution_act': <ActivationType.relu: 'relu'>, 'pooling_layer_type': <PoolingTypes.max_pooling: 2>, 'pooling_layer_kernel_size': 1, 'first_dense_layer_neurons': 207, 'first_dense_act': <ActivationType.relu: 'relu'>, 'second_dense_layer_neurons': 129, 'second_dense_act': <ActivationType.softmax: 'softmax'>, 'dropout_rate': 0.6897607009757344, 'optimizer_type': <OptimizerType.adam: 1>, 'learning_rate': 0.0951055041134371, 'epochs': 3, 'batch_size': 16, 'loss': 2.309623580169678, 'fitness': 1.5555555555555556}\n"
     ]
    }
   ],
   "source": [
    "childs = crossover(population, parents)\n",
    "print(vars(childs[0]))"
   ],
   "metadata": {
    "collapsed": false,
    "pycharm": {
     "name": "#%%\n"
    }
   }
  },
  {
   "cell_type": "code",
   "execution_count": 92,
   "outputs": [
    {
     "name": "stdout",
     "output_type": "stream",
     "text": [
      "{'convulution_kernel_size': 3, 'convulution_act': <ActivationType.relu: 'relu'>, 'pooling_layer_type': <PoolingTypes.avg_pooling: 1>, 'pooling_layer_kernel_size': 2, 'first_dense_layer_neurons': 133, 'first_dense_act': <ActivationType.relu: 'relu'>, 'second_dense_layer_neurons': 126, 'second_dense_act': <ActivationType.relu: 'relu'>, 'dropout_rate': 0.39073201474356, 'optimizer_type': <OptimizerType.adam: 1>, 'learning_rate': 0.053857042637628076, 'epochs': 4, 'batch_size': 16, 'loss': None, 'fitness': 0}\n"
     ]
    }
   ],
   "source": [
    "mutated = mutation_operation(population)\n",
    "print(vars(mutated[0]))"
   ],
   "metadata": {
    "collapsed": false,
    "pycharm": {
     "name": "#%%\n"
    }
   }
  },
  {
   "cell_type": "code",
   "execution_count": 114,
   "outputs": [
    {
     "ename": "UnboundLocalError",
     "evalue": "local variable 'opt' referenced before assignment",
     "output_type": "error",
     "traceback": [
      "\u001B[1;31m---------------------------------------------------------------------------\u001B[0m",
      "\u001B[1;31m_RemoteTraceback\u001B[0m                          Traceback (most recent call last)",
      "\u001B[1;31m_RemoteTraceback\u001B[0m: \n\"\"\"\nTraceback (most recent call last):\n  File \"C:\\ProgramData\\Anaconda3\\envs\\gpu2\\lib\\site-packages\\joblib\\externals\\loky\\process_executor.py\", line 436, in _process_worker\n    r = call_item()\n  File \"C:\\ProgramData\\Anaconda3\\envs\\gpu2\\lib\\site-packages\\joblib\\externals\\loky\\process_executor.py\", line 288, in __call__\n    return self.fn(*self.args, **self.kwargs)\n  File \"C:\\ProgramData\\Anaconda3\\envs\\gpu2\\lib\\site-packages\\joblib\\_parallel_backends.py\", line 595, in __call__\n    return self.func(*args, **kwargs)\n  File \"C:\\ProgramData\\Anaconda3\\envs\\gpu2\\lib\\site-packages\\joblib\\parallel.py\", line 262, in __call__\n    return [func(*args, **kwargs)\n  File \"C:\\ProgramData\\Anaconda3\\envs\\gpu2\\lib\\site-packages\\joblib\\parallel.py\", line 262, in <listcomp>\n    return [func(*args, **kwargs)\n  File \"C:\\Users\\Máté\\AppData\\Local\\Temp\\ipykernel_44620\\2711574291.py\", line 9, in proc\n  File \"C:\\Users\\Máté\\AppData\\Local\\Temp\\ipykernel_44620\\1184460440.py\", line 26, in cnn\nUnboundLocalError: local variable 'opt' referenced before assignment\n\"\"\"",
      "\nThe above exception was the direct cause of the following exception:\n",
      "\u001B[1;31mUnboundLocalError\u001B[0m                         Traceback (most recent call last)",
      "Input \u001B[1;32mIn [114]\u001B[0m, in \u001B[0;36m<cell line: 1>\u001B[1;34m()\u001B[0m\n\u001B[1;32m----> 1\u001B[0m new_population \u001B[38;5;241m=\u001B[39m \u001B[43mselect_new_population\u001B[49m\u001B[43m(\u001B[49m\u001B[43mpopulation\u001B[49m\u001B[43m,\u001B[49m\u001B[43m \u001B[49m\u001B[43mchilds\u001B[49m\u001B[43m,\u001B[49m\u001B[43m \u001B[49m\u001B[43mmutated\u001B[49m\u001B[43m)\u001B[49m\n\u001B[0;32m      2\u001B[0m \u001B[38;5;28mprint\u001B[39m(new_population)\n",
      "Input \u001B[1;32mIn [112]\u001B[0m, in \u001B[0;36mselect_new_population\u001B[1;34m(population, childs, mutated)\u001B[0m\n\u001B[0;32m      9\u001B[0m     loss \u001B[38;5;241m=\u001B[39m cnn(leftover[i], img_train, img_test, label_train, label_test)\n\u001B[0;32m     10\u001B[0m     \u001B[38;5;28;01mreturn\u001B[39;00m loss\n\u001B[1;32m---> 12\u001B[0m losses \u001B[38;5;241m=\u001B[39m \u001B[43mParallel\u001B[49m\u001B[43m(\u001B[49m\u001B[43mn_jobs\u001B[49m\u001B[38;5;241;43m=\u001B[39;49m\u001B[38;5;241;43m3\u001B[39;49m\u001B[43m)\u001B[49m\u001B[43m(\u001B[49m\u001B[43mdelayed\u001B[49m\u001B[43m(\u001B[49m\u001B[43mproc\u001B[49m\u001B[43m)\u001B[49m\u001B[43m(\u001B[49m\u001B[43mi\u001B[49m\u001B[43m)\u001B[49m\u001B[43m \u001B[49m\u001B[38;5;28;43;01mfor\u001B[39;49;00m\u001B[43m \u001B[49m\u001B[43mi\u001B[49m\u001B[43m \u001B[49m\u001B[38;5;129;43;01min\u001B[39;49;00m\u001B[43m \u001B[49m\u001B[38;5;28;43mrange\u001B[39;49m\u001B[43m(\u001B[49m\u001B[38;5;28;43mlen\u001B[39;49m\u001B[43m(\u001B[49m\u001B[43mleftover\u001B[49m\u001B[43m)\u001B[49m\u001B[43m)\u001B[49m\u001B[43m)\u001B[49m\n\u001B[0;32m     13\u001B[0m \u001B[38;5;28;01mfor\u001B[39;00m j \u001B[38;5;129;01min\u001B[39;00m \u001B[38;5;28mrange\u001B[39m(\u001B[38;5;28mlen\u001B[39m(leftover)):\n\u001B[0;32m     14\u001B[0m   leftover[j]\u001B[38;5;241m.\u001B[39mloss \u001B[38;5;241m=\u001B[39m losses[j]\n",
      "File \u001B[1;32mC:\\ProgramData\\Anaconda3\\envs\\gpu2\\lib\\site-packages\\joblib\\parallel.py:1056\u001B[0m, in \u001B[0;36mParallel.__call__\u001B[1;34m(self, iterable)\u001B[0m\n\u001B[0;32m   1053\u001B[0m     \u001B[38;5;28mself\u001B[39m\u001B[38;5;241m.\u001B[39m_iterating \u001B[38;5;241m=\u001B[39m \u001B[38;5;28;01mFalse\u001B[39;00m\n\u001B[0;32m   1055\u001B[0m \u001B[38;5;28;01mwith\u001B[39;00m \u001B[38;5;28mself\u001B[39m\u001B[38;5;241m.\u001B[39m_backend\u001B[38;5;241m.\u001B[39mretrieval_context():\n\u001B[1;32m-> 1056\u001B[0m     \u001B[38;5;28;43mself\u001B[39;49m\u001B[38;5;241;43m.\u001B[39;49m\u001B[43mretrieve\u001B[49m\u001B[43m(\u001B[49m\u001B[43m)\u001B[49m\n\u001B[0;32m   1057\u001B[0m \u001B[38;5;66;03m# Make sure that we get a last message telling us we are done\u001B[39;00m\n\u001B[0;32m   1058\u001B[0m elapsed_time \u001B[38;5;241m=\u001B[39m time\u001B[38;5;241m.\u001B[39mtime() \u001B[38;5;241m-\u001B[39m \u001B[38;5;28mself\u001B[39m\u001B[38;5;241m.\u001B[39m_start_time\n",
      "File \u001B[1;32mC:\\ProgramData\\Anaconda3\\envs\\gpu2\\lib\\site-packages\\joblib\\parallel.py:935\u001B[0m, in \u001B[0;36mParallel.retrieve\u001B[1;34m(self)\u001B[0m\n\u001B[0;32m    933\u001B[0m \u001B[38;5;28;01mtry\u001B[39;00m:\n\u001B[0;32m    934\u001B[0m     \u001B[38;5;28;01mif\u001B[39;00m \u001B[38;5;28mgetattr\u001B[39m(\u001B[38;5;28mself\u001B[39m\u001B[38;5;241m.\u001B[39m_backend, \u001B[38;5;124m'\u001B[39m\u001B[38;5;124msupports_timeout\u001B[39m\u001B[38;5;124m'\u001B[39m, \u001B[38;5;28;01mFalse\u001B[39;00m):\n\u001B[1;32m--> 935\u001B[0m         \u001B[38;5;28mself\u001B[39m\u001B[38;5;241m.\u001B[39m_output\u001B[38;5;241m.\u001B[39mextend(\u001B[43mjob\u001B[49m\u001B[38;5;241;43m.\u001B[39;49m\u001B[43mget\u001B[49m\u001B[43m(\u001B[49m\u001B[43mtimeout\u001B[49m\u001B[38;5;241;43m=\u001B[39;49m\u001B[38;5;28;43mself\u001B[39;49m\u001B[38;5;241;43m.\u001B[39;49m\u001B[43mtimeout\u001B[49m\u001B[43m)\u001B[49m)\n\u001B[0;32m    936\u001B[0m     \u001B[38;5;28;01melse\u001B[39;00m:\n\u001B[0;32m    937\u001B[0m         \u001B[38;5;28mself\u001B[39m\u001B[38;5;241m.\u001B[39m_output\u001B[38;5;241m.\u001B[39mextend(job\u001B[38;5;241m.\u001B[39mget())\n",
      "File \u001B[1;32mC:\\ProgramData\\Anaconda3\\envs\\gpu2\\lib\\site-packages\\joblib\\_parallel_backends.py:542\u001B[0m, in \u001B[0;36mLokyBackend.wrap_future_result\u001B[1;34m(future, timeout)\u001B[0m\n\u001B[0;32m    539\u001B[0m \u001B[38;5;124;03m\"\"\"Wrapper for Future.result to implement the same behaviour as\u001B[39;00m\n\u001B[0;32m    540\u001B[0m \u001B[38;5;124;03mAsyncResults.get from multiprocessing.\"\"\"\u001B[39;00m\n\u001B[0;32m    541\u001B[0m \u001B[38;5;28;01mtry\u001B[39;00m:\n\u001B[1;32m--> 542\u001B[0m     \u001B[38;5;28;01mreturn\u001B[39;00m \u001B[43mfuture\u001B[49m\u001B[38;5;241;43m.\u001B[39;49m\u001B[43mresult\u001B[49m\u001B[43m(\u001B[49m\u001B[43mtimeout\u001B[49m\u001B[38;5;241;43m=\u001B[39;49m\u001B[43mtimeout\u001B[49m\u001B[43m)\u001B[49m\n\u001B[0;32m    543\u001B[0m \u001B[38;5;28;01mexcept\u001B[39;00m CfTimeoutError \u001B[38;5;28;01mas\u001B[39;00m e:\n\u001B[0;32m    544\u001B[0m     \u001B[38;5;28;01mraise\u001B[39;00m \u001B[38;5;167;01mTimeoutError\u001B[39;00m \u001B[38;5;28;01mfrom\u001B[39;00m \u001B[38;5;21;01me\u001B[39;00m\n",
      "File \u001B[1;32mC:\\ProgramData\\Anaconda3\\envs\\gpu2\\lib\\concurrent\\futures\\_base.py:446\u001B[0m, in \u001B[0;36mFuture.result\u001B[1;34m(self, timeout)\u001B[0m\n\u001B[0;32m    444\u001B[0m     \u001B[38;5;28;01mraise\u001B[39;00m CancelledError()\n\u001B[0;32m    445\u001B[0m \u001B[38;5;28;01melif\u001B[39;00m \u001B[38;5;28mself\u001B[39m\u001B[38;5;241m.\u001B[39m_state \u001B[38;5;241m==\u001B[39m FINISHED:\n\u001B[1;32m--> 446\u001B[0m     \u001B[38;5;28;01mreturn\u001B[39;00m \u001B[38;5;28;43mself\u001B[39;49m\u001B[38;5;241;43m.\u001B[39;49m\u001B[43m__get_result\u001B[49m\u001B[43m(\u001B[49m\u001B[43m)\u001B[49m\n\u001B[0;32m    447\u001B[0m \u001B[38;5;28;01melse\u001B[39;00m:\n\u001B[0;32m    448\u001B[0m     \u001B[38;5;28;01mraise\u001B[39;00m \u001B[38;5;167;01mTimeoutError\u001B[39;00m()\n",
      "File \u001B[1;32mC:\\ProgramData\\Anaconda3\\envs\\gpu2\\lib\\concurrent\\futures\\_base.py:391\u001B[0m, in \u001B[0;36mFuture.__get_result\u001B[1;34m(self)\u001B[0m\n\u001B[0;32m    389\u001B[0m \u001B[38;5;28;01mif\u001B[39;00m \u001B[38;5;28mself\u001B[39m\u001B[38;5;241m.\u001B[39m_exception:\n\u001B[0;32m    390\u001B[0m     \u001B[38;5;28;01mtry\u001B[39;00m:\n\u001B[1;32m--> 391\u001B[0m         \u001B[38;5;28;01mraise\u001B[39;00m \u001B[38;5;28mself\u001B[39m\u001B[38;5;241m.\u001B[39m_exception\n\u001B[0;32m    392\u001B[0m     \u001B[38;5;28;01mfinally\u001B[39;00m:\n\u001B[0;32m    393\u001B[0m         \u001B[38;5;66;03m# Break a reference cycle with the exception in self._exception\u001B[39;00m\n\u001B[0;32m    394\u001B[0m         \u001B[38;5;28mself\u001B[39m \u001B[38;5;241m=\u001B[39m \u001B[38;5;28;01mNone\u001B[39;00m\n",
      "\u001B[1;31mUnboundLocalError\u001B[0m: local variable 'opt' referenced before assignment"
     ]
    }
   ],
   "source": [
    "new_population = select_new_population(population, childs, mutated)\n",
    "print(new_population)"
   ],
   "metadata": {
    "collapsed": false,
    "pycharm": {
     "name": "#%%\n"
    }
   }
  },
  {
   "cell_type": "code",
   "execution_count": 19,
   "outputs": [],
   "source": [
    "def main(population):\n",
    "    population = [create_random() for a in range(GA_parameters.population_size)]\n",
    "    for j in range(GA_parameters.population_size):\n",
    "        print(vars(population[j]))\n",
    "\n",
    "    def process(i):\n",
    "      loss = cnn(population[i], img_train, img_test, label_train, label_test)\n",
    "      #population[i].loss = loss\n",
    "      return loss\n",
    "\n",
    "    start = time.perf_counter()\n",
    "    losses = Parallel(n_jobs=3)(delayed(process)(i) for i in range(GA_parameters.population_size))\n",
    "    end = time.perf_counter()\n",
    "    for j in range(GA_parameters.population_size):\n",
    "        print(vars(population[j]))\n",
    "\n",
    "    elapsed_time = end-start\n",
    "    print(f\"{elapsed_time:0.4f} seconds\")\n",
    "\n",
    "    for j in range(GA_parameters.population_size):\n",
    "        population[j].loss = losses[j]\n",
    "        #print(vars(population[j]))\n",
    "\n",
    "    for gen in range(GA_parameters.number_of_generations):\n",
    "        print(gen)\n",
    "        fitness_values = fitness(population)\n",
    "\n",
    "        for j in range(GA_parameters.population_size):\n",
    "            population[j].fitness = fitness_values[j]\n",
    "        print('parents')\n",
    "        parents = select_parents(fitness_values, population)\n",
    "        print('childs')\n",
    "        childs = crossover(population, parents)\n",
    "        print('mutated')\n",
    "        mutated = mutation_operation(population)\n",
    "        print('select_new_population')\n",
    "        population = select_new_population(population, childs, mutated)\n",
    "\n",
    "    return population"
   ],
   "metadata": {
    "collapsed": false,
    "pycharm": {
     "name": "#%%\n"
    }
   }
  },
  {
   "cell_type": "code",
   "execution_count": null,
   "outputs": [
    {
     "name": "stdout",
     "output_type": "stream",
     "text": [
      "{'convulution_kernel_size': 1, 'convulution_act': <ActivationType.softmax: 'softmax'>, 'pooling_layer_type': <PoolingTypes.avg_pooling: 1>, 'pooling_layer_kernel_size': 3, 'first_dense_layer_neurons': 207, 'first_dense_act': <ActivationType.softmax: 'softmax'>, 'second_dense_layer_neurons': 192, 'second_dense_act': <ActivationType.relu: 'relu'>, 'dropout_rate': 0.6731535289823343, 'optimizer_type': <OptimizerType.adam: 1>, 'learning_rate': 0.08641498353190273, 'epochs': 18, 'batch_size': 32, 'loss': None, 'fitness': 0}\n",
      "{'convulution_kernel_size': 3, 'convulution_act': <ActivationType.softmax: 'softmax'>, 'pooling_layer_type': <PoolingTypes.avg_pooling: 1>, 'pooling_layer_kernel_size': 1, 'first_dense_layer_neurons': 90, 'first_dense_act': <ActivationType.softmax: 'softmax'>, 'second_dense_layer_neurons': 27, 'second_dense_act': <ActivationType.relu: 'relu'>, 'dropout_rate': 0.7444165043231127, 'optimizer_type': <OptimizerType.sgd: 2>, 'learning_rate': 0.031048404605935245, 'epochs': 8, 'batch_size': 64, 'loss': None, 'fitness': 0}\n",
      "{'convulution_kernel_size': 2, 'convulution_act': <ActivationType.softmax: 'softmax'>, 'pooling_layer_type': <PoolingTypes.avg_pooling: 1>, 'pooling_layer_kernel_size': 2, 'first_dense_layer_neurons': 9, 'first_dense_act': <ActivationType.softmax: 'softmax'>, 'second_dense_layer_neurons': 1, 'second_dense_act': <ActivationType.softmax: 'softmax'>, 'dropout_rate': 0.15669433092903595, 'optimizer_type': <OptimizerType.sgd: 2>, 'learning_rate': 0.06922441296789009, 'epochs': 2, 'batch_size': 32, 'loss': None, 'fitness': 0}\n",
      "{'convulution_kernel_size': 1, 'convulution_act': <ActivationType.relu: 'relu'>, 'pooling_layer_type': <PoolingTypes.avg_pooling: 1>, 'pooling_layer_kernel_size': 2, 'first_dense_layer_neurons': 77, 'first_dense_act': <ActivationType.relu: 'relu'>, 'second_dense_layer_neurons': 10, 'second_dense_act': <ActivationType.relu: 'relu'>, 'dropout_rate': 0.6634397976342551, 'optimizer_type': <OptimizerType.adam: 1>, 'learning_rate': 0.08143312397333799, 'epochs': 16, 'batch_size': 16, 'loss': None, 'fitness': 0}\n",
      "{'convulution_kernel_size': 2, 'convulution_act': <ActivationType.softmax: 'softmax'>, 'pooling_layer_type': <PoolingTypes.max_pooling: 2>, 'pooling_layer_kernel_size': 3, 'first_dense_layer_neurons': 8, 'first_dense_act': <ActivationType.relu: 'relu'>, 'second_dense_layer_neurons': 1, 'second_dense_act': <ActivationType.softmax: 'softmax'>, 'dropout_rate': 0.2655140982166385, 'optimizer_type': <OptimizerType.adam: 1>, 'learning_rate': 0.052127200604425855, 'epochs': 3, 'batch_size': 64, 'loss': None, 'fitness': 0}\n",
      "{'convulution_kernel_size': 4, 'convulution_act': <ActivationType.relu: 'relu'>, 'pooling_layer_type': <PoolingTypes.avg_pooling: 1>, 'pooling_layer_kernel_size': 3, 'first_dense_layer_neurons': 36, 'first_dense_act': <ActivationType.softmax: 'softmax'>, 'second_dense_layer_neurons': 34, 'second_dense_act': <ActivationType.softmax: 'softmax'>, 'dropout_rate': 0.40611646288401393, 'optimizer_type': <OptimizerType.sgd: 2>, 'learning_rate': 0.0811601209428789, 'epochs': 19, 'batch_size': 16, 'loss': None, 'fitness': 0}\n",
      "{'convulution_kernel_size': 1, 'convulution_act': <ActivationType.softmax: 'softmax'>, 'pooling_layer_type': <PoolingTypes.max_pooling: 2>, 'pooling_layer_kernel_size': 3, 'first_dense_layer_neurons': 258, 'first_dense_act': <ActivationType.relu: 'relu'>, 'second_dense_layer_neurons': 241, 'second_dense_act': <ActivationType.relu: 'relu'>, 'dropout_rate': 0.3280332240991787, 'optimizer_type': <OptimizerType.sgd: 2>, 'learning_rate': 0.010362334885238324, 'epochs': 2, 'batch_size': 16, 'loss': None, 'fitness': 0}\n",
      "{'convulution_kernel_size': 1, 'convulution_act': <ActivationType.relu: 'relu'>, 'pooling_layer_type': <PoolingTypes.avg_pooling: 1>, 'pooling_layer_kernel_size': 3, 'first_dense_layer_neurons': 206, 'first_dense_act': <ActivationType.softmax: 'softmax'>, 'second_dense_layer_neurons': 162, 'second_dense_act': <ActivationType.relu: 'relu'>, 'dropout_rate': 0.8723985943203332, 'optimizer_type': <OptimizerType.adam: 1>, 'learning_rate': 0.013854307598039739, 'epochs': 1, 'batch_size': 64, 'loss': None, 'fitness': 0}\n",
      "{'convulution_kernel_size': 2, 'convulution_act': <ActivationType.relu: 'relu'>, 'pooling_layer_type': <PoolingTypes.avg_pooling: 1>, 'pooling_layer_kernel_size': 2, 'first_dense_layer_neurons': 44, 'first_dense_act': <ActivationType.relu: 'relu'>, 'second_dense_layer_neurons': 15, 'second_dense_act': <ActivationType.relu: 'relu'>, 'dropout_rate': 0.48804928757714083, 'optimizer_type': <OptimizerType.sgd: 2>, 'learning_rate': 0.07379690618715987, 'epochs': 4, 'batch_size': 32, 'loss': None, 'fitness': 0}\n",
      "{'convulution_kernel_size': 3, 'convulution_act': <ActivationType.softmax: 'softmax'>, 'pooling_layer_type': <PoolingTypes.max_pooling: 2>, 'pooling_layer_kernel_size': 4, 'first_dense_layer_neurons': 290, 'first_dense_act': <ActivationType.softmax: 'softmax'>, 'second_dense_layer_neurons': 193, 'second_dense_act': <ActivationType.relu: 'relu'>, 'dropout_rate': 0.752703655839573, 'optimizer_type': <OptimizerType.sgd: 2>, 'learning_rate': 0.09962056442880654, 'epochs': 13, 'batch_size': 64, 'loss': None, 'fitness': 0}\n",
      "{'convulution_kernel_size': 3, 'convulution_act': <ActivationType.softmax: 'softmax'>, 'pooling_layer_type': <PoolingTypes.avg_pooling: 1>, 'pooling_layer_kernel_size': 2, 'first_dense_layer_neurons': 54, 'first_dense_act': <ActivationType.softmax: 'softmax'>, 'second_dense_layer_neurons': 31, 'second_dense_act': <ActivationType.softmax: 'softmax'>, 'dropout_rate': 0.7362173872438872, 'optimizer_type': <OptimizerType.adam: 1>, 'learning_rate': 0.0731685371627745, 'epochs': 4, 'batch_size': 64, 'loss': None, 'fitness': 0}\n",
      "{'convulution_kernel_size': 4, 'convulution_act': <ActivationType.softmax: 'softmax'>, 'pooling_layer_type': <PoolingTypes.avg_pooling: 1>, 'pooling_layer_kernel_size': 4, 'first_dense_layer_neurons': 108, 'first_dense_act': <ActivationType.relu: 'relu'>, 'second_dense_layer_neurons': 91, 'second_dense_act': <ActivationType.relu: 'relu'>, 'dropout_rate': 0.10685992154275425, 'optimizer_type': <OptimizerType.sgd: 2>, 'learning_rate': 0.012636009231960076, 'epochs': 16, 'batch_size': 32, 'loss': None, 'fitness': 0}\n",
      "{'convulution_kernel_size': 1, 'convulution_act': <ActivationType.softmax: 'softmax'>, 'pooling_layer_type': <PoolingTypes.max_pooling: 2>, 'pooling_layer_kernel_size': 3, 'first_dense_layer_neurons': 52, 'first_dense_act': <ActivationType.relu: 'relu'>, 'second_dense_layer_neurons': 45, 'second_dense_act': <ActivationType.softmax: 'softmax'>, 'dropout_rate': 0.01878536031225375, 'optimizer_type': <OptimizerType.adam: 1>, 'learning_rate': 0.02362288977031769, 'epochs': 1, 'batch_size': 16, 'loss': None, 'fitness': 0}\n",
      "{'convulution_kernel_size': 2, 'convulution_act': <ActivationType.softmax: 'softmax'>, 'pooling_layer_type': <PoolingTypes.max_pooling: 2>, 'pooling_layer_kernel_size': 4, 'first_dense_layer_neurons': 191, 'first_dense_act': <ActivationType.softmax: 'softmax'>, 'second_dense_layer_neurons': 47, 'second_dense_act': <ActivationType.softmax: 'softmax'>, 'dropout_rate': 0.30694809395810707, 'optimizer_type': <OptimizerType.sgd: 2>, 'learning_rate': 0.08110630401373999, 'epochs': 7, 'batch_size': 32, 'loss': None, 'fitness': 0}\n",
      "{'convulution_kernel_size': 2, 'convulution_act': <ActivationType.relu: 'relu'>, 'pooling_layer_type': <PoolingTypes.max_pooling: 2>, 'pooling_layer_kernel_size': 4, 'first_dense_layer_neurons': 139, 'first_dense_act': <ActivationType.softmax: 'softmax'>, 'second_dense_layer_neurons': 120, 'second_dense_act': <ActivationType.relu: 'relu'>, 'dropout_rate': 0.281322891470294, 'optimizer_type': <OptimizerType.sgd: 2>, 'learning_rate': 0.057925986184025856, 'epochs': 14, 'batch_size': 64, 'loss': None, 'fitness': 0}\n",
      "{'convulution_kernel_size': 4, 'convulution_act': <ActivationType.relu: 'relu'>, 'pooling_layer_type': <PoolingTypes.max_pooling: 2>, 'pooling_layer_kernel_size': 3, 'first_dense_layer_neurons': 59, 'first_dense_act': <ActivationType.relu: 'relu'>, 'second_dense_layer_neurons': 30, 'second_dense_act': <ActivationType.relu: 'relu'>, 'dropout_rate': 0.6425922704226265, 'optimizer_type': <OptimizerType.sgd: 2>, 'learning_rate': 0.08902960050618494, 'epochs': 18, 'batch_size': 64, 'loss': None, 'fitness': 0}\n",
      "{'convulution_kernel_size': 4, 'convulution_act': <ActivationType.softmax: 'softmax'>, 'pooling_layer_type': <PoolingTypes.avg_pooling: 1>, 'pooling_layer_kernel_size': 3, 'first_dense_layer_neurons': 147, 'first_dense_act': <ActivationType.relu: 'relu'>, 'second_dense_layer_neurons': 24, 'second_dense_act': <ActivationType.relu: 'relu'>, 'dropout_rate': 0.6742495202914799, 'optimizer_type': <OptimizerType.adam: 1>, 'learning_rate': 0.019718055886803802, 'epochs': 19, 'batch_size': 16, 'loss': None, 'fitness': 0}\n",
      "{'convulution_kernel_size': 2, 'convulution_act': <ActivationType.softmax: 'softmax'>, 'pooling_layer_type': <PoolingTypes.avg_pooling: 1>, 'pooling_layer_kernel_size': 1, 'first_dense_layer_neurons': 17, 'first_dense_act': <ActivationType.relu: 'relu'>, 'second_dense_layer_neurons': 16, 'second_dense_act': <ActivationType.relu: 'relu'>, 'dropout_rate': 0.635509403533909, 'optimizer_type': <OptimizerType.adam: 1>, 'learning_rate': 0.09623588989970971, 'epochs': 10, 'batch_size': 32, 'loss': None, 'fitness': 0}\n",
      "{'convulution_kernel_size': 1, 'convulution_act': <ActivationType.relu: 'relu'>, 'pooling_layer_type': <PoolingTypes.max_pooling: 2>, 'pooling_layer_kernel_size': 4, 'first_dense_layer_neurons': 181, 'first_dense_act': <ActivationType.softmax: 'softmax'>, 'second_dense_layer_neurons': 88, 'second_dense_act': <ActivationType.softmax: 'softmax'>, 'dropout_rate': 0.7466052029917556, 'optimizer_type': <OptimizerType.sgd: 2>, 'learning_rate': 0.0988799613935253, 'epochs': 5, 'batch_size': 64, 'loss': None, 'fitness': 0}\n",
      "{'convulution_kernel_size': 4, 'convulution_act': <ActivationType.softmax: 'softmax'>, 'pooling_layer_type': <PoolingTypes.max_pooling: 2>, 'pooling_layer_kernel_size': 2, 'first_dense_layer_neurons': 231, 'first_dense_act': <ActivationType.softmax: 'softmax'>, 'second_dense_layer_neurons': 163, 'second_dense_act': <ActivationType.softmax: 'softmax'>, 'dropout_rate': 0.7229719910579343, 'optimizer_type': <OptimizerType.sgd: 2>, 'learning_rate': 0.027481625563428046, 'epochs': 17, 'batch_size': 32, 'loss': None, 'fitness': 0}\n",
      "{'convulution_kernel_size': 2, 'convulution_act': <ActivationType.relu: 'relu'>, 'pooling_layer_type': <PoolingTypes.avg_pooling: 1>, 'pooling_layer_kernel_size': 3, 'first_dense_layer_neurons': 182, 'first_dense_act': <ActivationType.relu: 'relu'>, 'second_dense_layer_neurons': 76, 'second_dense_act': <ActivationType.softmax: 'softmax'>, 'dropout_rate': 0.9519738511914305, 'optimizer_type': <OptimizerType.sgd: 2>, 'learning_rate': 0.039223686080690524, 'epochs': 14, 'batch_size': 64, 'loss': None, 'fitness': 0}\n",
      "{'convulution_kernel_size': 4, 'convulution_act': <ActivationType.softmax: 'softmax'>, 'pooling_layer_type': <PoolingTypes.avg_pooling: 1>, 'pooling_layer_kernel_size': 2, 'first_dense_layer_neurons': 297, 'first_dense_act': <ActivationType.softmax: 'softmax'>, 'second_dense_layer_neurons': 189, 'second_dense_act': <ActivationType.relu: 'relu'>, 'dropout_rate': 0.4739190015277971, 'optimizer_type': <OptimizerType.sgd: 2>, 'learning_rate': 0.023686741894067456, 'epochs': 6, 'batch_size': 16, 'loss': None, 'fitness': 0}\n",
      "{'convulution_kernel_size': 2, 'convulution_act': <ActivationType.relu: 'relu'>, 'pooling_layer_type': <PoolingTypes.max_pooling: 2>, 'pooling_layer_kernel_size': 1, 'first_dense_layer_neurons': 47, 'first_dense_act': <ActivationType.softmax: 'softmax'>, 'second_dense_layer_neurons': 2, 'second_dense_act': <ActivationType.relu: 'relu'>, 'dropout_rate': 0.3257523046766845, 'optimizer_type': <OptimizerType.sgd: 2>, 'learning_rate': 0.025745049419186827, 'epochs': 2, 'batch_size': 64, 'loss': None, 'fitness': 0}\n",
      "{'convulution_kernel_size': 1, 'convulution_act': <ActivationType.relu: 'relu'>, 'pooling_layer_type': <PoolingTypes.avg_pooling: 1>, 'pooling_layer_kernel_size': 3, 'first_dense_layer_neurons': 81, 'first_dense_act': <ActivationType.softmax: 'softmax'>, 'second_dense_layer_neurons': 71, 'second_dense_act': <ActivationType.relu: 'relu'>, 'dropout_rate': 0.8564460031489426, 'optimizer_type': <OptimizerType.adam: 1>, 'learning_rate': 0.07832210879321475, 'epochs': 18, 'batch_size': 64, 'loss': None, 'fitness': 0}\n",
      "{'convulution_kernel_size': 2, 'convulution_act': <ActivationType.softmax: 'softmax'>, 'pooling_layer_type': <PoolingTypes.max_pooling: 2>, 'pooling_layer_kernel_size': 2, 'first_dense_layer_neurons': 43, 'first_dense_act': <ActivationType.softmax: 'softmax'>, 'second_dense_layer_neurons': 15, 'second_dense_act': <ActivationType.softmax: 'softmax'>, 'dropout_rate': 0.1183373775632266, 'optimizer_type': <OptimizerType.sgd: 2>, 'learning_rate': 0.0050306231052285886, 'epochs': 3, 'batch_size': 32, 'loss': None, 'fitness': 0}\n",
      "{'convulution_kernel_size': 2, 'convulution_act': <ActivationType.relu: 'relu'>, 'pooling_layer_type': <PoolingTypes.max_pooling: 2>, 'pooling_layer_kernel_size': 4, 'first_dense_layer_neurons': 61, 'first_dense_act': <ActivationType.relu: 'relu'>, 'second_dense_layer_neurons': 57, 'second_dense_act': <ActivationType.softmax: 'softmax'>, 'dropout_rate': 0.014246175811918449, 'optimizer_type': <OptimizerType.adam: 1>, 'learning_rate': 0.02046264570023738, 'epochs': 8, 'batch_size': 16, 'loss': None, 'fitness': 0}\n",
      "{'convulution_kernel_size': 4, 'convulution_act': <ActivationType.relu: 'relu'>, 'pooling_layer_type': <PoolingTypes.max_pooling: 2>, 'pooling_layer_kernel_size': 1, 'first_dense_layer_neurons': 231, 'first_dense_act': <ActivationType.relu: 'relu'>, 'second_dense_layer_neurons': 121, 'second_dense_act': <ActivationType.relu: 'relu'>, 'dropout_rate': 0.8576375871800573, 'optimizer_type': <OptimizerType.sgd: 2>, 'learning_rate': 0.09157325931583025, 'epochs': 16, 'batch_size': 64, 'loss': None, 'fitness': 0}\n",
      "{'convulution_kernel_size': 4, 'convulution_act': <ActivationType.softmax: 'softmax'>, 'pooling_layer_type': <PoolingTypes.avg_pooling: 1>, 'pooling_layer_kernel_size': 4, 'first_dense_layer_neurons': 205, 'first_dense_act': <ActivationType.softmax: 'softmax'>, 'second_dense_layer_neurons': 104, 'second_dense_act': <ActivationType.relu: 'relu'>, 'dropout_rate': 0.7130877877610728, 'optimizer_type': <OptimizerType.adam: 1>, 'learning_rate': 0.01182870701530837, 'epochs': 13, 'batch_size': 64, 'loss': None, 'fitness': 0}\n",
      "{'convulution_kernel_size': 4, 'convulution_act': <ActivationType.softmax: 'softmax'>, 'pooling_layer_type': <PoolingTypes.avg_pooling: 1>, 'pooling_layer_kernel_size': 2, 'first_dense_layer_neurons': 196, 'first_dense_act': <ActivationType.softmax: 'softmax'>, 'second_dense_layer_neurons': 47, 'second_dense_act': <ActivationType.softmax: 'softmax'>, 'dropout_rate': 0.506781273851098, 'optimizer_type': <OptimizerType.adam: 1>, 'learning_rate': 0.07357032656470142, 'epochs': 18, 'batch_size': 64, 'loss': None, 'fitness': 0}\n",
      "{'convulution_kernel_size': 3, 'convulution_act': <ActivationType.softmax: 'softmax'>, 'pooling_layer_type': <PoolingTypes.max_pooling: 2>, 'pooling_layer_kernel_size': 3, 'first_dense_layer_neurons': 37, 'first_dense_act': <ActivationType.relu: 'relu'>, 'second_dense_layer_neurons': 13, 'second_dense_act': <ActivationType.softmax: 'softmax'>, 'dropout_rate': 0.6283486413781222, 'optimizer_type': <OptimizerType.sgd: 2>, 'learning_rate': 0.04853048349539169, 'epochs': 2, 'batch_size': 64, 'loss': None, 'fitness': 0}\n",
      "{'convulution_kernel_size': 1, 'convulution_act': <ActivationType.softmax: 'softmax'>, 'pooling_layer_type': <PoolingTypes.avg_pooling: 1>, 'pooling_layer_kernel_size': 2, 'first_dense_layer_neurons': 58, 'first_dense_act': <ActivationType.softmax: 'softmax'>, 'second_dense_layer_neurons': 44, 'second_dense_act': <ActivationType.relu: 'relu'>, 'dropout_rate': 0.11304682779722541, 'optimizer_type': <OptimizerType.adam: 1>, 'learning_rate': 0.03013536085969807, 'epochs': 19, 'batch_size': 64, 'loss': None, 'fitness': 0}\n",
      "{'convulution_kernel_size': 3, 'convulution_act': <ActivationType.relu: 'relu'>, 'pooling_layer_type': <PoolingTypes.avg_pooling: 1>, 'pooling_layer_kernel_size': 2, 'first_dense_layer_neurons': 197, 'first_dense_act': <ActivationType.relu: 'relu'>, 'second_dense_layer_neurons': 23, 'second_dense_act': <ActivationType.softmax: 'softmax'>, 'dropout_rate': 0.459219089927818, 'optimizer_type': <OptimizerType.sgd: 2>, 'learning_rate': 0.010974030018550384, 'epochs': 17, 'batch_size': 16, 'loss': None, 'fitness': 0}\n",
      "{'convulution_kernel_size': 2, 'convulution_act': <ActivationType.softmax: 'softmax'>, 'pooling_layer_type': <PoolingTypes.max_pooling: 2>, 'pooling_layer_kernel_size': 3, 'first_dense_layer_neurons': 249, 'first_dense_act': <ActivationType.relu: 'relu'>, 'second_dense_layer_neurons': 192, 'second_dense_act': <ActivationType.relu: 'relu'>, 'dropout_rate': 0.10284655483272243, 'optimizer_type': <OptimizerType.sgd: 2>, 'learning_rate': 0.03310856940457352, 'epochs': 17, 'batch_size': 16, 'loss': None, 'fitness': 0}\n",
      "{'convulution_kernel_size': 1, 'convulution_act': <ActivationType.softmax: 'softmax'>, 'pooling_layer_type': <PoolingTypes.max_pooling: 2>, 'pooling_layer_kernel_size': 4, 'first_dense_layer_neurons': 178, 'first_dense_act': <ActivationType.relu: 'relu'>, 'second_dense_layer_neurons': 91, 'second_dense_act': <ActivationType.relu: 'relu'>, 'dropout_rate': 0.8732265060198336, 'optimizer_type': <OptimizerType.adam: 1>, 'learning_rate': 0.07261908608683808, 'epochs': 7, 'batch_size': 16, 'loss': None, 'fitness': 0}\n",
      "{'convulution_kernel_size': 4, 'convulution_act': <ActivationType.relu: 'relu'>, 'pooling_layer_type': <PoolingTypes.max_pooling: 2>, 'pooling_layer_kernel_size': 4, 'first_dense_layer_neurons': 240, 'first_dense_act': <ActivationType.relu: 'relu'>, 'second_dense_layer_neurons': 6, 'second_dense_act': <ActivationType.softmax: 'softmax'>, 'dropout_rate': 0.5079360378917246, 'optimizer_type': <OptimizerType.sgd: 2>, 'learning_rate': 0.06666704083556645, 'epochs': 6, 'batch_size': 64, 'loss': None, 'fitness': 0}\n",
      "{'convulution_kernel_size': 1, 'convulution_act': <ActivationType.softmax: 'softmax'>, 'pooling_layer_type': <PoolingTypes.max_pooling: 2>, 'pooling_layer_kernel_size': 4, 'first_dense_layer_neurons': 150, 'first_dense_act': <ActivationType.relu: 'relu'>, 'second_dense_layer_neurons': 121, 'second_dense_act': <ActivationType.relu: 'relu'>, 'dropout_rate': 0.6429877079974957, 'optimizer_type': <OptimizerType.sgd: 2>, 'learning_rate': 0.09589423360890036, 'epochs': 9, 'batch_size': 16, 'loss': None, 'fitness': 0}\n",
      "{'convulution_kernel_size': 2, 'convulution_act': <ActivationType.relu: 'relu'>, 'pooling_layer_type': <PoolingTypes.max_pooling: 2>, 'pooling_layer_kernel_size': 2, 'first_dense_layer_neurons': 164, 'first_dense_act': <ActivationType.softmax: 'softmax'>, 'second_dense_layer_neurons': 157, 'second_dense_act': <ActivationType.relu: 'relu'>, 'dropout_rate': 0.0438147321333604, 'optimizer_type': <OptimizerType.sgd: 2>, 'learning_rate': 0.04806472343369553, 'epochs': 11, 'batch_size': 64, 'loss': None, 'fitness': 0}\n",
      "{'convulution_kernel_size': 4, 'convulution_act': <ActivationType.relu: 'relu'>, 'pooling_layer_type': <PoolingTypes.max_pooling: 2>, 'pooling_layer_kernel_size': 3, 'first_dense_layer_neurons': 48, 'first_dense_act': <ActivationType.relu: 'relu'>, 'second_dense_layer_neurons': 35, 'second_dense_act': <ActivationType.softmax: 'softmax'>, 'dropout_rate': 0.7415239951365578, 'optimizer_type': <OptimizerType.sgd: 2>, 'learning_rate': 0.06909675909640578, 'epochs': 10, 'batch_size': 64, 'loss': None, 'fitness': 0}\n",
      "{'convulution_kernel_size': 1, 'convulution_act': <ActivationType.softmax: 'softmax'>, 'pooling_layer_type': <PoolingTypes.max_pooling: 2>, 'pooling_layer_kernel_size': 4, 'first_dense_layer_neurons': 41, 'first_dense_act': <ActivationType.softmax: 'softmax'>, 'second_dense_layer_neurons': 19, 'second_dense_act': <ActivationType.softmax: 'softmax'>, 'dropout_rate': 0.8817440747572438, 'optimizer_type': <OptimizerType.adam: 1>, 'learning_rate': 0.06123128400860032, 'epochs': 6, 'batch_size': 64, 'loss': None, 'fitness': 0}\n",
      "{'convulution_kernel_size': 4, 'convulution_act': <ActivationType.relu: 'relu'>, 'pooling_layer_type': <PoolingTypes.max_pooling: 2>, 'pooling_layer_kernel_size': 3, 'first_dense_layer_neurons': 196, 'first_dense_act': <ActivationType.relu: 'relu'>, 'second_dense_layer_neurons': 29, 'second_dense_act': <ActivationType.relu: 'relu'>, 'dropout_rate': 0.8057117471956678, 'optimizer_type': <OptimizerType.sgd: 2>, 'learning_rate': 0.01523186332298599, 'epochs': 3, 'batch_size': 16, 'loss': None, 'fitness': 0}\n"
     ]
    },
    {
     "name": "stderr",
     "output_type": "stream",
     "text": [
      "C:\\ProgramData\\Anaconda3\\envs\\gpu2\\lib\\site-packages\\joblib\\externals\\loky\\process_executor.py:702: UserWarning: A worker stopped while some jobs were given to the executor. This can be caused by a too short worker timeout or by a memory leak.\n",
      "  warnings.warn(\n"
     ]
    },
    {
     "name": "stdout",
     "output_type": "stream",
     "text": [
      "{'convulution_kernel_size': 1, 'convulution_act': <ActivationType.softmax: 'softmax'>, 'pooling_layer_type': <PoolingTypes.avg_pooling: 1>, 'pooling_layer_kernel_size': 3, 'first_dense_layer_neurons': 207, 'first_dense_act': <ActivationType.softmax: 'softmax'>, 'second_dense_layer_neurons': 192, 'second_dense_act': <ActivationType.relu: 'relu'>, 'dropout_rate': 0.6731535289823343, 'optimizer_type': <OptimizerType.adam: 1>, 'learning_rate': 0.08641498353190273, 'epochs': 18, 'batch_size': 32, 'loss': None, 'fitness': 0}\n",
      "{'convulution_kernel_size': 3, 'convulution_act': <ActivationType.softmax: 'softmax'>, 'pooling_layer_type': <PoolingTypes.avg_pooling: 1>, 'pooling_layer_kernel_size': 1, 'first_dense_layer_neurons': 90, 'first_dense_act': <ActivationType.softmax: 'softmax'>, 'second_dense_layer_neurons': 27, 'second_dense_act': <ActivationType.relu: 'relu'>, 'dropout_rate': 0.7444165043231127, 'optimizer_type': <OptimizerType.sgd: 2>, 'learning_rate': 0.031048404605935245, 'epochs': 8, 'batch_size': 64, 'loss': None, 'fitness': 0}\n",
      "{'convulution_kernel_size': 2, 'convulution_act': <ActivationType.softmax: 'softmax'>, 'pooling_layer_type': <PoolingTypes.avg_pooling: 1>, 'pooling_layer_kernel_size': 2, 'first_dense_layer_neurons': 9, 'first_dense_act': <ActivationType.softmax: 'softmax'>, 'second_dense_layer_neurons': 1, 'second_dense_act': <ActivationType.softmax: 'softmax'>, 'dropout_rate': 0.15669433092903595, 'optimizer_type': <OptimizerType.sgd: 2>, 'learning_rate': 0.06922441296789009, 'epochs': 2, 'batch_size': 32, 'loss': None, 'fitness': 0}\n",
      "{'convulution_kernel_size': 1, 'convulution_act': <ActivationType.relu: 'relu'>, 'pooling_layer_type': <PoolingTypes.avg_pooling: 1>, 'pooling_layer_kernel_size': 2, 'first_dense_layer_neurons': 77, 'first_dense_act': <ActivationType.relu: 'relu'>, 'second_dense_layer_neurons': 10, 'second_dense_act': <ActivationType.relu: 'relu'>, 'dropout_rate': 0.6634397976342551, 'optimizer_type': <OptimizerType.adam: 1>, 'learning_rate': 0.08143312397333799, 'epochs': 16, 'batch_size': 16, 'loss': None, 'fitness': 0}\n",
      "{'convulution_kernel_size': 2, 'convulution_act': <ActivationType.softmax: 'softmax'>, 'pooling_layer_type': <PoolingTypes.max_pooling: 2>, 'pooling_layer_kernel_size': 3, 'first_dense_layer_neurons': 8, 'first_dense_act': <ActivationType.relu: 'relu'>, 'second_dense_layer_neurons': 1, 'second_dense_act': <ActivationType.softmax: 'softmax'>, 'dropout_rate': 0.2655140982166385, 'optimizer_type': <OptimizerType.adam: 1>, 'learning_rate': 0.052127200604425855, 'epochs': 3, 'batch_size': 64, 'loss': None, 'fitness': 0}\n",
      "{'convulution_kernel_size': 4, 'convulution_act': <ActivationType.relu: 'relu'>, 'pooling_layer_type': <PoolingTypes.avg_pooling: 1>, 'pooling_layer_kernel_size': 3, 'first_dense_layer_neurons': 36, 'first_dense_act': <ActivationType.softmax: 'softmax'>, 'second_dense_layer_neurons': 34, 'second_dense_act': <ActivationType.softmax: 'softmax'>, 'dropout_rate': 0.40611646288401393, 'optimizer_type': <OptimizerType.sgd: 2>, 'learning_rate': 0.0811601209428789, 'epochs': 19, 'batch_size': 16, 'loss': None, 'fitness': 0}\n",
      "{'convulution_kernel_size': 1, 'convulution_act': <ActivationType.softmax: 'softmax'>, 'pooling_layer_type': <PoolingTypes.max_pooling: 2>, 'pooling_layer_kernel_size': 3, 'first_dense_layer_neurons': 258, 'first_dense_act': <ActivationType.relu: 'relu'>, 'second_dense_layer_neurons': 241, 'second_dense_act': <ActivationType.relu: 'relu'>, 'dropout_rate': 0.3280332240991787, 'optimizer_type': <OptimizerType.sgd: 2>, 'learning_rate': 0.010362334885238324, 'epochs': 2, 'batch_size': 16, 'loss': None, 'fitness': 0}\n",
      "{'convulution_kernel_size': 1, 'convulution_act': <ActivationType.relu: 'relu'>, 'pooling_layer_type': <PoolingTypes.avg_pooling: 1>, 'pooling_layer_kernel_size': 3, 'first_dense_layer_neurons': 206, 'first_dense_act': <ActivationType.softmax: 'softmax'>, 'second_dense_layer_neurons': 162, 'second_dense_act': <ActivationType.relu: 'relu'>, 'dropout_rate': 0.8723985943203332, 'optimizer_type': <OptimizerType.adam: 1>, 'learning_rate': 0.013854307598039739, 'epochs': 1, 'batch_size': 64, 'loss': None, 'fitness': 0}\n",
      "{'convulution_kernel_size': 2, 'convulution_act': <ActivationType.relu: 'relu'>, 'pooling_layer_type': <PoolingTypes.avg_pooling: 1>, 'pooling_layer_kernel_size': 2, 'first_dense_layer_neurons': 44, 'first_dense_act': <ActivationType.relu: 'relu'>, 'second_dense_layer_neurons': 15, 'second_dense_act': <ActivationType.relu: 'relu'>, 'dropout_rate': 0.48804928757714083, 'optimizer_type': <OptimizerType.sgd: 2>, 'learning_rate': 0.07379690618715987, 'epochs': 4, 'batch_size': 32, 'loss': None, 'fitness': 0}\n",
      "{'convulution_kernel_size': 3, 'convulution_act': <ActivationType.softmax: 'softmax'>, 'pooling_layer_type': <PoolingTypes.max_pooling: 2>, 'pooling_layer_kernel_size': 4, 'first_dense_layer_neurons': 290, 'first_dense_act': <ActivationType.softmax: 'softmax'>, 'second_dense_layer_neurons': 193, 'second_dense_act': <ActivationType.relu: 'relu'>, 'dropout_rate': 0.752703655839573, 'optimizer_type': <OptimizerType.sgd: 2>, 'learning_rate': 0.09962056442880654, 'epochs': 13, 'batch_size': 64, 'loss': None, 'fitness': 0}\n",
      "{'convulution_kernel_size': 3, 'convulution_act': <ActivationType.softmax: 'softmax'>, 'pooling_layer_type': <PoolingTypes.avg_pooling: 1>, 'pooling_layer_kernel_size': 2, 'first_dense_layer_neurons': 54, 'first_dense_act': <ActivationType.softmax: 'softmax'>, 'second_dense_layer_neurons': 31, 'second_dense_act': <ActivationType.softmax: 'softmax'>, 'dropout_rate': 0.7362173872438872, 'optimizer_type': <OptimizerType.adam: 1>, 'learning_rate': 0.0731685371627745, 'epochs': 4, 'batch_size': 64, 'loss': None, 'fitness': 0}\n",
      "{'convulution_kernel_size': 4, 'convulution_act': <ActivationType.softmax: 'softmax'>, 'pooling_layer_type': <PoolingTypes.avg_pooling: 1>, 'pooling_layer_kernel_size': 4, 'first_dense_layer_neurons': 108, 'first_dense_act': <ActivationType.relu: 'relu'>, 'second_dense_layer_neurons': 91, 'second_dense_act': <ActivationType.relu: 'relu'>, 'dropout_rate': 0.10685992154275425, 'optimizer_type': <OptimizerType.sgd: 2>, 'learning_rate': 0.012636009231960076, 'epochs': 16, 'batch_size': 32, 'loss': None, 'fitness': 0}\n",
      "{'convulution_kernel_size': 1, 'convulution_act': <ActivationType.softmax: 'softmax'>, 'pooling_layer_type': <PoolingTypes.max_pooling: 2>, 'pooling_layer_kernel_size': 3, 'first_dense_layer_neurons': 52, 'first_dense_act': <ActivationType.relu: 'relu'>, 'second_dense_layer_neurons': 45, 'second_dense_act': <ActivationType.softmax: 'softmax'>, 'dropout_rate': 0.01878536031225375, 'optimizer_type': <OptimizerType.adam: 1>, 'learning_rate': 0.02362288977031769, 'epochs': 1, 'batch_size': 16, 'loss': None, 'fitness': 0}\n",
      "{'convulution_kernel_size': 2, 'convulution_act': <ActivationType.softmax: 'softmax'>, 'pooling_layer_type': <PoolingTypes.max_pooling: 2>, 'pooling_layer_kernel_size': 4, 'first_dense_layer_neurons': 191, 'first_dense_act': <ActivationType.softmax: 'softmax'>, 'second_dense_layer_neurons': 47, 'second_dense_act': <ActivationType.softmax: 'softmax'>, 'dropout_rate': 0.30694809395810707, 'optimizer_type': <OptimizerType.sgd: 2>, 'learning_rate': 0.08110630401373999, 'epochs': 7, 'batch_size': 32, 'loss': None, 'fitness': 0}\n",
      "{'convulution_kernel_size': 2, 'convulution_act': <ActivationType.relu: 'relu'>, 'pooling_layer_type': <PoolingTypes.max_pooling: 2>, 'pooling_layer_kernel_size': 4, 'first_dense_layer_neurons': 139, 'first_dense_act': <ActivationType.softmax: 'softmax'>, 'second_dense_layer_neurons': 120, 'second_dense_act': <ActivationType.relu: 'relu'>, 'dropout_rate': 0.281322891470294, 'optimizer_type': <OptimizerType.sgd: 2>, 'learning_rate': 0.057925986184025856, 'epochs': 14, 'batch_size': 64, 'loss': None, 'fitness': 0}\n",
      "{'convulution_kernel_size': 4, 'convulution_act': <ActivationType.relu: 'relu'>, 'pooling_layer_type': <PoolingTypes.max_pooling: 2>, 'pooling_layer_kernel_size': 3, 'first_dense_layer_neurons': 59, 'first_dense_act': <ActivationType.relu: 'relu'>, 'second_dense_layer_neurons': 30, 'second_dense_act': <ActivationType.relu: 'relu'>, 'dropout_rate': 0.6425922704226265, 'optimizer_type': <OptimizerType.sgd: 2>, 'learning_rate': 0.08902960050618494, 'epochs': 18, 'batch_size': 64, 'loss': None, 'fitness': 0}\n",
      "{'convulution_kernel_size': 4, 'convulution_act': <ActivationType.softmax: 'softmax'>, 'pooling_layer_type': <PoolingTypes.avg_pooling: 1>, 'pooling_layer_kernel_size': 3, 'first_dense_layer_neurons': 147, 'first_dense_act': <ActivationType.relu: 'relu'>, 'second_dense_layer_neurons': 24, 'second_dense_act': <ActivationType.relu: 'relu'>, 'dropout_rate': 0.6742495202914799, 'optimizer_type': <OptimizerType.adam: 1>, 'learning_rate': 0.019718055886803802, 'epochs': 19, 'batch_size': 16, 'loss': None, 'fitness': 0}\n",
      "{'convulution_kernel_size': 2, 'convulution_act': <ActivationType.softmax: 'softmax'>, 'pooling_layer_type': <PoolingTypes.avg_pooling: 1>, 'pooling_layer_kernel_size': 1, 'first_dense_layer_neurons': 17, 'first_dense_act': <ActivationType.relu: 'relu'>, 'second_dense_layer_neurons': 16, 'second_dense_act': <ActivationType.relu: 'relu'>, 'dropout_rate': 0.635509403533909, 'optimizer_type': <OptimizerType.adam: 1>, 'learning_rate': 0.09623588989970971, 'epochs': 10, 'batch_size': 32, 'loss': None, 'fitness': 0}\n",
      "{'convulution_kernel_size': 1, 'convulution_act': <ActivationType.relu: 'relu'>, 'pooling_layer_type': <PoolingTypes.max_pooling: 2>, 'pooling_layer_kernel_size': 4, 'first_dense_layer_neurons': 181, 'first_dense_act': <ActivationType.softmax: 'softmax'>, 'second_dense_layer_neurons': 88, 'second_dense_act': <ActivationType.softmax: 'softmax'>, 'dropout_rate': 0.7466052029917556, 'optimizer_type': <OptimizerType.sgd: 2>, 'learning_rate': 0.0988799613935253, 'epochs': 5, 'batch_size': 64, 'loss': None, 'fitness': 0}\n",
      "{'convulution_kernel_size': 4, 'convulution_act': <ActivationType.softmax: 'softmax'>, 'pooling_layer_type': <PoolingTypes.max_pooling: 2>, 'pooling_layer_kernel_size': 2, 'first_dense_layer_neurons': 231, 'first_dense_act': <ActivationType.softmax: 'softmax'>, 'second_dense_layer_neurons': 163, 'second_dense_act': <ActivationType.softmax: 'softmax'>, 'dropout_rate': 0.7229719910579343, 'optimizer_type': <OptimizerType.sgd: 2>, 'learning_rate': 0.027481625563428046, 'epochs': 17, 'batch_size': 32, 'loss': None, 'fitness': 0}\n",
      "{'convulution_kernel_size': 2, 'convulution_act': <ActivationType.relu: 'relu'>, 'pooling_layer_type': <PoolingTypes.avg_pooling: 1>, 'pooling_layer_kernel_size': 3, 'first_dense_layer_neurons': 182, 'first_dense_act': <ActivationType.relu: 'relu'>, 'second_dense_layer_neurons': 76, 'second_dense_act': <ActivationType.softmax: 'softmax'>, 'dropout_rate': 0.9519738511914305, 'optimizer_type': <OptimizerType.sgd: 2>, 'learning_rate': 0.039223686080690524, 'epochs': 14, 'batch_size': 64, 'loss': None, 'fitness': 0}\n",
      "{'convulution_kernel_size': 4, 'convulution_act': <ActivationType.softmax: 'softmax'>, 'pooling_layer_type': <PoolingTypes.avg_pooling: 1>, 'pooling_layer_kernel_size': 2, 'first_dense_layer_neurons': 297, 'first_dense_act': <ActivationType.softmax: 'softmax'>, 'second_dense_layer_neurons': 189, 'second_dense_act': <ActivationType.relu: 'relu'>, 'dropout_rate': 0.4739190015277971, 'optimizer_type': <OptimizerType.sgd: 2>, 'learning_rate': 0.023686741894067456, 'epochs': 6, 'batch_size': 16, 'loss': None, 'fitness': 0}\n",
      "{'convulution_kernel_size': 2, 'convulution_act': <ActivationType.relu: 'relu'>, 'pooling_layer_type': <PoolingTypes.max_pooling: 2>, 'pooling_layer_kernel_size': 1, 'first_dense_layer_neurons': 47, 'first_dense_act': <ActivationType.softmax: 'softmax'>, 'second_dense_layer_neurons': 2, 'second_dense_act': <ActivationType.relu: 'relu'>, 'dropout_rate': 0.3257523046766845, 'optimizer_type': <OptimizerType.sgd: 2>, 'learning_rate': 0.025745049419186827, 'epochs': 2, 'batch_size': 64, 'loss': None, 'fitness': 0}\n",
      "{'convulution_kernel_size': 1, 'convulution_act': <ActivationType.relu: 'relu'>, 'pooling_layer_type': <PoolingTypes.avg_pooling: 1>, 'pooling_layer_kernel_size': 3, 'first_dense_layer_neurons': 81, 'first_dense_act': <ActivationType.softmax: 'softmax'>, 'second_dense_layer_neurons': 71, 'second_dense_act': <ActivationType.relu: 'relu'>, 'dropout_rate': 0.8564460031489426, 'optimizer_type': <OptimizerType.adam: 1>, 'learning_rate': 0.07832210879321475, 'epochs': 18, 'batch_size': 64, 'loss': None, 'fitness': 0}\n",
      "{'convulution_kernel_size': 2, 'convulution_act': <ActivationType.softmax: 'softmax'>, 'pooling_layer_type': <PoolingTypes.max_pooling: 2>, 'pooling_layer_kernel_size': 2, 'first_dense_layer_neurons': 43, 'first_dense_act': <ActivationType.softmax: 'softmax'>, 'second_dense_layer_neurons': 15, 'second_dense_act': <ActivationType.softmax: 'softmax'>, 'dropout_rate': 0.1183373775632266, 'optimizer_type': <OptimizerType.sgd: 2>, 'learning_rate': 0.0050306231052285886, 'epochs': 3, 'batch_size': 32, 'loss': None, 'fitness': 0}\n",
      "{'convulution_kernel_size': 2, 'convulution_act': <ActivationType.relu: 'relu'>, 'pooling_layer_type': <PoolingTypes.max_pooling: 2>, 'pooling_layer_kernel_size': 4, 'first_dense_layer_neurons': 61, 'first_dense_act': <ActivationType.relu: 'relu'>, 'second_dense_layer_neurons': 57, 'second_dense_act': <ActivationType.softmax: 'softmax'>, 'dropout_rate': 0.014246175811918449, 'optimizer_type': <OptimizerType.adam: 1>, 'learning_rate': 0.02046264570023738, 'epochs': 8, 'batch_size': 16, 'loss': None, 'fitness': 0}\n",
      "{'convulution_kernel_size': 4, 'convulution_act': <ActivationType.relu: 'relu'>, 'pooling_layer_type': <PoolingTypes.max_pooling: 2>, 'pooling_layer_kernel_size': 1, 'first_dense_layer_neurons': 231, 'first_dense_act': <ActivationType.relu: 'relu'>, 'second_dense_layer_neurons': 121, 'second_dense_act': <ActivationType.relu: 'relu'>, 'dropout_rate': 0.8576375871800573, 'optimizer_type': <OptimizerType.sgd: 2>, 'learning_rate': 0.09157325931583025, 'epochs': 16, 'batch_size': 64, 'loss': None, 'fitness': 0}\n",
      "{'convulution_kernel_size': 4, 'convulution_act': <ActivationType.softmax: 'softmax'>, 'pooling_layer_type': <PoolingTypes.avg_pooling: 1>, 'pooling_layer_kernel_size': 4, 'first_dense_layer_neurons': 205, 'first_dense_act': <ActivationType.softmax: 'softmax'>, 'second_dense_layer_neurons': 104, 'second_dense_act': <ActivationType.relu: 'relu'>, 'dropout_rate': 0.7130877877610728, 'optimizer_type': <OptimizerType.adam: 1>, 'learning_rate': 0.01182870701530837, 'epochs': 13, 'batch_size': 64, 'loss': None, 'fitness': 0}\n",
      "{'convulution_kernel_size': 4, 'convulution_act': <ActivationType.softmax: 'softmax'>, 'pooling_layer_type': <PoolingTypes.avg_pooling: 1>, 'pooling_layer_kernel_size': 2, 'first_dense_layer_neurons': 196, 'first_dense_act': <ActivationType.softmax: 'softmax'>, 'second_dense_layer_neurons': 47, 'second_dense_act': <ActivationType.softmax: 'softmax'>, 'dropout_rate': 0.506781273851098, 'optimizer_type': <OptimizerType.adam: 1>, 'learning_rate': 0.07357032656470142, 'epochs': 18, 'batch_size': 64, 'loss': None, 'fitness': 0}\n",
      "{'convulution_kernel_size': 3, 'convulution_act': <ActivationType.softmax: 'softmax'>, 'pooling_layer_type': <PoolingTypes.max_pooling: 2>, 'pooling_layer_kernel_size': 3, 'first_dense_layer_neurons': 37, 'first_dense_act': <ActivationType.relu: 'relu'>, 'second_dense_layer_neurons': 13, 'second_dense_act': <ActivationType.softmax: 'softmax'>, 'dropout_rate': 0.6283486413781222, 'optimizer_type': <OptimizerType.sgd: 2>, 'learning_rate': 0.04853048349539169, 'epochs': 2, 'batch_size': 64, 'loss': None, 'fitness': 0}\n",
      "{'convulution_kernel_size': 1, 'convulution_act': <ActivationType.softmax: 'softmax'>, 'pooling_layer_type': <PoolingTypes.avg_pooling: 1>, 'pooling_layer_kernel_size': 2, 'first_dense_layer_neurons': 58, 'first_dense_act': <ActivationType.softmax: 'softmax'>, 'second_dense_layer_neurons': 44, 'second_dense_act': <ActivationType.relu: 'relu'>, 'dropout_rate': 0.11304682779722541, 'optimizer_type': <OptimizerType.adam: 1>, 'learning_rate': 0.03013536085969807, 'epochs': 19, 'batch_size': 64, 'loss': None, 'fitness': 0}\n",
      "{'convulution_kernel_size': 3, 'convulution_act': <ActivationType.relu: 'relu'>, 'pooling_layer_type': <PoolingTypes.avg_pooling: 1>, 'pooling_layer_kernel_size': 2, 'first_dense_layer_neurons': 197, 'first_dense_act': <ActivationType.relu: 'relu'>, 'second_dense_layer_neurons': 23, 'second_dense_act': <ActivationType.softmax: 'softmax'>, 'dropout_rate': 0.459219089927818, 'optimizer_type': <OptimizerType.sgd: 2>, 'learning_rate': 0.010974030018550384, 'epochs': 17, 'batch_size': 16, 'loss': None, 'fitness': 0}\n",
      "{'convulution_kernel_size': 2, 'convulution_act': <ActivationType.softmax: 'softmax'>, 'pooling_layer_type': <PoolingTypes.max_pooling: 2>, 'pooling_layer_kernel_size': 3, 'first_dense_layer_neurons': 249, 'first_dense_act': <ActivationType.relu: 'relu'>, 'second_dense_layer_neurons': 192, 'second_dense_act': <ActivationType.relu: 'relu'>, 'dropout_rate': 0.10284655483272243, 'optimizer_type': <OptimizerType.sgd: 2>, 'learning_rate': 0.03310856940457352, 'epochs': 17, 'batch_size': 16, 'loss': None, 'fitness': 0}\n",
      "{'convulution_kernel_size': 1, 'convulution_act': <ActivationType.softmax: 'softmax'>, 'pooling_layer_type': <PoolingTypes.max_pooling: 2>, 'pooling_layer_kernel_size': 4, 'first_dense_layer_neurons': 178, 'first_dense_act': <ActivationType.relu: 'relu'>, 'second_dense_layer_neurons': 91, 'second_dense_act': <ActivationType.relu: 'relu'>, 'dropout_rate': 0.8732265060198336, 'optimizer_type': <OptimizerType.adam: 1>, 'learning_rate': 0.07261908608683808, 'epochs': 7, 'batch_size': 16, 'loss': None, 'fitness': 0}\n",
      "{'convulution_kernel_size': 4, 'convulution_act': <ActivationType.relu: 'relu'>, 'pooling_layer_type': <PoolingTypes.max_pooling: 2>, 'pooling_layer_kernel_size': 4, 'first_dense_layer_neurons': 240, 'first_dense_act': <ActivationType.relu: 'relu'>, 'second_dense_layer_neurons': 6, 'second_dense_act': <ActivationType.softmax: 'softmax'>, 'dropout_rate': 0.5079360378917246, 'optimizer_type': <OptimizerType.sgd: 2>, 'learning_rate': 0.06666704083556645, 'epochs': 6, 'batch_size': 64, 'loss': None, 'fitness': 0}\n",
      "{'convulution_kernel_size': 1, 'convulution_act': <ActivationType.softmax: 'softmax'>, 'pooling_layer_type': <PoolingTypes.max_pooling: 2>, 'pooling_layer_kernel_size': 4, 'first_dense_layer_neurons': 150, 'first_dense_act': <ActivationType.relu: 'relu'>, 'second_dense_layer_neurons': 121, 'second_dense_act': <ActivationType.relu: 'relu'>, 'dropout_rate': 0.6429877079974957, 'optimizer_type': <OptimizerType.sgd: 2>, 'learning_rate': 0.09589423360890036, 'epochs': 9, 'batch_size': 16, 'loss': None, 'fitness': 0}\n",
      "{'convulution_kernel_size': 2, 'convulution_act': <ActivationType.relu: 'relu'>, 'pooling_layer_type': <PoolingTypes.max_pooling: 2>, 'pooling_layer_kernel_size': 2, 'first_dense_layer_neurons': 164, 'first_dense_act': <ActivationType.softmax: 'softmax'>, 'second_dense_layer_neurons': 157, 'second_dense_act': <ActivationType.relu: 'relu'>, 'dropout_rate': 0.0438147321333604, 'optimizer_type': <OptimizerType.sgd: 2>, 'learning_rate': 0.04806472343369553, 'epochs': 11, 'batch_size': 64, 'loss': None, 'fitness': 0}\n",
      "{'convulution_kernel_size': 4, 'convulution_act': <ActivationType.relu: 'relu'>, 'pooling_layer_type': <PoolingTypes.max_pooling: 2>, 'pooling_layer_kernel_size': 3, 'first_dense_layer_neurons': 48, 'first_dense_act': <ActivationType.relu: 'relu'>, 'second_dense_layer_neurons': 35, 'second_dense_act': <ActivationType.softmax: 'softmax'>, 'dropout_rate': 0.7415239951365578, 'optimizer_type': <OptimizerType.sgd: 2>, 'learning_rate': 0.06909675909640578, 'epochs': 10, 'batch_size': 64, 'loss': None, 'fitness': 0}\n",
      "{'convulution_kernel_size': 1, 'convulution_act': <ActivationType.softmax: 'softmax'>, 'pooling_layer_type': <PoolingTypes.max_pooling: 2>, 'pooling_layer_kernel_size': 4, 'first_dense_layer_neurons': 41, 'first_dense_act': <ActivationType.softmax: 'softmax'>, 'second_dense_layer_neurons': 19, 'second_dense_act': <ActivationType.softmax: 'softmax'>, 'dropout_rate': 0.8817440747572438, 'optimizer_type': <OptimizerType.adam: 1>, 'learning_rate': 0.06123128400860032, 'epochs': 6, 'batch_size': 64, 'loss': None, 'fitness': 0}\n",
      "{'convulution_kernel_size': 4, 'convulution_act': <ActivationType.relu: 'relu'>, 'pooling_layer_type': <PoolingTypes.max_pooling: 2>, 'pooling_layer_kernel_size': 3, 'first_dense_layer_neurons': 196, 'first_dense_act': <ActivationType.relu: 'relu'>, 'second_dense_layer_neurons': 29, 'second_dense_act': <ActivationType.relu: 'relu'>, 'dropout_rate': 0.8057117471956678, 'optimizer_type': <OptimizerType.sgd: 2>, 'learning_rate': 0.01523186332298599, 'epochs': 3, 'batch_size': 16, 'loss': None, 'fitness': 0}\n",
      "4899.9374 seconds\n",
      "0\n",
      "parents\n",
      "[(27, 0.0), (21, 0.05128205128205128), (39, 0.10256410256410256), (9, 0.15384615384615385), (1, 0.20512820512820512), (22, 0.2564102564102564), (32, 0.3076923076923077), (6, 0.358974358974359), (14, 0.41025641025641024), (36, 0.46153846153846156), (3, 0.5128205128205128), (33, 0.5641025641025641), (11, 0.6153846153846154), (17, 0.6666666666666666), (0, 0.717948717948718), (35, 0.7692307692307693), (30, 0.8205128205128205), (7, 0.8717948717948718), (23, 0.9230769230769231), (15, 0.9743589743589743), (26, 1.0256410256410255), (31, 1.0769230769230769), (5, 1.1282051282051282), (28, 1.1794871794871795), (2, 1.2307692307692308), (10, 1.2820512820512822), (4, 1.3333333333333333), (38, 1.3846153846153846), (12, 1.435897435897436), (25, 1.4871794871794872), (37, 1.5384615384615385), (19, 1.5897435897435896), (13, 1.641025641025641), (16, 1.6923076923076923), (29, 1.7435897435897436), (24, 1.794871794871795), (8, 1.8461538461538463), (18, 1.8974358974358974), (20, 1.9487179487179487), (34, 2.0)]\n",
      "[(27, 0.0), (21, 0.05128205128205128), (39, 0.10256410256410256), (9, 0.15384615384615385), (1, 0.20512820512820512), (22, 0.2564102564102564), (32, 0.3076923076923077), (6, 0.358974358974359), (14, 0.41025641025641024), (36, 0.46153846153846156), (3, 0.5128205128205128), (33, 0.5641025641025641), (11, 0.6153846153846154), (17, 0.6666666666666666), (0, 0.717948717948718), (35, 0.7692307692307693), (30, 0.8205128205128205), (7, 0.8717948717948718), (23, 0.9230769230769231), (15, 0.9743589743589743), (26, 1.0256410256410255), (31, 1.0769230769230769), (5, 1.1282051282051282), (28, 1.1794871794871795), (2, 1.2307692307692308), (10, 1.2820512820512822), (4, 1.3333333333333333), (38, 1.3846153846153846), (12, 1.435897435897436), (25, 1.4871794871794872), (37, 1.5384615384615385), (19, 1.5897435897435896), (13, 1.641025641025641), (16, 1.6923076923076923), (29, 1.7435897435897436), (24, 1.794871794871795), (8, 1.8461538461538463), (18, 1.8974358974358974), (20, 1.9487179487179487), (34, 2.0)]\n",
      "childs\n",
      "mutated\n",
      "select_new_population\n"
     ]
    }
   ],
   "source": [
    "last_pop = main([])"
   ],
   "metadata": {
    "collapsed": false,
    "pycharm": {
     "name": "#%%\n",
     "is_executing": true
    }
   }
  },
  {
   "cell_type": "code",
   "execution_count": 23,
   "outputs": [
    {
     "name": "stdout",
     "output_type": "stream",
     "text": [
      "{'convulution_kernel_size': 2, 'convulution_act': <ActivationType.relu: 'relu'>, 'pooling_layer_type': <PoolingTypes.avg_pooling: 1>, 'pooling_layer_kernel_size': 3, 'first_dense_layer_neurons': 203, 'first_dense_act': <ActivationType.relu: 'relu'>, 'second_dense_layer_neurons': 96, 'second_dense_act': <ActivationType.softmax: 'softmax'>, 'dropout_rate': 0.5111331121652593, 'optimizer_type': <OptimizerType.sgd: 2>, 'learning_rate': 0.019456694931229843, 'epochs': 6, 'batch_size': 32, 'loss': 0.9676980646133423, 'fitness': 2.0}\n",
      "{'convulution_kernel_size': 2, 'convulution_act': <ActivationType.relu: 'relu'>, 'pooling_layer_type': <PoolingTypes.avg_pooling: 1>, 'pooling_layer_kernel_size': 3, 'first_dense_layer_neurons': 152, 'first_dense_act': <ActivationType.relu: 'relu'>, 'second_dense_layer_neurons': 76, 'second_dense_act': <ActivationType.softmax: 'softmax'>, 'dropout_rate': 0.4948152541730267, 'optimizer_type': <OptimizerType.sgd: 2>, 'learning_rate': 0.019456694931229843, 'epochs': 6, 'batch_size': 32, 'loss': 0.9687525920391082, 'fitness': 1.894736842105263}\n",
      "{'convulution_kernel_size': 2, 'convulution_act': <ActivationType.relu: 'relu'>, 'pooling_layer_type': <PoolingTypes.avg_pooling: 1>, 'pooling_layer_kernel_size': 3, 'first_dense_layer_neurons': 152, 'first_dense_act': <ActivationType.relu: 'relu'>, 'second_dense_layer_neurons': 76, 'second_dense_act': <ActivationType.softmax: 'softmax'>, 'dropout_rate': 0.4904630089623164, 'optimizer_type': <OptimizerType.sgd: 2>, 'learning_rate': 0.019456694931229843, 'epochs': 6, 'batch_size': 32, 'loss': 0.9722029711723328, 'fitness': 2.0}\n",
      "{'convulution_kernel_size': 2, 'convulution_act': <ActivationType.relu: 'relu'>, 'pooling_layer_type': <PoolingTypes.avg_pooling: 1>, 'pooling_layer_kernel_size': 3, 'first_dense_layer_neurons': 170, 'first_dense_act': <ActivationType.relu: 'relu'>, 'second_dense_layer_neurons': 94, 'second_dense_act': <ActivationType.softmax: 'softmax'>, 'dropout_rate': 0.5051866133750875, 'optimizer_type': <OptimizerType.sgd: 2>, 'learning_rate': 0.019456694931229843, 'epochs': 6, 'batch_size': 32, 'loss': 0.9733619443893433, 'fitness': 1.9622641509433962}\n",
      "{'convulution_kernel_size': 2, 'convulution_act': <ActivationType.relu: 'relu'>, 'pooling_layer_type': <PoolingTypes.avg_pooling: 1>, 'pooling_layer_kernel_size': 3, 'first_dense_layer_neurons': 214, 'first_dense_act': <ActivationType.relu: 'relu'>, 'second_dense_layer_neurons': 99, 'second_dense_act': <ActivationType.softmax: 'softmax'>, 'dropout_rate': 0.5025641694318137, 'optimizer_type': <OptimizerType.sgd: 2>, 'learning_rate': 0.019456694931229843, 'epochs': 6, 'batch_size': 32, 'loss': 0.9776664667129517, 'fitness': 1.9245283018867925}\n",
      "{'convulution_kernel_size': 2, 'convulution_act': <ActivationType.relu: 'relu'>, 'pooling_layer_type': <PoolingTypes.avg_pooling: 1>, 'pooling_layer_kernel_size': 3, 'first_dense_layer_neurons': 204, 'first_dense_act': <ActivationType.relu: 'relu'>, 'second_dense_layer_neurons': 94, 'second_dense_act': <ActivationType.softmax: 'softmax'>, 'dropout_rate': 0.5044596031654293, 'optimizer_type': <OptimizerType.sgd: 2>, 'learning_rate': 0.019456694931229843, 'epochs': 6, 'batch_size': 32, 'loss': 0.9779601215362549, 'fitness': 1.8867924528301887}\n",
      "{'convulution_kernel_size': 2, 'convulution_act': <ActivationType.relu: 'relu'>, 'pooling_layer_type': <PoolingTypes.avg_pooling: 1>, 'pooling_layer_kernel_size': 3, 'first_dense_layer_neurons': 203, 'first_dense_act': <ActivationType.relu: 'relu'>, 'second_dense_layer_neurons': 104, 'second_dense_act': <ActivationType.softmax: 'softmax'>, 'dropout_rate': 0.5072533470497819, 'optimizer_type': <OptimizerType.sgd: 2>, 'learning_rate': 0.019456694931229843, 'epochs': 6, 'batch_size': 32, 'loss': 0.9797859024047851, 'fitness': 1.849056603773585}\n",
      "{'convulution_kernel_size': 2, 'convulution_act': <ActivationType.relu: 'relu'>, 'pooling_layer_type': <PoolingTypes.avg_pooling: 1>, 'pooling_layer_kernel_size': 3, 'first_dense_layer_neurons': 203, 'first_dense_act': <ActivationType.relu: 'relu'>, 'second_dense_layer_neurons': 94, 'second_dense_act': <ActivationType.softmax: 'softmax'>, 'dropout_rate': 0.5215070042917461, 'optimizer_type': <OptimizerType.sgd: 2>, 'learning_rate': 0.019456694931229843, 'epochs': 6, 'batch_size': 32, 'loss': 0.9838183138847351, 'fitness': 1.8113207547169812}\n",
      "{'convulution_kernel_size': 2, 'convulution_act': <ActivationType.relu: 'relu'>, 'pooling_layer_type': <PoolingTypes.avg_pooling: 1>, 'pooling_layer_kernel_size': 3, 'first_dense_layer_neurons': 268, 'first_dense_act': <ActivationType.relu: 'relu'>, 'second_dense_layer_neurons': 76, 'second_dense_act': <ActivationType.softmax: 'softmax'>, 'dropout_rate': 0.4977072799165641, 'optimizer_type': <OptimizerType.sgd: 2>, 'learning_rate': 0.019456694931229843, 'epochs': 6, 'batch_size': 32, 'loss': 0.9890440578460693, 'fitness': 1.7735849056603774}\n",
      "{'convulution_kernel_size': 2, 'convulution_act': <ActivationType.relu: 'relu'>, 'pooling_layer_type': <PoolingTypes.avg_pooling: 1>, 'pooling_layer_kernel_size': 3, 'first_dense_layer_neurons': 159, 'first_dense_act': <ActivationType.relu: 'relu'>, 'second_dense_layer_neurons': 104, 'second_dense_act': <ActivationType.softmax: 'softmax'>, 'dropout_rate': 0.5042679604357092, 'optimizer_type': <OptimizerType.sgd: 2>, 'learning_rate': 0.019456694931229843, 'epochs': 6, 'batch_size': 32, 'loss': 0.9900470071792603, 'fitness': 1.7358490566037736}\n",
      "{'convulution_kernel_size': 2, 'convulution_act': <ActivationType.relu: 'relu'>, 'pooling_layer_type': <PoolingTypes.avg_pooling: 1>, 'pooling_layer_kernel_size': 3, 'first_dense_layer_neurons': 240, 'first_dense_act': <ActivationType.relu: 'relu'>, 'second_dense_layer_neurons': 83, 'second_dense_act': <ActivationType.softmax: 'softmax'>, 'dropout_rate': 0.5215070042917461, 'optimizer_type': <OptimizerType.sgd: 2>, 'learning_rate': 0.019456694931229843, 'epochs': 6, 'batch_size': 32, 'loss': 0.9905371870994568, 'fitness': 1.6981132075471699}\n",
      "{'convulution_kernel_size': 2, 'convulution_act': <ActivationType.relu: 'relu'>, 'pooling_layer_type': <PoolingTypes.avg_pooling: 1>, 'pooling_layer_kernel_size': 3, 'first_dense_layer_neurons': 162, 'first_dense_act': <ActivationType.relu: 'relu'>, 'second_dense_layer_neurons': 86, 'second_dense_act': <ActivationType.softmax: 'softmax'>, 'dropout_rate': 0.5215070042917461, 'optimizer_type': <OptimizerType.sgd: 2>, 'learning_rate': 0.019456694931229843, 'epochs': 6, 'batch_size': 32, 'loss': 0.9913342610359192, 'fitness': 1.6603773584905661}\n",
      "{'convulution_kernel_size': 2, 'convulution_act': <ActivationType.relu: 'relu'>, 'pooling_layer_type': <PoolingTypes.avg_pooling: 1>, 'pooling_layer_kernel_size': 3, 'first_dense_layer_neurons': 259, 'first_dense_act': <ActivationType.relu: 'relu'>, 'second_dense_layer_neurons': 79, 'second_dense_act': <ActivationType.softmax: 'softmax'>, 'dropout_rate': 0.5030886784646438, 'optimizer_type': <OptimizerType.sgd: 2>, 'learning_rate': 0.019456694931229843, 'epochs': 6, 'batch_size': 32, 'loss': 0.991373969745636, 'fitness': 1.6226415094339623}\n",
      "{'convulution_kernel_size': 2, 'convulution_act': <ActivationType.relu: 'relu'>, 'pooling_layer_type': <PoolingTypes.avg_pooling: 1>, 'pooling_layer_kernel_size': 3, 'first_dense_layer_neurons': 203, 'first_dense_act': <ActivationType.relu: 'relu'>, 'second_dense_layer_neurons': 96, 'second_dense_act': <ActivationType.softmax: 'softmax'>, 'dropout_rate': 0.5215070042917461, 'optimizer_type': <OptimizerType.sgd: 2>, 'learning_rate': 0.019456694931229843, 'epochs': 6, 'batch_size': 32, 'loss': 0.9915729809761047, 'fitness': 1.5849056603773586}\n",
      "{'convulution_kernel_size': 2, 'convulution_act': <ActivationType.relu: 'relu'>, 'pooling_layer_type': <PoolingTypes.avg_pooling: 1>, 'pooling_layer_kernel_size': 3, 'first_dense_layer_neurons': 170, 'first_dense_act': <ActivationType.relu: 'relu'>, 'second_dense_layer_neurons': 94, 'second_dense_act': <ActivationType.softmax: 'softmax'>, 'dropout_rate': 0.5061854291303285, 'optimizer_type': <OptimizerType.sgd: 2>, 'learning_rate': 0.019456694931229843, 'epochs': 6, 'batch_size': 32, 'loss': 0.9927942469596863, 'fitness': 1.5471698113207548}\n",
      "{'convulution_kernel_size': 2, 'convulution_act': <ActivationType.relu: 'relu'>, 'pooling_layer_type': <PoolingTypes.avg_pooling: 1>, 'pooling_layer_kernel_size': 3, 'first_dense_layer_neurons': 268, 'first_dense_act': <ActivationType.relu: 'relu'>, 'second_dense_layer_neurons': 79, 'second_dense_act': <ActivationType.softmax: 'softmax'>, 'dropout_rate': 0.5030886784646438, 'optimizer_type': <OptimizerType.sgd: 2>, 'learning_rate': 0.019456694931229843, 'epochs': 6, 'batch_size': 32, 'loss': 0.9957490253448487, 'fitness': 1.509433962264151}\n",
      "{'convulution_kernel_size': 2, 'convulution_act': <ActivationType.relu: 'relu'>, 'pooling_layer_type': <PoolingTypes.avg_pooling: 1>, 'pooling_layer_kernel_size': 3, 'first_dense_layer_neurons': 202, 'first_dense_act': <ActivationType.relu: 'relu'>, 'second_dense_layer_neurons': 94, 'second_dense_act': <ActivationType.softmax: 'softmax'>, 'dropout_rate': 0.5111331121652593, 'optimizer_type': <OptimizerType.sgd: 2>, 'learning_rate': 0.019456694931229843, 'epochs': 6, 'batch_size': 32, 'loss': 0.9974503303527832, 'fitness': 1.471698113207547}\n",
      "{'convulution_kernel_size': 2, 'convulution_act': <ActivationType.relu: 'relu'>, 'pooling_layer_type': <PoolingTypes.avg_pooling: 1>, 'pooling_layer_kernel_size': 3, 'first_dense_layer_neurons': 268, 'first_dense_act': <ActivationType.relu: 'relu'>, 'second_dense_layer_neurons': 90, 'second_dense_act': <ActivationType.softmax: 'softmax'>, 'dropout_rate': 0.5369037703054195, 'optimizer_type': <OptimizerType.sgd: 2>, 'learning_rate': 0.019456694931229843, 'epochs': 6, 'batch_size': 32, 'loss': 0.9983451258659363, 'fitness': 1.4339622641509433}\n",
      "{'convulution_kernel_size': 2, 'convulution_act': <ActivationType.relu: 'relu'>, 'pooling_layer_type': <PoolingTypes.avg_pooling: 1>, 'pooling_layer_kernel_size': 3, 'first_dense_layer_neurons': 170, 'first_dense_act': <ActivationType.relu: 'relu'>, 'second_dense_layer_neurons': 88, 'second_dense_act': <ActivationType.softmax: 'softmax'>, 'dropout_rate': 0.5051866133750875, 'optimizer_type': <OptimizerType.sgd: 2>, 'learning_rate': 0.019456694931229843, 'epochs': 6, 'batch_size': 32, 'loss': 0.9986933632850648, 'fitness': 1.3962264150943395}\n",
      "{'convulution_kernel_size': 2, 'convulution_act': <ActivationType.relu: 'relu'>, 'pooling_layer_type': <PoolingTypes.avg_pooling: 1>, 'pooling_layer_kernel_size': 3, 'first_dense_layer_neurons': 202, 'first_dense_act': <ActivationType.relu: 'relu'>, 'second_dense_layer_neurons': 94, 'second_dense_act': <ActivationType.softmax: 'softmax'>, 'dropout_rate': 0.5111331121652593, 'optimizer_type': <OptimizerType.sgd: 2>, 'learning_rate': 0.019456694931229843, 'epochs': 6, 'batch_size': 32, 'loss': 0.9994851292610168, 'fitness': 1.3584905660377358}\n"
     ]
    }
   ],
   "source": [
    "\n",
    "\n",
    "for pop in last_pop:\n",
    "    print(vars(pop))"
   ],
   "metadata": {
    "collapsed": false,
    "pycharm": {
     "name": "#%%\n"
    }
   }
  },
  {
   "cell_type": "code",
   "execution_count": null,
   "outputs": [],
   "source": [
    "print(vars(min(last_pop, key=attrgetter('loss'))))"
   ],
   "metadata": {
    "collapsed": false,
    "pycharm": {
     "name": "#%%\n",
     "is_executing": true
    }
   }
  },
  {
   "cell_type": "code",
   "execution_count": null,
   "outputs": [],
   "source": [],
   "metadata": {
    "collapsed": false,
    "pycharm": {
     "name": "#%%\n"
    }
   }
  }
 ]
}