{
  "nbformat": 4,
  "nbformat_minor": 0,
  "metadata": {
    "colab": {
      "name": "neural-networks-hw.ipynb",
      "provenance": [],
      "collapsed_sections": []
    },
    "kernelspec": {
      "name": "python3",
      "display_name": "Python 3"
    },
    "language_info": {
      "name": "python"
    },
    "accelerator": "GPU"
  },
  "cells": [
    {
      "cell_type": "code",
      "execution_count": 1,
      "metadata": {
        "id": "LswNlPo6GRdu",
        "pycharm": {
          "name": "#%%\n"
        }
      },
      "outputs": [],
      "source": [
        "import copy\n",
        "import os\n",
        "import numpy as np\n",
        "import random\n",
        "import time\n",
        "import copy\n",
        "from operator import attrgetter\n",
        "\n",
        "import matplotlib.pyplot as plt\n",
        "from joblib import Parallel, delayed\n",
        "from enum import Enum\n",
        "import ssl\n",
        "ssl._create_default_https_context = ssl._create_unverified_context\n",
        "\n",
        "#os.environ[\"KERAS_BACKEND\"] = \"plaidml.keras.backend\"\n",
        "\n",
        "import keras\n",
        "from keras.datasets import cifar10\n",
        "from keras.utils.np_utils import to_categorical\n",
        "from keras.layers import Dense, Flatten, Activation, Conv2D, MaxPooling2D, AveragePooling2D, Dropout\n",
        "from keras.models import Sequential\n",
        "from tensorflow.keras.optimizers import SGD, Adam"
      ]
    },
    {
      "cell_type": "markdown",
      "source": [
        "# Configuration"
      ],
      "metadata": {
        "id": "VWaw1YaL89QO",
        "pycharm": {
          "name": "#%% md\n"
        }
      }
    },
    {
      "cell_type": "code",
      "source": [
        "class ActivationType(Enum):\n",
        "  relu = 'relu'\n",
        "  softmax = 'softmax'     \n",
        "  elu = 'elu'  "
      ],
      "metadata": {
        "id": "H9CionTlAJu7",
        "pycharm": {
          "name": "#%%\n"
        }
      },
      "execution_count": 2,
      "outputs": []
    },
    {
      "cell_type": "code",
      "source": [
        "class PoolingTypes(Enum):\n",
        "  avg_pooling = 1\n",
        "  max_pooling = 2"
      ],
      "metadata": {
        "id": "U5VNaPViAeSe",
        "pycharm": {
          "name": "#%%\n"
        }
      },
      "execution_count": 3,
      "outputs": []
    },
    {
      "cell_type": "code",
      "source": [
        "class OptimizerType(Enum):\n",
        "  adam = 1\n",
        "  sgd = 2"
      ],
      "metadata": {
        "id": "bde0-H5NBi95",
        "pycharm": {
          "name": "#%%\n"
        }
      },
      "execution_count": 4,
      "outputs": []
    },
    {
      "cell_type": "code",
      "source": [
        "class Configuration:\n",
        "  kernel_size_set = range(1, 10, 2)\n",
        "  act_set = [ActivationType.relu, ActivationType.softmax]\n",
        "  pooling_set = [PoolingTypes.max_pooling, PoolingTypes.avg_pooling]\n",
        "  neuron_set = range(1, 300)\n",
        "  epochs_set = range(1, 20)  \n",
        "  batch_size_set = [16, 32, 64]\n",
        "  optimizer_set = [OptimizerType.adam, OptimizerType.sgd]\n",
        "\n",
        "  def __init__(self, convulution_kernel_size = 3, \n",
        "               convulution_act = ActivationType.relu, \n",
        "               pooling_layer_type = PoolingTypes.max_pooling, \n",
        "               pooling_layer_kernel_size = 2, \n",
        "               first_dense_layer_neurons = 256, \n",
        "               first_dense_act = ActivationType.relu, \n",
        "               second_dense_act = ActivationType.softmax, \n",
        "               include_first_droput_layer = False,\n",
        "               first_dropout_rate = 0.5, \n",
        "               include_second_droput_layer = True,\n",
        "               second_dropout_rate = 0.5, \n",
        "               optimizer_type = OptimizerType.sgd, \n",
        "               learning_rate = 0.01,\n",
        "               epochs = 15, \n",
        "               batch_size = 32) -> None:\n",
        "    self.convulution_kernel_size = convulution_kernel_size\n",
        "    self.convulution_act = convulution_act\n",
        "    self.pooling_layer_type = pooling_layer_type\n",
        "    self.pooling_layer_kernel_size = pooling_layer_kernel_size\n",
        "    self.first_dense_layer_neurons = first_dense_layer_neurons\n",
        "    self.first_dense_act = first_dense_act    \n",
        "    self.second_dense_act = second_dense_act\n",
        "    self.include_first_droput_layer = include_first_droput_layer\n",
        "    self.first_dropout_rate = first_dropout_rate\n",
        "    self.include_second_droput_layer = include_second_droput_layer\n",
        "    self.second_dropout_rate = second_dropout_rate\n",
        "    self.optimizer_type = optimizer_type\n",
        "    self.learning_rate = learning_rate\n",
        "    self.epochs = epochs\n",
        "    self.batch_size = batch_size\n",
        "    self.loss = None\n",
        "    self.fitness = 0"
      ],
      "metadata": {
        "id": "sOK0WfPV8678",
        "pycharm": {
          "name": "#%%\n"
        }
      },
      "execution_count": 6,
      "outputs": []
    },
    {
      "cell_type": "code",
      "source": [
        "def create_random():\n",
        "  first_dense_neurons = random.choice(Configuration.neuron_set)\n",
        "  second_dense_neurons = random.choice(range(min(Configuration.neuron_set), first_dense_neurons))\n",
        "  return Configuration(\n",
        "      random.choice(Configuration.kernel_size_set),\n",
        "      random.choice(Configuration.act_set),\n",
        "      random.choice(Configuration.pooling_set),\n",
        "      random.choice(Configuration.kernel_size_set),\n",
        "      first_dense_neurons,\n",
        "      random.choice(Configuration.act_set),\n",
        "      random.choice(Configuration.act_set),\n",
        "      bool(random.getrandbits(1)),\n",
        "      random.uniform(0, 1),\n",
        "      bool(random.getrandbits(1)),\n",
        "      random.uniform(0, 1),\n",
        "      random.choice(Configuration.optimizer_set),\n",
        "      random.uniform(0.0001, 0.2),\n",
        "      random.choice(Configuration.epochs_set),\n",
        "      random.choice(Configuration.batch_size_set)\n",
        "  )"
      ],
      "metadata": {
        "id": "tLPb2pnfPjgR",
        "pycharm": {
          "name": "#%%\n"
        }
      },
      "execution_count": 7,
      "outputs": []
    },
    {
      "cell_type": "markdown",
      "source": [
        "# CNN"
      ],
      "metadata": {
        "id": "qPiajPVcRNZy",
        "pycharm": {
          "name": "#%% md\n"
        }
      }
    },
    {
      "cell_type": "code",
      "source": [
        "def plotLosses(history):  \n",
        "    plt.plot(history.history['loss'])\n",
        "    # plt.plot(history.history['val_loss'])\n",
        "    plt.title('model loss')\n",
        "    plt.ylabel('loss')\n",
        "    plt.xlabel('epoch')\n",
        "    plt.legend(['train', 'validation'], loc='upper left')\n",
        "    plt.show()"
      ],
      "metadata": {
        "id": "dgUpv79MPrI2",
        "pycharm": {
          "name": "#%%\n"
        }
      },
      "execution_count": 8,
      "outputs": []
    },
    {
      "cell_type": "code",
      "source": [
        "def cnn(config, img_train, img_test, label_train, label_test):\n",
        "  if config.loss is not None:\n",
        "    return config.loss\n",
        "\n",
        "  model = Sequential()\n",
        "\n",
        "  model.add(Conv2D(32, (config.convulution_kernel_size, config.convulution_kernel_size), activation=config.convulution_act.value, input_shape=(32, 32, 3)))\n",
        "  model.add(Conv2D(32, (config.convulution_kernel_size, config.convulution_kernel_size), activation=config.convulution_act.value))\n",
        "\n",
        "  if config.pooling_layer_type == PoolingTypes.max_pooling:\n",
        "    model.add(MaxPooling2D(pool_size=(config.pooling_layer_kernel_size, config.pooling_layer_kernel_size)))\n",
        "  elif config.pooling_layer_type == PoolingTypes.avg_pooling:\n",
        "    model.add(AveragePooling2D(pool_size = (config.pooling_layer_kernel_size, config.pooling_layer_kernel_size)))\n",
        "  if config.include_first_droput_layer:\n",
        "    model.add(Dropout(config.first_dropout_rate))\n",
        "\n",
        "  model.add(Flatten())\n",
        "  model.add(Dense(config.first_dense_layer_neurons, activation=config.first_dense_act.value))\n",
        "  if config.include_second_droput_layer:\n",
        "    model.add(Dropout(config.second_dropout_rate))\n",
        "\n",
        "  model.add(Dense(10, activation=config.second_dense_act.value)) # ennek softmaxnak kell lennie\n",
        "\n",
        "  if config.optimizer_type == OptimizerType.sgd:\n",
        "    opt = SGD(lr=config.learning_rate, decay=1e-6, momentum=0.9, nesterov=True)\n",
        "  elif config.optimizer_type == OptimizerType.adam:\n",
        "    opt = Adam(lr=config.learning_rate)\n",
        "\n",
        "  model.compile(loss='categorical_crossentropy', metrics=['accuracy'], optimizer=opt)\n",
        "  history = model.fit(img_train,label_train, epochs=config.epochs, batch_size=config.batch_size, verbose=2, validation_split=0.0)\n",
        "  #plotLosses(history)\n",
        "  return model.evaluate(img_test, label_test)[0]\n"
      ],
      "metadata": {
        "id": "Wd-yuzIqLoW1",
        "pycharm": {
          "name": "#%%\n"
        }
      },
      "execution_count": 9,
      "outputs": []
    },
    {
      "cell_type": "code",
      "source": [
        "(img_train, label_train), (img_test, label_test) = cifar10.load_data()\n",
        "label_train = to_categorical(label_train, num_classes=10)\n",
        "label_test = to_categorical(label_test, num_classes=10)\n",
        "img_train = img_train.astype('float32')\n",
        "img_test = img_test.astype('float32')\n",
        "img_train /= 255\n",
        "img_test /= 255"
      ],
      "metadata": {
        "id": "WCtNtIRCHHxM",
        "pycharm": {
          "name": "#%%\n"
        },
        "colab": {
          "base_uri": "https://localhost:8080/"
        },
        "outputId": "60cd950c-d50c-450c-cc8d-55238e26d6a4"
      },
      "execution_count": 10,
      "outputs": [
        {
          "output_type": "stream",
          "name": "stdout",
          "text": [
            "Downloading data from https://www.cs.toronto.edu/~kriz/cifar-10-python.tar.gz\n",
            "170500096/170498071 [==============================] - 3s 0us/step\n",
            "170508288/170498071 [==============================] - 3s 0us/step\n"
          ]
        }
      ]
    },
    {
      "cell_type": "code",
      "source": [
        "config = Configuration(2, ActivationType.relu, PoolingTypes.avg_pooling, 2, 151, ActivationType.relu, 42, ActivationType.softmax, 0.6599541350938929, OptimizerType.sgd, 0.020280410342938485, 3, 32)\n",
        "res = cnn(config, img_train, img_test, label_train, label_test)\n",
        "\n",
        "print(res)"
      ],
      "metadata": {
        "colab": {
          "base_uri": "https://localhost:8080/"
        },
        "id": "kcM9yC8ZPr-O",
        "outputId": "c60d21ba-e55a-43e7-d250-eafe26f077f5",
        "pycharm": {
          "name": "#%%\n"
        }
      },
      "execution_count": null,
      "outputs": [
        {
          "name": "stderr",
          "output_type": "stream",
          "text": [
            "INFO:plaidml:Opening device \"opencl_amd_ellesmere.0\"\n"
          ]
        },
        {
          "name": "stdout",
          "output_type": "stream",
          "text": [
            "Epoch 1/3\n",
            " - 24s - loss: 1.5788 - acc: 0.4327\n",
            "Epoch 2/3\n",
            " - 15s - loss: 1.2063 - acc: 0.5717\n",
            "Epoch 3/3\n",
            " - 15s - loss: 0.9899 - acc: 0.6492\n",
            "10000/10000 [==============================] - 4s 418us/step\n",
            "1.0704704772949218\n"
          ]
        }
      ]
    },
    {
      "cell_type": "markdown",
      "source": [
        "# Genetic Algorithm"
      ],
      "metadata": {
        "id": "xURpGO8uSBnS",
        "pycharm": {
          "name": "#%% md\n"
        }
      }
    },
    {
      "cell_type": "code",
      "source": [
        "class GA_parameters:\n",
        "  max_population_size = 50\n",
        "  min_population_size = 6\n",
        "  population_size = 40\n",
        "  max_number_of_generations = 90\n",
        "  min_number_of_generations = 10\n",
        "  number_of_generations = 25\n",
        "  mutation_rate = 0.3\n",
        "  min_mutation_rate = 0.0\n",
        "  crossover_rate = 0.8\n",
        "  min_crossover_rate = 0.1\n",
        "  parameters_number = 15\n",
        "  elite_rate = 0.1"
      ],
      "metadata": {
        "id": "mp90iQqNTti1",
        "pycharm": {
          "name": "#%%\n"
        }
      },
      "execution_count": 24,
      "outputs": []
    },
    {
      "cell_type": "code",
      "source": [
        "def fitness(population):\n",
        "  loss_values = np.empty((len(population), 2), float)\n",
        "  \n",
        "  fitness_values = [0 for _ in range(len(population))]\n",
        "  for j in range(len(population)):\n",
        "    loss_values[j][0] = j\n",
        "    loss_values[j][1] = population[j].loss\n",
        "\n",
        "  loss_sorted = loss_values[loss_values[:, 1].argsort()]\n",
        "\n",
        "  sp = 2#loss_sorted[0][1] - loss_sorted[-1][1]\n",
        "  for j in range(len(population), 0, -1):\n",
        "    fitness = 2-sp + 2 * (sp - 1) * (j - 1) / (len(population) - 1)\n",
        "    fitness_values[int(loss_sorted[len(population)-j][0])] = fitness\n",
        "    population[int(loss_sorted[len(population)-j][0])].fitness = fitness\n",
        "\n",
        "  return fitness_values"
      ],
      "metadata": {
        "id": "FSnmOnBHTPUW",
        "pycharm": {
          "name": "#%%\n"
        }
      },
      "execution_count": 12,
      "outputs": []
    },
    {
      "cell_type": "code",
      "source": [
        "def select_parents(fitness_values, population):\n",
        "  selected_parent_idx = [0 for _ in range(GA_parameters.population_size)]\n",
        "  fitness_tuples = [(i, fitness_values[i]) for i in range(GA_parameters.population_size)]\n",
        "  sorted_fitnesses = sorted(fitness_tuples, key=lambda tup: tup[1])\n",
        "  print(sorted_fitnesses)\n",
        "  #sorted_fitnesses = sorted_fitnesses[::-1]\n",
        "  print(sorted_fitnesses)\n",
        "  fitness_sum = sum(fitness_values)\n",
        "  distance = fitness_sum / GA_parameters.population_size\n",
        "  shift = random.uniform(0, distance)\n",
        "\n",
        "  borders = [0 for _ in range(GA_parameters.population_size)]\n",
        "\n",
        "  for i in range(GA_parameters.population_size):\n",
        "    new_border = shift + i * distance\n",
        "    borders[i] = new_border\n",
        "\n",
        "  for border_id in range(len(borders)):\n",
        "    i = 0\n",
        "    roulette_sum = sorted_fitnesses[i][1]\n",
        "    while roulette_sum < borders[border_id]:\n",
        "      i = i + 1\n",
        "      roulette_sum = roulette_sum + sorted_fitnesses[i][1]\n",
        "\n",
        "    selected_parent_idx[border_id] = sorted_fitnesses[i][0]\n",
        "\n",
        "  return selected_parent_idx"
      ],
      "metadata": {
        "id": "3tfWegsAS2p1",
        "pycharm": {
          "name": "#%%\n"
        }
      },
      "execution_count": 13,
      "outputs": []
    },
    {
      "cell_type": "code",
      "execution_count": 14,
      "outputs": [],
      "source": [
        "def crossover_blend(p1, p2, round_value):\n",
        "    c1 = p1\n",
        "    c2 = p2\n",
        "\n",
        "    r = random.uniform(0, 1)\n",
        "    c1 = p1 + r * (p2 - p1)\n",
        "    c2 = p2 - r * (p2 - p1)\n",
        "\n",
        "    if round_value:\n",
        "      c1 = round(c1)\n",
        "      c2 = round(c2)\n",
        "\n",
        "    return c1, c2\n"
      ],
      "metadata": {
        "pycharm": {
          "name": "#%%\n"
        },
        "id": "nx990L4VvsMv"
      }
    },
    {
      "cell_type": "code",
      "execution_count": 15,
      "outputs": [],
      "source": [
        "def crossover_operation(p1, p2):\n",
        "    prob = 0.5\n",
        "    c1 = copy.deepcopy(p1)\n",
        "    c2 = copy.deepcopy(p2)\n",
        "\n",
        "    if random.uniform(0,1) < prob:\n",
        "      c1.convulution_kernel_size, c2.convulution_kernel_size = crossover_blend(p1.convulution_kernel_size, p2.convulution_kernel_size, True)\n",
        "    if random.uniform(0,1) < prob:\n",
        "      c1.convulution_act, c2.convulution_act = p2.convulution_act, p1.convulution_act\n",
        "    if random.uniform(0,1) < prob:\n",
        "      c1.pooling_layer_type, c2.pooling_layer_type = p2.pooling_layer_type, p1.pooling_layer_type\n",
        "    if random.uniform(0,1) < prob:\n",
        "      c1.pooling_layer_kernel_size, c2.pooling_layer_kernel_size = crossover_blend(p1.pooling_layer_kernel_size, p2.pooling_layer_kernel_size, True)\n",
        "    if random.uniform(0,1) < prob:\n",
        "      c1.first_dense_layer_neurons, c2.first_dense_layer_neurons = crossover_blend(p1.first_dense_layer_neurons, p2.first_dense_layer_neurons, True)\n",
        "    if random.uniform(0,1) < prob:\n",
        "      c1.first_dense_act, c2.first_dense_act = p2.first_dense_act, p1.first_dense_act\n",
        "    if random.uniform(0,1) < prob:\n",
        "      c1.second_dense_layer_neurons, c2.second_dense_layer_neurons = crossover_blend(p1.second_dense_layer_neurons, p2.second_dense_layer_neurons, True)\n",
        "    if random.uniform(0,1) < prob:\n",
        "      c1.second_dense_act, c2.second_dense_act = p2.second_dense_act, p1.second_dense_act\n",
        "    if random.uniform(0,1) < prob:\n",
        "      c1.first_dropout_rate, c2.first_dropout_rate = crossover_blend(p1.first_dropout_rate, p2.first_dropout_rate, False)\n",
        "    if random.uniform(0,1) < prob:\n",
        "      c1.second_dropout_rate, c2.second_dropout_rate = crossover_blend(p1.second_dropout_rate, p2.second_dropout_rate, False)\n",
        "    if random.uniform(0,1) < prob:\n",
        "      c1.include_first_droput_layer, c2.include_first_droput_layer = p2.include_first_droput_layer, p1.include_first_droput_layer\n",
        "    if random.uniform(0,1) < prob:\n",
        "      c1.include_second_droput_layer, c2.include_second_droput_layer = p2.include_second_droput_layer, p1.include_second_droput_layer\n",
        "    if random.uniform(0,1) < prob:\n",
        "      c1.optimizer_type, c2.optimizer_type = p2.optimizer_type, p1.optimizer_type\n",
        "    if random.uniform(0,1) < prob:\n",
        "      c1.learning_rate, c2.learning_rate = crossover_blend(p1.learning_rate, p2.learning_rate, False)\n",
        "    if random.uniform(0,1) < prob:\n",
        "      c1.epochs, c2.epochs = crossover_blend(p1.epochs, p2.epochs, True)\n",
        "    if random.uniform(0,1) < prob:\n",
        "      c1.batch_size, c2.batch_size = p2.batch_size, p1.batch_size\n",
        "\n",
        "    c1.fitness = 0\n",
        "    c2.fitness = 0\n",
        "    c1.loss = None\n",
        "    c2.loss = None\n",
        "    return c1, c2"
      ],
      "metadata": {
        "pycharm": {
          "name": "#%%\n"
        },
        "id": "a-x3tRpEvsMv"
      }
    },
    {
      "cell_type": "code",
      "source": [
        "def pair_exists(pairs, candidate):\n",
        "  for p in pairs:\n",
        "    if p == candidate or p == candidate[::-1]:\n",
        "      return True\n",
        "  return False\n",
        "\n",
        "def crossover(population, parents):\n",
        "  parent_pair_number = round(len(population) * GA_parameters.crossover_rate)\n",
        "\n",
        "  combinations = len(set(parents)) * (len(set(parents))-1)\n",
        "  if combinations < parent_pair_number:\n",
        "      parent_pair_number = combinations\n",
        "\n",
        "  pairs = [[0, 0] for _ in range(parent_pair_number)]\n",
        "  for i in range(parent_pair_number):\n",
        "    a = random.choice(parents)\n",
        "    leftover = parents.copy()\n",
        "    leftover = list(filter(lambda x: x != a, leftover))\n",
        "\n",
        "    b = random.choice(leftover)\n",
        "    random_pair = [a, b]\n",
        "    while random_pair[0] == random_pair[1] and pair_exists(pairs, random_pair):\n",
        "      a = random.choice(parents)\n",
        "      leftover = parents\n",
        "      leftover = list(filter(lambda x: x != a, leftover))\n",
        "      print(leftover)\n",
        "      b = random.choice(leftover)\n",
        "      random_pair = [a, b]\n",
        "\n",
        "    pairs[i] = random_pair\n",
        "\n",
        "  childs = []\n",
        "\n",
        "  for p in pairs:\n",
        "    c1, c2 = crossover_operation(population[p[0]], population[p[1]])\n",
        "    childs.append(c1)\n",
        "    childs.append(c2)\n",
        "\n",
        "  return childs\n"
      ],
      "metadata": {
        "id": "m8-sgw5ISQuL",
        "pycharm": {
          "name": "#%%\n"
        }
      },
      "execution_count": 16,
      "outputs": []
    },
    {
      "cell_type": "code",
      "execution_count": 17,
      "outputs": [],
      "source": [
        "def mutate(x, sigma, round_value, bounds):\n",
        "    res = x + random.gauss(0, sigma)\n",
        "    if round_value:\n",
        "        res = round(res)\n",
        "    if max(bounds) > res > min(bounds):\n",
        "        return res\n",
        "\n",
        "    return x"
      ],
      "metadata": {
        "pycharm": {
          "name": "#%%\n"
        },
        "id": "G5NERqkHvsMx"
      }
    },
    {
      "cell_type": "code",
      "source": [
        "def mutation_operation(population):\n",
        "    prob = 0.5\n",
        "    choosen = random.sample(range(0, len(population)), round(len(population) * GA_parameters.mutation_rate))\n",
        "    mutated = []\n",
        "    for p_id in choosen:\n",
        "        p = population[p_id]\n",
        "        m = copy.deepcopy(p)\n",
        "\n",
        "        if random.uniform(0,1) < prob:\n",
        "          m.convulution_kernel_size = mutate(p.convulution_kernel_size, 1, True, Configuration.kernel_size_set)\n",
        "        if random.uniform(0,1) < prob:\n",
        "          m.convulution_act = random.choice(Configuration.act_set)\n",
        "        if random.uniform(0,1) < prob:\n",
        "          m.pooling_layer_type = random.choice(Configuration.pooling_set)\n",
        "        if random.uniform(0,1) < prob:\n",
        "          m.pooling_layer_kernel_size = mutate(p.pooling_layer_kernel_size, 1, True, Configuration.kernel_size_set)\n",
        "        if random.uniform(0,1) < prob:\n",
        "          m.first_dense_layer_neurons = mutate(p.first_dense_layer_neurons, 10, True, Configuration.neuron_set)\n",
        "        if random.uniform(0,1) < prob:\n",
        "          m.first_dense_act = random.choice(Configuration.act_set)\n",
        "        if random.uniform(0,1) < prob:\n",
        "          m.second_dense_layer_neurons = mutate(p.second_dense_layer_neurons, 10, True, Configuration.neuron_set)\n",
        "        if random.uniform(0,1) < prob:\n",
        "          m.second_dense_act = random.choice(Configuration.act_set)\n",
        "        if random.uniform(0,1) < prob:\n",
        "          m.first_dropout_rate = mutate(p.first_dropout_rate, 0.05, False, [0, 1])\n",
        "        if random.uniform(0,1) < prob:\n",
        "          m.second_dropout_rate = mutate(p.second_dropout_rate, 0.05, False, [0, 1])\n",
        "        if random.uniform(0,1) < prob:\n",
        "          m.include_first_droput_layer = not m.include_first_droput_layer\n",
        "        if random.uniform(0,1) < prob:\n",
        "          m.include_second_droput_layer = not m.include_second_droput_layer\n",
        "        if random.uniform(0,1) < prob:\n",
        "          m.optimizer_type = random.choice(Configuration.optimizer_set)\n",
        "        if random.uniform(0,1) < prob:\n",
        "          m.learning_rate = mutate(p.learning_rate, 0.01, False, [0.0001, 0.1])\n",
        "        if random.uniform(0,1) < prob:\n",
        "          m.epochs = mutate(p.epochs, 1, True, [1, 20])\n",
        "        if random.uniform(0,1) < prob:\n",
        "          m.batch_size = random.choice(Configuration.batch_size_set)\n",
        "\n",
        "        m.fitness = 0\n",
        "        m.loss = None\n",
        "        mutated.append(m)\n",
        "    return mutated"
      ],
      "metadata": {
        "id": "498d9MhXSmKj",
        "pycharm": {
          "name": "#%%\n"
        }
      },
      "execution_count": 18,
      "outputs": []
    },
    {
      "cell_type": "code",
      "source": [
        "def select_new_population(population, childs, mutated):\n",
        "    sorted_pop = sorted(population, key=lambda x: x.fitness, reverse=True)\n",
        "    new_population = sorted_pop[0 : round(len(population) * GA_parameters.elite_rate)]\n",
        "    leftover = sorted_pop[round(len(population) * GA_parameters.elite_rate)::]\n",
        "\n",
        "    leftover = leftover + childs + mutated\n",
        "\n",
        "    def proc(i):\n",
        "        loss = cnn(leftover[i], img_train, img_test, label_train, label_test)\n",
        "        return loss\n",
        "\n",
        "    losses = Parallel(n_jobs=3)(delayed(proc)(i) for i in range(len(leftover)))\n",
        "    for j in range(len(leftover)):\n",
        "      leftover[j].loss = losses[j]\n",
        "\n",
        "    fitness_values = fitness(leftover)\n",
        "    for j in range(len(leftover)):\n",
        "      leftover[j].fitness = fitness_values[j]\n",
        "\n",
        "    leftover_chosen = sorted(leftover, key=lambda x: x.fitness, reverse=True)[0 : GA_parameters.population_size - round(len(population) * GA_parameters.elite_rate)]\n",
        "\n",
        "    new_population = new_population + leftover_chosen\n",
        "\n",
        "    return new_population"
      ],
      "metadata": {
        "id": "IzL3-q49Sr2a",
        "pycharm": {
          "name": "#%%\n"
        }
      },
      "execution_count": 19,
      "outputs": []
    },
    {
      "cell_type": "code",
      "source": [
        "def average(series, period):\n",
        "  if len(series) < period:\n",
        "    return np.nan\n",
        "  else:\n",
        "    return sum(series[-period -1 : -1]) / period"
      ],
      "metadata": {
        "id": "FlioPoC5D4XI"
      },
      "execution_count": 20,
      "outputs": []
    },
    {
      "cell_type": "code",
      "source": [
        "def is_improvement_positive(population_fit, period = 10, gap = 0.01):\n",
        "  avg = average(population_fit, period)\n",
        "  if np.isnan(avg) or avg == 0:\n",
        "    return True\n",
        "\n",
        "  return population_fit[-1] < avg * (1 - gap)"
      ],
      "metadata": {
        "id": "Z1cbkhvsDpTj"
      },
      "execution_count": 21,
      "outputs": []
    },
    {
      "cell_type": "code",
      "source": [
        "population = [create_random() for a in range(GA_parameters.population_size)]\n",
        "for j in range(GA_parameters.population_size):\n",
        "  print(vars(population[j]))\n",
        "\n",
        "def process(i):\n",
        "    loss = cnn(population[i], img_train, img_test, label_train, label_test)\n",
        "    #population[i].loss = loss\n",
        "    return loss\n",
        "\n",
        "start = time.perf_counter()\n",
        "losses = Parallel(n_jobs=3)(delayed(process)(i) for i in range(GA_parameters.population_size))\n",
        "end = time.perf_counter()\n",
        "for j in range(GA_parameters.population_size):\n",
        "  print(vars(population[j]))\n"
      ],
      "metadata": {
        "id": "zVyMN4g6S0Kp",
        "pycharm": {
          "name": "#%%\n"
        }
      },
      "execution_count": null,
      "outputs": []
    },
    {
      "cell_type": "code",
      "execution_count": null,
      "outputs": [
        {
          "name": "stdout",
          "output_type": "stream",
          "text": [
            "1500.1381 seconds\n"
          ]
        }
      ],
      "source": [
        "elapsed_time = end-start\n",
        "print(f\"{elapsed_time:0.4f} seconds\")"
      ],
      "metadata": {
        "pycharm": {
          "name": "#%%\n"
        },
        "id": "9ZMvGZg1vsMz",
        "outputId": "75126dc9-6ac8-4da5-bb92-7a84374bc147"
      }
    },
    {
      "cell_type": "code",
      "source": [
        "for j in range(GA_parameters.population_size):\n",
        "  print(population[j].loss)"
      ],
      "metadata": {
        "colab": {
          "base_uri": "https://localhost:8080/"
        },
        "id": "4Y9rBY4Vlrwt",
        "outputId": "57be8b44-e87b-4d73-deb9-e64ecde0eda1",
        "pycharm": {
          "name": "#%%\n"
        }
      },
      "execution_count": null,
      "outputs": [
        {
          "name": "stdout",
          "output_type": "stream",
          "text": [
            "2.309623580169678\n",
            "8.870509118652343\n",
            "6.1983064155578615\n",
            "2.3126065975189207\n",
            "4.875065173339844\n",
            "2.3059911834716798\n",
            "11.613233776855468\n",
            "7.52274270324707\n",
            "2.309860329055786\n",
            "2.304917765045166\n"
          ]
        }
      ]
    },
    {
      "cell_type": "code",
      "source": [
        "for j in range(GA_parameters.population_size):\n",
        "  population[j].loss = losses[j]\n",
        "  #print(vars(population[j]))\n",
        "\n",
        "fitness_values = fitness(population)\n",
        "for j in range(GA_parameters.population_size):\n",
        "    population[j].fitness = fitness_values[j]\n",
        "\n",
        "print(fitness_values)"
      ],
      "metadata": {
        "colab": {
          "base_uri": "https://localhost:8080/"
        },
        "id": "WrYwtuAT1cT_",
        "outputId": "ea93a152-522c-4bb7-96be-30dae684679c",
        "pycharm": {
          "name": "#%%\n"
        }
      },
      "execution_count": null,
      "outputs": [
        {
          "name": "stdout",
          "output_type": "stream",
          "text": [
            "[1.5555555555555556, 0.2222222222222222, 0.6666666666666666, 1.1111111111111112, 0.8888888888888888, 1.7777777777777777, 0.0, 0.4444444444444444, 1.3333333333333333, 2.0]\n"
          ]
        }
      ]
    },
    {
      "cell_type": "code",
      "execution_count": null,
      "outputs": [
        {
          "name": "stdout",
          "output_type": "stream",
          "text": [
            "[(6, 0.0), (1, 0.2222222222222222), (7, 0.4444444444444444), (2, 0.6666666666666666), (4, 0.8888888888888888), (3, 1.1111111111111112), (8, 1.3333333333333333), (0, 1.5555555555555556), (5, 1.7777777777777777), (9, 2.0)]\n",
            "[(6, 0.0), (1, 0.2222222222222222), (7, 0.4444444444444444), (2, 0.6666666666666666), (4, 0.8888888888888888), (3, 1.1111111111111112), (8, 1.3333333333333333), (0, 1.5555555555555556), (5, 1.7777777777777777), (9, 2.0)]\n"
          ]
        }
      ],
      "source": [
        "parents = select_parents(fitness_values, population)"
      ],
      "metadata": {
        "pycharm": {
          "name": "#%%\n"
        },
        "id": "N4F8v9BUvsM0",
        "outputId": "ad745d75-191f-4a59-94e9-0071722646c6"
      }
    },
    {
      "cell_type": "code",
      "execution_count": null,
      "outputs": [
        {
          "name": "stdout",
          "output_type": "stream",
          "text": [
            "{'convulution_kernel_size': 3, 'convulution_act': <ActivationType.relu: 'relu'>, 'pooling_layer_type': <PoolingTypes.max_pooling: 2>, 'pooling_layer_kernel_size': 1, 'first_dense_layer_neurons': 207, 'first_dense_act': <ActivationType.relu: 'relu'>, 'second_dense_layer_neurons': 129, 'second_dense_act': <ActivationType.softmax: 'softmax'>, 'dropout_rate': 0.6897607009757344, 'optimizer_type': <OptimizerType.adam: 1>, 'learning_rate': 0.0951055041134371, 'epochs': 3, 'batch_size': 16, 'loss': 2.309623580169678, 'fitness': 1.5555555555555556}\n"
          ]
        }
      ],
      "source": [
        "childs = crossover(population, parents)\n",
        "print(vars(childs[0]))"
      ],
      "metadata": {
        "pycharm": {
          "name": "#%%\n"
        },
        "id": "6jVw6MxTvsM0",
        "outputId": "358fe234-6b37-4eb3-d95c-e45000deb40b"
      }
    },
    {
      "cell_type": "code",
      "execution_count": null,
      "outputs": [
        {
          "name": "stdout",
          "output_type": "stream",
          "text": [
            "{'convulution_kernel_size': 3, 'convulution_act': <ActivationType.relu: 'relu'>, 'pooling_layer_type': <PoolingTypes.avg_pooling: 1>, 'pooling_layer_kernel_size': 2, 'first_dense_layer_neurons': 133, 'first_dense_act': <ActivationType.relu: 'relu'>, 'second_dense_layer_neurons': 126, 'second_dense_act': <ActivationType.relu: 'relu'>, 'dropout_rate': 0.39073201474356, 'optimizer_type': <OptimizerType.adam: 1>, 'learning_rate': 0.053857042637628076, 'epochs': 4, 'batch_size': 16, 'loss': None, 'fitness': 0}\n"
          ]
        }
      ],
      "source": [
        "mutated = mutation_operation(population)\n",
        "print(vars(mutated[0]))"
      ],
      "metadata": {
        "pycharm": {
          "name": "#%%\n"
        },
        "id": "KA5Ebhu5vsM1",
        "outputId": "b589410e-083b-426b-fb90-d75d7dd62de6"
      }
    },
    {
      "cell_type": "code",
      "execution_count": null,
      "outputs": [
        {
          "ename": "UnboundLocalError",
          "evalue": "local variable 'opt' referenced before assignment",
          "output_type": "error",
          "traceback": [
            "\u001b[1;31m---------------------------------------------------------------------------\u001b[0m",
            "\u001b[1;31m_RemoteTraceback\u001b[0m                          Traceback (most recent call last)",
            "\u001b[1;31m_RemoteTraceback\u001b[0m: \n\"\"\"\nTraceback (most recent call last):\n  File \"C:\\ProgramData\\Anaconda3\\envs\\gpu2\\lib\\site-packages\\joblib\\externals\\loky\\process_executor.py\", line 436, in _process_worker\n    r = call_item()\n  File \"C:\\ProgramData\\Anaconda3\\envs\\gpu2\\lib\\site-packages\\joblib\\externals\\loky\\process_executor.py\", line 288, in __call__\n    return self.fn(*self.args, **self.kwargs)\n  File \"C:\\ProgramData\\Anaconda3\\envs\\gpu2\\lib\\site-packages\\joblib\\_parallel_backends.py\", line 595, in __call__\n    return self.func(*args, **kwargs)\n  File \"C:\\ProgramData\\Anaconda3\\envs\\gpu2\\lib\\site-packages\\joblib\\parallel.py\", line 262, in __call__\n    return [func(*args, **kwargs)\n  File \"C:\\ProgramData\\Anaconda3\\envs\\gpu2\\lib\\site-packages\\joblib\\parallel.py\", line 262, in <listcomp>\n    return [func(*args, **kwargs)\n  File \"C:\\Users\\Máté\\AppData\\Local\\Temp\\ipykernel_44620\\2711574291.py\", line 9, in proc\n  File \"C:\\Users\\Máté\\AppData\\Local\\Temp\\ipykernel_44620\\1184460440.py\", line 26, in cnn\nUnboundLocalError: local variable 'opt' referenced before assignment\n\"\"\"",
            "\nThe above exception was the direct cause of the following exception:\n",
            "\u001b[1;31mUnboundLocalError\u001b[0m                         Traceback (most recent call last)",
            "Input \u001b[1;32mIn [114]\u001b[0m, in \u001b[0;36m<cell line: 1>\u001b[1;34m()\u001b[0m\n\u001b[1;32m----> 1\u001b[0m new_population \u001b[38;5;241m=\u001b[39m \u001b[43mselect_new_population\u001b[49m\u001b[43m(\u001b[49m\u001b[43mpopulation\u001b[49m\u001b[43m,\u001b[49m\u001b[43m \u001b[49m\u001b[43mchilds\u001b[49m\u001b[43m,\u001b[49m\u001b[43m \u001b[49m\u001b[43mmutated\u001b[49m\u001b[43m)\u001b[49m\n\u001b[0;32m      2\u001b[0m \u001b[38;5;28mprint\u001b[39m(new_population)\n",
            "Input \u001b[1;32mIn [112]\u001b[0m, in \u001b[0;36mselect_new_population\u001b[1;34m(population, childs, mutated)\u001b[0m\n\u001b[0;32m      9\u001b[0m     loss \u001b[38;5;241m=\u001b[39m cnn(leftover[i], img_train, img_test, label_train, label_test)\n\u001b[0;32m     10\u001b[0m     \u001b[38;5;28;01mreturn\u001b[39;00m loss\n\u001b[1;32m---> 12\u001b[0m losses \u001b[38;5;241m=\u001b[39m \u001b[43mParallel\u001b[49m\u001b[43m(\u001b[49m\u001b[43mn_jobs\u001b[49m\u001b[38;5;241;43m=\u001b[39;49m\u001b[38;5;241;43m3\u001b[39;49m\u001b[43m)\u001b[49m\u001b[43m(\u001b[49m\u001b[43mdelayed\u001b[49m\u001b[43m(\u001b[49m\u001b[43mproc\u001b[49m\u001b[43m)\u001b[49m\u001b[43m(\u001b[49m\u001b[43mi\u001b[49m\u001b[43m)\u001b[49m\u001b[43m \u001b[49m\u001b[38;5;28;43;01mfor\u001b[39;49;00m\u001b[43m \u001b[49m\u001b[43mi\u001b[49m\u001b[43m \u001b[49m\u001b[38;5;129;43;01min\u001b[39;49;00m\u001b[43m \u001b[49m\u001b[38;5;28;43mrange\u001b[39;49m\u001b[43m(\u001b[49m\u001b[38;5;28;43mlen\u001b[39;49m\u001b[43m(\u001b[49m\u001b[43mleftover\u001b[49m\u001b[43m)\u001b[49m\u001b[43m)\u001b[49m\u001b[43m)\u001b[49m\n\u001b[0;32m     13\u001b[0m \u001b[38;5;28;01mfor\u001b[39;00m j \u001b[38;5;129;01min\u001b[39;00m \u001b[38;5;28mrange\u001b[39m(\u001b[38;5;28mlen\u001b[39m(leftover)):\n\u001b[0;32m     14\u001b[0m   leftover[j]\u001b[38;5;241m.\u001b[39mloss \u001b[38;5;241m=\u001b[39m losses[j]\n",
            "File \u001b[1;32mC:\\ProgramData\\Anaconda3\\envs\\gpu2\\lib\\site-packages\\joblib\\parallel.py:1056\u001b[0m, in \u001b[0;36mParallel.__call__\u001b[1;34m(self, iterable)\u001b[0m\n\u001b[0;32m   1053\u001b[0m     \u001b[38;5;28mself\u001b[39m\u001b[38;5;241m.\u001b[39m_iterating \u001b[38;5;241m=\u001b[39m \u001b[38;5;28;01mFalse\u001b[39;00m\n\u001b[0;32m   1055\u001b[0m \u001b[38;5;28;01mwith\u001b[39;00m \u001b[38;5;28mself\u001b[39m\u001b[38;5;241m.\u001b[39m_backend\u001b[38;5;241m.\u001b[39mretrieval_context():\n\u001b[1;32m-> 1056\u001b[0m     \u001b[38;5;28;43mself\u001b[39;49m\u001b[38;5;241;43m.\u001b[39;49m\u001b[43mretrieve\u001b[49m\u001b[43m(\u001b[49m\u001b[43m)\u001b[49m\n\u001b[0;32m   1057\u001b[0m \u001b[38;5;66;03m# Make sure that we get a last message telling us we are done\u001b[39;00m\n\u001b[0;32m   1058\u001b[0m elapsed_time \u001b[38;5;241m=\u001b[39m time\u001b[38;5;241m.\u001b[39mtime() \u001b[38;5;241m-\u001b[39m \u001b[38;5;28mself\u001b[39m\u001b[38;5;241m.\u001b[39m_start_time\n",
            "File \u001b[1;32mC:\\ProgramData\\Anaconda3\\envs\\gpu2\\lib\\site-packages\\joblib\\parallel.py:935\u001b[0m, in \u001b[0;36mParallel.retrieve\u001b[1;34m(self)\u001b[0m\n\u001b[0;32m    933\u001b[0m \u001b[38;5;28;01mtry\u001b[39;00m:\n\u001b[0;32m    934\u001b[0m     \u001b[38;5;28;01mif\u001b[39;00m \u001b[38;5;28mgetattr\u001b[39m(\u001b[38;5;28mself\u001b[39m\u001b[38;5;241m.\u001b[39m_backend, \u001b[38;5;124m'\u001b[39m\u001b[38;5;124msupports_timeout\u001b[39m\u001b[38;5;124m'\u001b[39m, \u001b[38;5;28;01mFalse\u001b[39;00m):\n\u001b[1;32m--> 935\u001b[0m         \u001b[38;5;28mself\u001b[39m\u001b[38;5;241m.\u001b[39m_output\u001b[38;5;241m.\u001b[39mextend(\u001b[43mjob\u001b[49m\u001b[38;5;241;43m.\u001b[39;49m\u001b[43mget\u001b[49m\u001b[43m(\u001b[49m\u001b[43mtimeout\u001b[49m\u001b[38;5;241;43m=\u001b[39;49m\u001b[38;5;28;43mself\u001b[39;49m\u001b[38;5;241;43m.\u001b[39;49m\u001b[43mtimeout\u001b[49m\u001b[43m)\u001b[49m)\n\u001b[0;32m    936\u001b[0m     \u001b[38;5;28;01melse\u001b[39;00m:\n\u001b[0;32m    937\u001b[0m         \u001b[38;5;28mself\u001b[39m\u001b[38;5;241m.\u001b[39m_output\u001b[38;5;241m.\u001b[39mextend(job\u001b[38;5;241m.\u001b[39mget())\n",
            "File \u001b[1;32mC:\\ProgramData\\Anaconda3\\envs\\gpu2\\lib\\site-packages\\joblib\\_parallel_backends.py:542\u001b[0m, in \u001b[0;36mLokyBackend.wrap_future_result\u001b[1;34m(future, timeout)\u001b[0m\n\u001b[0;32m    539\u001b[0m \u001b[38;5;124;03m\"\"\"Wrapper for Future.result to implement the same behaviour as\u001b[39;00m\n\u001b[0;32m    540\u001b[0m \u001b[38;5;124;03mAsyncResults.get from multiprocessing.\"\"\"\u001b[39;00m\n\u001b[0;32m    541\u001b[0m \u001b[38;5;28;01mtry\u001b[39;00m:\n\u001b[1;32m--> 542\u001b[0m     \u001b[38;5;28;01mreturn\u001b[39;00m \u001b[43mfuture\u001b[49m\u001b[38;5;241;43m.\u001b[39;49m\u001b[43mresult\u001b[49m\u001b[43m(\u001b[49m\u001b[43mtimeout\u001b[49m\u001b[38;5;241;43m=\u001b[39;49m\u001b[43mtimeout\u001b[49m\u001b[43m)\u001b[49m\n\u001b[0;32m    543\u001b[0m \u001b[38;5;28;01mexcept\u001b[39;00m CfTimeoutError \u001b[38;5;28;01mas\u001b[39;00m e:\n\u001b[0;32m    544\u001b[0m     \u001b[38;5;28;01mraise\u001b[39;00m \u001b[38;5;167;01mTimeoutError\u001b[39;00m \u001b[38;5;28;01mfrom\u001b[39;00m \u001b[38;5;21;01me\u001b[39;00m\n",
            "File \u001b[1;32mC:\\ProgramData\\Anaconda3\\envs\\gpu2\\lib\\concurrent\\futures\\_base.py:446\u001b[0m, in \u001b[0;36mFuture.result\u001b[1;34m(self, timeout)\u001b[0m\n\u001b[0;32m    444\u001b[0m     \u001b[38;5;28;01mraise\u001b[39;00m CancelledError()\n\u001b[0;32m    445\u001b[0m \u001b[38;5;28;01melif\u001b[39;00m \u001b[38;5;28mself\u001b[39m\u001b[38;5;241m.\u001b[39m_state \u001b[38;5;241m==\u001b[39m FINISHED:\n\u001b[1;32m--> 446\u001b[0m     \u001b[38;5;28;01mreturn\u001b[39;00m \u001b[38;5;28;43mself\u001b[39;49m\u001b[38;5;241;43m.\u001b[39;49m\u001b[43m__get_result\u001b[49m\u001b[43m(\u001b[49m\u001b[43m)\u001b[49m\n\u001b[0;32m    447\u001b[0m \u001b[38;5;28;01melse\u001b[39;00m:\n\u001b[0;32m    448\u001b[0m     \u001b[38;5;28;01mraise\u001b[39;00m \u001b[38;5;167;01mTimeoutError\u001b[39;00m()\n",
            "File \u001b[1;32mC:\\ProgramData\\Anaconda3\\envs\\gpu2\\lib\\concurrent\\futures\\_base.py:391\u001b[0m, in \u001b[0;36mFuture.__get_result\u001b[1;34m(self)\u001b[0m\n\u001b[0;32m    389\u001b[0m \u001b[38;5;28;01mif\u001b[39;00m \u001b[38;5;28mself\u001b[39m\u001b[38;5;241m.\u001b[39m_exception:\n\u001b[0;32m    390\u001b[0m     \u001b[38;5;28;01mtry\u001b[39;00m:\n\u001b[1;32m--> 391\u001b[0m         \u001b[38;5;28;01mraise\u001b[39;00m \u001b[38;5;28mself\u001b[39m\u001b[38;5;241m.\u001b[39m_exception\n\u001b[0;32m    392\u001b[0m     \u001b[38;5;28;01mfinally\u001b[39;00m:\n\u001b[0;32m    393\u001b[0m         \u001b[38;5;66;03m# Break a reference cycle with the exception in self._exception\u001b[39;00m\n\u001b[0;32m    394\u001b[0m         \u001b[38;5;28mself\u001b[39m \u001b[38;5;241m=\u001b[39m \u001b[38;5;28;01mNone\u001b[39;00m\n",
            "\u001b[1;31mUnboundLocalError\u001b[0m: local variable 'opt' referenced before assignment"
          ]
        }
      ],
      "source": [
        "new_population = select_new_population(population, childs, mutated)\n",
        "print(new_population)"
      ],
      "metadata": {
        "pycharm": {
          "name": "#%%\n"
        },
        "id": "DpF3eWYVvsM1",
        "outputId": "5e27d085-630c-411c-fdac-a9ff112e9374"
      }
    },
    {
      "cell_type": "code",
      "source": [
        "def get_gen_losses(population):\n",
        "  result = []\n",
        "  for i in population:\n",
        "    result.append(i.loss)\n",
        "  return result"
      ],
      "metadata": {
        "id": "pXtcYEgYGsoZ"
      },
      "execution_count": 22,
      "outputs": []
    },
    {
      "cell_type": "code",
      "execution_count": 23,
      "outputs": [],
      "source": [
        "best_config_in_gen = []\n",
        "best_loss_in_gen = []\n",
        "losses_in_gen = []\n",
        "impr_list = []\n",
        "\n",
        "def main(population):\n",
        "    population = [create_random() for a in range(GA_parameters.population_size)]\n",
        "    for j in range(GA_parameters.population_size):\n",
        "        print(vars(population[j]))\n",
        "\n",
        "    def process(i):\n",
        "      loss = cnn(population[i], img_train, img_test, label_train, label_test)\n",
        "      #population[i].loss = loss\n",
        "      return loss\n",
        "\n",
        "    start = time.perf_counter()\n",
        "    losses = Parallel(n_jobs=3)(delayed(process)(i) for i in range(GA_parameters.population_size))\n",
        "    end = time.perf_counter()\n",
        "    for j in range(GA_parameters.population_size):\n",
        "        print(vars(population[j]))\n",
        "\n",
        "    elapsed_time = end-start\n",
        "    print(f\"{elapsed_time:0.4f} seconds\")\n",
        "\n",
        "    for j in range(GA_parameters.population_size):\n",
        "        population[j].loss = losses[j]\n",
        "        #print(vars(population[j]))\n",
        "    #best_config_in_gen.append(min(population, key=attrgetter('loss')))\n",
        "    #best_loss_in_gen.append(min(population, key=attrgetter('loss').loss))\n",
        "    #losses_in_gen.append(get_gen_losses(population))\n",
        "    gen = 0\n",
        "    #for gen in range(GA_parameters.number_of_generations):\n",
        "    while gen < GA_parameters.min_number_of_generations or (gen < GA_parameters.max_number_of_generations and is_improvement_positive(best_loss_in_gen, 10, 0.01)):\n",
        "        print(gen)        \n",
        "        impr_rate = is_improvement_positive(best_loss_in_gen, 5, 0.01)\n",
        "        impr_list.append(impr_rate)\n",
        "\n",
        "        if not impr_rate:\n",
        "          GA_parameters.crossover_rate = min(GA_parameters.crossover_rate * 1.1, 1)\n",
        "          GA_parameters.mutation_rate = min(GA_parameters.mutation_rate * 1.1, 1)\n",
        "          if GA_parameters.population_size < GA_parameters.max_population_size:\n",
        "            GA_parameters.population_size = GA_parameters.population_size + 2\n",
        "            for _ in range(2):\n",
        "              population.append(create_random())\n",
        "        else:   \n",
        "          GA_parameters.crossover_rate = max(GA_parameters.crossover_rate * 0.9, GA_parameters.min_crossover_rate)\n",
        "          GA_parameters.mutation_rate = max(GA_parameters.mutation_rate * 0.9, GA_parameters.min_mutation_rate)\n",
        "          if GA_parameters.population_size > GA_parameters.min_population_size:\n",
        "            GA_parameters.population_size = GA_parameters.population_size - 1\n",
        "            worst_ind = max(population, key=attrgetter('loss'))\n",
        "            population.remove(worst_ind)\n",
        "\n",
        "        fitness_values = fitness(population)\n",
        "\n",
        "        best_config_in_gen.append(min(population, key=attrgetter('loss')))\n",
        "        best_loss_in_gen.append(min(population, key=attrgetter('loss').loss))\n",
        "        losses_in_gen.append(get_gen_losses(population))\n",
        "\n",
        "        for j in range(GA_parameters.population_size):\n",
        "            population[j].fitness = fitness_values[j]\n",
        "        print('parents')\n",
        "        parents = select_parents(fitness_values, population)\n",
        "        print('childs')\n",
        "        childs = crossover(population, parents)\n",
        "        print('mutated')\n",
        "        mutated = mutation_operation(population)\n",
        "        print('select_new_population')\n",
        "        population = select_new_population(population, childs, mutated)\n",
        "        gen = gen + 1\n",
        "\n",
        "    return population"
      ],
      "metadata": {
        "pycharm": {
          "name": "#%%\n"
        },
        "id": "KFrQfuOVvsM1"
      }
    },
    {
      "cell_type": "code",
      "execution_count": null,
      "outputs": [
        {
          "output_type": "stream",
          "name": "stdout",
          "text": [
            "{'convulution_kernel_size': 5, 'convulution_act': <ActivationType.relu: 'relu'>, 'pooling_layer_type': <PoolingTypes.avg_pooling: 1>, 'pooling_layer_kernel_size': 1, 'first_dense_layer_neurons': 37, 'first_dense_act': <ActivationType.softmax: 'softmax'>, 'second_dense_act': <ActivationType.relu: 'relu'>, 'include_first_droput_layer': True, 'first_dropout_rate': 0.8161085921387863, 'include_second_droput_layer': True, 'second_dropout_rate': 0.8791587843517676, 'optimizer_type': <OptimizerType.adam: 1>, 'learning_rate': 0.12401975922907375, 'epochs': 5, 'batch_size': 32, 'loss': None, 'fitness': 0}\n",
            "{'convulution_kernel_size': 1, 'convulution_act': <ActivationType.relu: 'relu'>, 'pooling_layer_type': <PoolingTypes.avg_pooling: 1>, 'pooling_layer_kernel_size': 9, 'first_dense_layer_neurons': 276, 'first_dense_act': <ActivationType.softmax: 'softmax'>, 'second_dense_act': <ActivationType.relu: 'relu'>, 'include_first_droput_layer': False, 'first_dropout_rate': 0.26415867344360744, 'include_second_droput_layer': False, 'second_dropout_rate': 0.14648265662078697, 'optimizer_type': <OptimizerType.adam: 1>, 'learning_rate': 0.024997278442642153, 'epochs': 11, 'batch_size': 32, 'loss': None, 'fitness': 0}\n",
            "{'convulution_kernel_size': 5, 'convulution_act': <ActivationType.relu: 'relu'>, 'pooling_layer_type': <PoolingTypes.max_pooling: 2>, 'pooling_layer_kernel_size': 3, 'first_dense_layer_neurons': 129, 'first_dense_act': <ActivationType.softmax: 'softmax'>, 'second_dense_act': <ActivationType.softmax: 'softmax'>, 'include_first_droput_layer': False, 'first_dropout_rate': 0.9191821892098524, 'include_second_droput_layer': True, 'second_dropout_rate': 0.8292192206400368, 'optimizer_type': <OptimizerType.adam: 1>, 'learning_rate': 0.1452083519131658, 'epochs': 15, 'batch_size': 32, 'loss': None, 'fitness': 0}\n",
            "{'convulution_kernel_size': 7, 'convulution_act': <ActivationType.softmax: 'softmax'>, 'pooling_layer_type': <PoolingTypes.avg_pooling: 1>, 'pooling_layer_kernel_size': 5, 'first_dense_layer_neurons': 3, 'first_dense_act': <ActivationType.relu: 'relu'>, 'second_dense_act': <ActivationType.relu: 'relu'>, 'include_first_droput_layer': False, 'first_dropout_rate': 0.8353902088192517, 'include_second_droput_layer': True, 'second_dropout_rate': 0.46298447815294097, 'optimizer_type': <OptimizerType.adam: 1>, 'learning_rate': 0.15055604143037585, 'epochs': 18, 'batch_size': 64, 'loss': None, 'fitness': 0}\n",
            "{'convulution_kernel_size': 5, 'convulution_act': <ActivationType.softmax: 'softmax'>, 'pooling_layer_type': <PoolingTypes.avg_pooling: 1>, 'pooling_layer_kernel_size': 9, 'first_dense_layer_neurons': 5, 'first_dense_act': <ActivationType.relu: 'relu'>, 'second_dense_act': <ActivationType.softmax: 'softmax'>, 'include_first_droput_layer': True, 'first_dropout_rate': 0.6215318553049157, 'include_second_droput_layer': True, 'second_dropout_rate': 0.634113742495979, 'optimizer_type': <OptimizerType.sgd: 2>, 'learning_rate': 0.06207998464642143, 'epochs': 6, 'batch_size': 32, 'loss': None, 'fitness': 0}\n",
            "{'convulution_kernel_size': 5, 'convulution_act': <ActivationType.relu: 'relu'>, 'pooling_layer_type': <PoolingTypes.avg_pooling: 1>, 'pooling_layer_kernel_size': 5, 'first_dense_layer_neurons': 266, 'first_dense_act': <ActivationType.softmax: 'softmax'>, 'second_dense_act': <ActivationType.relu: 'relu'>, 'include_first_droput_layer': True, 'first_dropout_rate': 0.6595384373826871, 'include_second_droput_layer': True, 'second_dropout_rate': 0.37377370059546966, 'optimizer_type': <OptimizerType.sgd: 2>, 'learning_rate': 0.1573736068406747, 'epochs': 2, 'batch_size': 64, 'loss': None, 'fitness': 0}\n",
            "{'convulution_kernel_size': 9, 'convulution_act': <ActivationType.relu: 'relu'>, 'pooling_layer_type': <PoolingTypes.avg_pooling: 1>, 'pooling_layer_kernel_size': 9, 'first_dense_layer_neurons': 160, 'first_dense_act': <ActivationType.softmax: 'softmax'>, 'second_dense_act': <ActivationType.softmax: 'softmax'>, 'include_first_droput_layer': True, 'first_dropout_rate': 0.2384470527292083, 'include_second_droput_layer': True, 'second_dropout_rate': 0.7085400607844548, 'optimizer_type': <OptimizerType.sgd: 2>, 'learning_rate': 0.0537867640807639, 'epochs': 1, 'batch_size': 64, 'loss': None, 'fitness': 0}\n",
            "{'convulution_kernel_size': 3, 'convulution_act': <ActivationType.softmax: 'softmax'>, 'pooling_layer_type': <PoolingTypes.max_pooling: 2>, 'pooling_layer_kernel_size': 1, 'first_dense_layer_neurons': 254, 'first_dense_act': <ActivationType.softmax: 'softmax'>, 'second_dense_act': <ActivationType.softmax: 'softmax'>, 'include_first_droput_layer': True, 'first_dropout_rate': 0.8362412931649659, 'include_second_droput_layer': False, 'second_dropout_rate': 0.3635454691433937, 'optimizer_type': <OptimizerType.adam: 1>, 'learning_rate': 0.0548193865501994, 'epochs': 2, 'batch_size': 32, 'loss': None, 'fitness': 0}\n",
            "{'convulution_kernel_size': 7, 'convulution_act': <ActivationType.relu: 'relu'>, 'pooling_layer_type': <PoolingTypes.max_pooling: 2>, 'pooling_layer_kernel_size': 7, 'first_dense_layer_neurons': 151, 'first_dense_act': <ActivationType.relu: 'relu'>, 'second_dense_act': <ActivationType.relu: 'relu'>, 'include_first_droput_layer': False, 'first_dropout_rate': 0.6161004554701397, 'include_second_droput_layer': True, 'second_dropout_rate': 0.7495355822491352, 'optimizer_type': <OptimizerType.adam: 1>, 'learning_rate': 0.15119437070149414, 'epochs': 12, 'batch_size': 16, 'loss': None, 'fitness': 0}\n",
            "{'convulution_kernel_size': 5, 'convulution_act': <ActivationType.relu: 'relu'>, 'pooling_layer_type': <PoolingTypes.avg_pooling: 1>, 'pooling_layer_kernel_size': 3, 'first_dense_layer_neurons': 98, 'first_dense_act': <ActivationType.relu: 'relu'>, 'second_dense_act': <ActivationType.softmax: 'softmax'>, 'include_first_droput_layer': False, 'first_dropout_rate': 0.9496351817055313, 'include_second_droput_layer': False, 'second_dropout_rate': 0.40251338642120416, 'optimizer_type': <OptimizerType.sgd: 2>, 'learning_rate': 0.17029662239383994, 'epochs': 15, 'batch_size': 64, 'loss': None, 'fitness': 0}\n",
            "{'convulution_kernel_size': 5, 'convulution_act': <ActivationType.softmax: 'softmax'>, 'pooling_layer_type': <PoolingTypes.avg_pooling: 1>, 'pooling_layer_kernel_size': 9, 'first_dense_layer_neurons': 46, 'first_dense_act': <ActivationType.relu: 'relu'>, 'second_dense_act': <ActivationType.softmax: 'softmax'>, 'include_first_droput_layer': False, 'first_dropout_rate': 0.9580189846112773, 'include_second_droput_layer': False, 'second_dropout_rate': 0.6633396812170173, 'optimizer_type': <OptimizerType.adam: 1>, 'learning_rate': 0.13180368982852664, 'epochs': 6, 'batch_size': 16, 'loss': None, 'fitness': 0}\n",
            "{'convulution_kernel_size': 9, 'convulution_act': <ActivationType.relu: 'relu'>, 'pooling_layer_type': <PoolingTypes.avg_pooling: 1>, 'pooling_layer_kernel_size': 7, 'first_dense_layer_neurons': 197, 'first_dense_act': <ActivationType.relu: 'relu'>, 'second_dense_act': <ActivationType.softmax: 'softmax'>, 'include_first_droput_layer': False, 'first_dropout_rate': 0.7493031683100814, 'include_second_droput_layer': False, 'second_dropout_rate': 0.5925202401612107, 'optimizer_type': <OptimizerType.adam: 1>, 'learning_rate': 0.1396440132509858, 'epochs': 11, 'batch_size': 32, 'loss': None, 'fitness': 0}\n",
            "{'convulution_kernel_size': 1, 'convulution_act': <ActivationType.relu: 'relu'>, 'pooling_layer_type': <PoolingTypes.max_pooling: 2>, 'pooling_layer_kernel_size': 9, 'first_dense_layer_neurons': 169, 'first_dense_act': <ActivationType.softmax: 'softmax'>, 'second_dense_act': <ActivationType.softmax: 'softmax'>, 'include_first_droput_layer': False, 'first_dropout_rate': 0.883204325758248, 'include_second_droput_layer': False, 'second_dropout_rate': 0.03043190751090985, 'optimizer_type': <OptimizerType.sgd: 2>, 'learning_rate': 0.04436477958837329, 'epochs': 1, 'batch_size': 16, 'loss': None, 'fitness': 0}\n",
            "{'convulution_kernel_size': 3, 'convulution_act': <ActivationType.softmax: 'softmax'>, 'pooling_layer_type': <PoolingTypes.max_pooling: 2>, 'pooling_layer_kernel_size': 1, 'first_dense_layer_neurons': 28, 'first_dense_act': <ActivationType.softmax: 'softmax'>, 'second_dense_act': <ActivationType.relu: 'relu'>, 'include_first_droput_layer': False, 'first_dropout_rate': 0.6835533668968686, 'include_second_droput_layer': False, 'second_dropout_rate': 0.03434995647292172, 'optimizer_type': <OptimizerType.sgd: 2>, 'learning_rate': 0.048754971103241965, 'epochs': 12, 'batch_size': 16, 'loss': None, 'fitness': 0}\n",
            "{'convulution_kernel_size': 7, 'convulution_act': <ActivationType.softmax: 'softmax'>, 'pooling_layer_type': <PoolingTypes.avg_pooling: 1>, 'pooling_layer_kernel_size': 9, 'first_dense_layer_neurons': 294, 'first_dense_act': <ActivationType.relu: 'relu'>, 'second_dense_act': <ActivationType.relu: 'relu'>, 'include_first_droput_layer': True, 'first_dropout_rate': 0.4554972360263654, 'include_second_droput_layer': False, 'second_dropout_rate': 0.4586185505385072, 'optimizer_type': <OptimizerType.sgd: 2>, 'learning_rate': 0.10406931879591776, 'epochs': 9, 'batch_size': 16, 'loss': None, 'fitness': 0}\n",
            "{'convulution_kernel_size': 7, 'convulution_act': <ActivationType.softmax: 'softmax'>, 'pooling_layer_type': <PoolingTypes.max_pooling: 2>, 'pooling_layer_kernel_size': 1, 'first_dense_layer_neurons': 23, 'first_dense_act': <ActivationType.softmax: 'softmax'>, 'second_dense_act': <ActivationType.relu: 'relu'>, 'include_first_droput_layer': True, 'first_dropout_rate': 0.1564665174138613, 'include_second_droput_layer': True, 'second_dropout_rate': 0.8764514662054846, 'optimizer_type': <OptimizerType.adam: 1>, 'learning_rate': 0.047432217163006926, 'epochs': 17, 'batch_size': 64, 'loss': None, 'fitness': 0}\n",
            "{'convulution_kernel_size': 7, 'convulution_act': <ActivationType.softmax: 'softmax'>, 'pooling_layer_type': <PoolingTypes.max_pooling: 2>, 'pooling_layer_kernel_size': 9, 'first_dense_layer_neurons': 187, 'first_dense_act': <ActivationType.softmax: 'softmax'>, 'second_dense_act': <ActivationType.softmax: 'softmax'>, 'include_first_droput_layer': False, 'first_dropout_rate': 0.5105977693891326, 'include_second_droput_layer': True, 'second_dropout_rate': 0.5134197587078805, 'optimizer_type': <OptimizerType.sgd: 2>, 'learning_rate': 0.1739076775116692, 'epochs': 8, 'batch_size': 16, 'loss': None, 'fitness': 0}\n",
            "{'convulution_kernel_size': 9, 'convulution_act': <ActivationType.relu: 'relu'>, 'pooling_layer_type': <PoolingTypes.avg_pooling: 1>, 'pooling_layer_kernel_size': 3, 'first_dense_layer_neurons': 132, 'first_dense_act': <ActivationType.softmax: 'softmax'>, 'second_dense_act': <ActivationType.softmax: 'softmax'>, 'include_first_droput_layer': False, 'first_dropout_rate': 0.010722804754236592, 'include_second_droput_layer': True, 'second_dropout_rate': 0.425716619064589, 'optimizer_type': <OptimizerType.adam: 1>, 'learning_rate': 0.013935332769391072, 'epochs': 17, 'batch_size': 64, 'loss': None, 'fitness': 0}\n",
            "{'convulution_kernel_size': 9, 'convulution_act': <ActivationType.softmax: 'softmax'>, 'pooling_layer_type': <PoolingTypes.avg_pooling: 1>, 'pooling_layer_kernel_size': 5, 'first_dense_layer_neurons': 54, 'first_dense_act': <ActivationType.relu: 'relu'>, 'second_dense_act': <ActivationType.relu: 'relu'>, 'include_first_droput_layer': True, 'first_dropout_rate': 0.5047109398681677, 'include_second_droput_layer': True, 'second_dropout_rate': 0.5161208913645471, 'optimizer_type': <OptimizerType.sgd: 2>, 'learning_rate': 0.15705421983117931, 'epochs': 15, 'batch_size': 64, 'loss': None, 'fitness': 0}\n",
            "{'convulution_kernel_size': 1, 'convulution_act': <ActivationType.relu: 'relu'>, 'pooling_layer_type': <PoolingTypes.avg_pooling: 1>, 'pooling_layer_kernel_size': 3, 'first_dense_layer_neurons': 87, 'first_dense_act': <ActivationType.relu: 'relu'>, 'second_dense_act': <ActivationType.relu: 'relu'>, 'include_first_droput_layer': True, 'first_dropout_rate': 0.43405897973243757, 'include_second_droput_layer': True, 'second_dropout_rate': 0.7166878674268622, 'optimizer_type': <OptimizerType.sgd: 2>, 'learning_rate': 0.07508841636117879, 'epochs': 2, 'batch_size': 16, 'loss': None, 'fitness': 0}\n",
            "{'convulution_kernel_size': 9, 'convulution_act': <ActivationType.relu: 'relu'>, 'pooling_layer_type': <PoolingTypes.max_pooling: 2>, 'pooling_layer_kernel_size': 7, 'first_dense_layer_neurons': 71, 'first_dense_act': <ActivationType.relu: 'relu'>, 'second_dense_act': <ActivationType.softmax: 'softmax'>, 'include_first_droput_layer': True, 'first_dropout_rate': 0.891761348202874, 'include_second_droput_layer': False, 'second_dropout_rate': 0.2824305209479181, 'optimizer_type': <OptimizerType.sgd: 2>, 'learning_rate': 0.10854564251057666, 'epochs': 3, 'batch_size': 64, 'loss': None, 'fitness': 0}\n",
            "{'convulution_kernel_size': 7, 'convulution_act': <ActivationType.relu: 'relu'>, 'pooling_layer_type': <PoolingTypes.max_pooling: 2>, 'pooling_layer_kernel_size': 5, 'first_dense_layer_neurons': 191, 'first_dense_act': <ActivationType.relu: 'relu'>, 'second_dense_act': <ActivationType.softmax: 'softmax'>, 'include_first_droput_layer': True, 'first_dropout_rate': 0.7639213057553752, 'include_second_droput_layer': False, 'second_dropout_rate': 0.2326429548000053, 'optimizer_type': <OptimizerType.sgd: 2>, 'learning_rate': 0.11214190467704317, 'epochs': 18, 'batch_size': 32, 'loss': None, 'fitness': 0}\n",
            "{'convulution_kernel_size': 9, 'convulution_act': <ActivationType.relu: 'relu'>, 'pooling_layer_type': <PoolingTypes.avg_pooling: 1>, 'pooling_layer_kernel_size': 3, 'first_dense_layer_neurons': 117, 'first_dense_act': <ActivationType.softmax: 'softmax'>, 'second_dense_act': <ActivationType.relu: 'relu'>, 'include_first_droput_layer': False, 'first_dropout_rate': 0.4819185863308094, 'include_second_droput_layer': True, 'second_dropout_rate': 0.3450354418772452, 'optimizer_type': <OptimizerType.sgd: 2>, 'learning_rate': 0.01847434908506391, 'epochs': 19, 'batch_size': 16, 'loss': None, 'fitness': 0}\n",
            "{'convulution_kernel_size': 9, 'convulution_act': <ActivationType.relu: 'relu'>, 'pooling_layer_type': <PoolingTypes.avg_pooling: 1>, 'pooling_layer_kernel_size': 9, 'first_dense_layer_neurons': 119, 'first_dense_act': <ActivationType.relu: 'relu'>, 'second_dense_act': <ActivationType.relu: 'relu'>, 'include_first_droput_layer': False, 'first_dropout_rate': 0.32435153993929755, 'include_second_droput_layer': True, 'second_dropout_rate': 0.2528043251841211, 'optimizer_type': <OptimizerType.sgd: 2>, 'learning_rate': 0.052225435976123856, 'epochs': 2, 'batch_size': 32, 'loss': None, 'fitness': 0}\n",
            "{'convulution_kernel_size': 3, 'convulution_act': <ActivationType.softmax: 'softmax'>, 'pooling_layer_type': <PoolingTypes.max_pooling: 2>, 'pooling_layer_kernel_size': 7, 'first_dense_layer_neurons': 39, 'first_dense_act': <ActivationType.relu: 'relu'>, 'second_dense_act': <ActivationType.relu: 'relu'>, 'include_first_droput_layer': False, 'first_dropout_rate': 0.78405732073469, 'include_second_droput_layer': False, 'second_dropout_rate': 0.8844188412589654, 'optimizer_type': <OptimizerType.sgd: 2>, 'learning_rate': 0.11561099577636595, 'epochs': 14, 'batch_size': 32, 'loss': None, 'fitness': 0}\n",
            "{'convulution_kernel_size': 3, 'convulution_act': <ActivationType.softmax: 'softmax'>, 'pooling_layer_type': <PoolingTypes.avg_pooling: 1>, 'pooling_layer_kernel_size': 3, 'first_dense_layer_neurons': 46, 'first_dense_act': <ActivationType.relu: 'relu'>, 'second_dense_act': <ActivationType.softmax: 'softmax'>, 'include_first_droput_layer': True, 'first_dropout_rate': 0.9071690261240394, 'include_second_droput_layer': True, 'second_dropout_rate': 0.07309922620904674, 'optimizer_type': <OptimizerType.adam: 1>, 'learning_rate': 0.08428394309716437, 'epochs': 12, 'batch_size': 32, 'loss': None, 'fitness': 0}\n",
            "{'convulution_kernel_size': 3, 'convulution_act': <ActivationType.relu: 'relu'>, 'pooling_layer_type': <PoolingTypes.max_pooling: 2>, 'pooling_layer_kernel_size': 1, 'first_dense_layer_neurons': 104, 'first_dense_act': <ActivationType.softmax: 'softmax'>, 'second_dense_act': <ActivationType.softmax: 'softmax'>, 'include_first_droput_layer': False, 'first_dropout_rate': 0.875301007577991, 'include_second_droput_layer': True, 'second_dropout_rate': 0.5059068329673287, 'optimizer_type': <OptimizerType.adam: 1>, 'learning_rate': 0.07374090198644011, 'epochs': 8, 'batch_size': 32, 'loss': None, 'fitness': 0}\n",
            "{'convulution_kernel_size': 1, 'convulution_act': <ActivationType.softmax: 'softmax'>, 'pooling_layer_type': <PoolingTypes.avg_pooling: 1>, 'pooling_layer_kernel_size': 7, 'first_dense_layer_neurons': 171, 'first_dense_act': <ActivationType.relu: 'relu'>, 'second_dense_act': <ActivationType.relu: 'relu'>, 'include_first_droput_layer': True, 'first_dropout_rate': 0.23470651853567415, 'include_second_droput_layer': True, 'second_dropout_rate': 0.343009263430214, 'optimizer_type': <OptimizerType.adam: 1>, 'learning_rate': 0.11732875526214766, 'epochs': 3, 'batch_size': 16, 'loss': None, 'fitness': 0}\n",
            "{'convulution_kernel_size': 3, 'convulution_act': <ActivationType.relu: 'relu'>, 'pooling_layer_type': <PoolingTypes.avg_pooling: 1>, 'pooling_layer_kernel_size': 5, 'first_dense_layer_neurons': 281, 'first_dense_act': <ActivationType.relu: 'relu'>, 'second_dense_act': <ActivationType.softmax: 'softmax'>, 'include_first_droput_layer': True, 'first_dropout_rate': 0.6206158448959342, 'include_second_droput_layer': False, 'second_dropout_rate': 0.22108963069337917, 'optimizer_type': <OptimizerType.adam: 1>, 'learning_rate': 0.1411558114470465, 'epochs': 16, 'batch_size': 32, 'loss': None, 'fitness': 0}\n",
            "{'convulution_kernel_size': 1, 'convulution_act': <ActivationType.relu: 'relu'>, 'pooling_layer_type': <PoolingTypes.avg_pooling: 1>, 'pooling_layer_kernel_size': 3, 'first_dense_layer_neurons': 36, 'first_dense_act': <ActivationType.softmax: 'softmax'>, 'second_dense_act': <ActivationType.relu: 'relu'>, 'include_first_droput_layer': True, 'first_dropout_rate': 0.2208110619155288, 'include_second_droput_layer': True, 'second_dropout_rate': 0.9222374969602127, 'optimizer_type': <OptimizerType.adam: 1>, 'learning_rate': 0.1000029038763527, 'epochs': 16, 'batch_size': 16, 'loss': None, 'fitness': 0}\n",
            "{'convulution_kernel_size': 5, 'convulution_act': <ActivationType.softmax: 'softmax'>, 'pooling_layer_type': <PoolingTypes.max_pooling: 2>, 'pooling_layer_kernel_size': 5, 'first_dense_layer_neurons': 202, 'first_dense_act': <ActivationType.softmax: 'softmax'>, 'second_dense_act': <ActivationType.relu: 'relu'>, 'include_first_droput_layer': False, 'first_dropout_rate': 0.24851572071463235, 'include_second_droput_layer': False, 'second_dropout_rate': 0.1036435462339137, 'optimizer_type': <OptimizerType.adam: 1>, 'learning_rate': 0.014182559878148699, 'epochs': 12, 'batch_size': 16, 'loss': None, 'fitness': 0}\n",
            "{'convulution_kernel_size': 7, 'convulution_act': <ActivationType.softmax: 'softmax'>, 'pooling_layer_type': <PoolingTypes.avg_pooling: 1>, 'pooling_layer_kernel_size': 9, 'first_dense_layer_neurons': 289, 'first_dense_act': <ActivationType.softmax: 'softmax'>, 'second_dense_act': <ActivationType.softmax: 'softmax'>, 'include_first_droput_layer': False, 'first_dropout_rate': 0.49754530629725624, 'include_second_droput_layer': True, 'second_dropout_rate': 0.7224717236988591, 'optimizer_type': <OptimizerType.sgd: 2>, 'learning_rate': 0.020991156702406314, 'epochs': 5, 'batch_size': 64, 'loss': None, 'fitness': 0}\n",
            "{'convulution_kernel_size': 9, 'convulution_act': <ActivationType.softmax: 'softmax'>, 'pooling_layer_type': <PoolingTypes.avg_pooling: 1>, 'pooling_layer_kernel_size': 5, 'first_dense_layer_neurons': 165, 'first_dense_act': <ActivationType.softmax: 'softmax'>, 'second_dense_act': <ActivationType.softmax: 'softmax'>, 'include_first_droput_layer': False, 'first_dropout_rate': 0.23427967179292708, 'include_second_droput_layer': True, 'second_dropout_rate': 0.6626579590255851, 'optimizer_type': <OptimizerType.adam: 1>, 'learning_rate': 0.0539719376980827, 'epochs': 10, 'batch_size': 32, 'loss': None, 'fitness': 0}\n",
            "{'convulution_kernel_size': 3, 'convulution_act': <ActivationType.relu: 'relu'>, 'pooling_layer_type': <PoolingTypes.avg_pooling: 1>, 'pooling_layer_kernel_size': 7, 'first_dense_layer_neurons': 166, 'first_dense_act': <ActivationType.softmax: 'softmax'>, 'second_dense_act': <ActivationType.relu: 'relu'>, 'include_first_droput_layer': False, 'first_dropout_rate': 0.16164893210944198, 'include_second_droput_layer': True, 'second_dropout_rate': 0.9830149605024356, 'optimizer_type': <OptimizerType.adam: 1>, 'learning_rate': 0.08647689024206634, 'epochs': 17, 'batch_size': 16, 'loss': None, 'fitness': 0}\n",
            "{'convulution_kernel_size': 1, 'convulution_act': <ActivationType.softmax: 'softmax'>, 'pooling_layer_type': <PoolingTypes.avg_pooling: 1>, 'pooling_layer_kernel_size': 7, 'first_dense_layer_neurons': 239, 'first_dense_act': <ActivationType.relu: 'relu'>, 'second_dense_act': <ActivationType.relu: 'relu'>, 'include_first_droput_layer': True, 'first_dropout_rate': 0.1354351956631218, 'include_second_droput_layer': False, 'second_dropout_rate': 0.7117282926697663, 'optimizer_type': <OptimizerType.sgd: 2>, 'learning_rate': 0.1697685953843171, 'epochs': 7, 'batch_size': 32, 'loss': None, 'fitness': 0}\n",
            "{'convulution_kernel_size': 5, 'convulution_act': <ActivationType.relu: 'relu'>, 'pooling_layer_type': <PoolingTypes.avg_pooling: 1>, 'pooling_layer_kernel_size': 7, 'first_dense_layer_neurons': 292, 'first_dense_act': <ActivationType.relu: 'relu'>, 'second_dense_act': <ActivationType.softmax: 'softmax'>, 'include_first_droput_layer': True, 'first_dropout_rate': 0.11385137592174888, 'include_second_droput_layer': False, 'second_dropout_rate': 0.7375372911925837, 'optimizer_type': <OptimizerType.sgd: 2>, 'learning_rate': 0.08081678562853502, 'epochs': 3, 'batch_size': 32, 'loss': None, 'fitness': 0}\n",
            "{'convulution_kernel_size': 7, 'convulution_act': <ActivationType.softmax: 'softmax'>, 'pooling_layer_type': <PoolingTypes.avg_pooling: 1>, 'pooling_layer_kernel_size': 7, 'first_dense_layer_neurons': 138, 'first_dense_act': <ActivationType.relu: 'relu'>, 'second_dense_act': <ActivationType.softmax: 'softmax'>, 'include_first_droput_layer': True, 'first_dropout_rate': 0.2809056760421511, 'include_second_droput_layer': True, 'second_dropout_rate': 0.4050208908413372, 'optimizer_type': <OptimizerType.adam: 1>, 'learning_rate': 0.005903493731047859, 'epochs': 4, 'batch_size': 64, 'loss': None, 'fitness': 0}\n",
            "{'convulution_kernel_size': 9, 'convulution_act': <ActivationType.softmax: 'softmax'>, 'pooling_layer_type': <PoolingTypes.max_pooling: 2>, 'pooling_layer_kernel_size': 9, 'first_dense_layer_neurons': 155, 'first_dense_act': <ActivationType.relu: 'relu'>, 'second_dense_act': <ActivationType.relu: 'relu'>, 'include_first_droput_layer': False, 'first_dropout_rate': 0.7777738407066441, 'include_second_droput_layer': True, 'second_dropout_rate': 0.5044651709902842, 'optimizer_type': <OptimizerType.sgd: 2>, 'learning_rate': 0.13057716421778467, 'epochs': 12, 'batch_size': 32, 'loss': None, 'fitness': 0}\n",
            "{'convulution_kernel_size': 7, 'convulution_act': <ActivationType.softmax: 'softmax'>, 'pooling_layer_type': <PoolingTypes.avg_pooling: 1>, 'pooling_layer_kernel_size': 1, 'first_dense_layer_neurons': 14, 'first_dense_act': <ActivationType.softmax: 'softmax'>, 'second_dense_act': <ActivationType.softmax: 'softmax'>, 'include_first_droput_layer': False, 'first_dropout_rate': 0.7641852929242665, 'include_second_droput_layer': False, 'second_dropout_rate': 0.46068518301061434, 'optimizer_type': <OptimizerType.adam: 1>, 'learning_rate': 0.13566046265897683, 'epochs': 16, 'batch_size': 64, 'loss': None, 'fitness': 0}\n",
            "{'convulution_kernel_size': 3, 'convulution_act': <ActivationType.relu: 'relu'>, 'pooling_layer_type': <PoolingTypes.avg_pooling: 1>, 'pooling_layer_kernel_size': 9, 'first_dense_layer_neurons': 59, 'first_dense_act': <ActivationType.relu: 'relu'>, 'second_dense_act': <ActivationType.relu: 'relu'>, 'include_first_droput_layer': False, 'first_dropout_rate': 0.9232571795909673, 'include_second_droput_layer': True, 'second_dropout_rate': 0.7856140221653586, 'optimizer_type': <OptimizerType.adam: 1>, 'learning_rate': 0.16522381779944623, 'epochs': 19, 'batch_size': 64, 'loss': None, 'fitness': 0}\n"
          ]
        }
      ],
      "source": [
        "last_pop = main([])"
      ],
      "metadata": {
        "pycharm": {
          "name": "#%%\n",
          "is_executing": true
        },
        "colab": {
          "base_uri": "https://localhost:8080/"
        },
        "id": "rdsYvqdwvsM2",
        "outputId": "1238ca40-77ca-4c4c-a191-8d910a0cde6c"
      }
    },
    {
      "cell_type": "code",
      "execution_count": null,
      "outputs": [
        {
          "name": "stdout",
          "output_type": "stream",
          "text": [
            "{'convulution_kernel_size': 2, 'convulution_act': <ActivationType.relu: 'relu'>, 'pooling_layer_type': <PoolingTypes.avg_pooling: 1>, 'pooling_layer_kernel_size': 3, 'first_dense_layer_neurons': 203, 'first_dense_act': <ActivationType.relu: 'relu'>, 'second_dense_layer_neurons': 96, 'second_dense_act': <ActivationType.softmax: 'softmax'>, 'dropout_rate': 0.5111331121652593, 'optimizer_type': <OptimizerType.sgd: 2>, 'learning_rate': 0.019456694931229843, 'epochs': 6, 'batch_size': 32, 'loss': 0.9676980646133423, 'fitness': 2.0}\n",
            "{'convulution_kernel_size': 2, 'convulution_act': <ActivationType.relu: 'relu'>, 'pooling_layer_type': <PoolingTypes.avg_pooling: 1>, 'pooling_layer_kernel_size': 3, 'first_dense_layer_neurons': 152, 'first_dense_act': <ActivationType.relu: 'relu'>, 'second_dense_layer_neurons': 76, 'second_dense_act': <ActivationType.softmax: 'softmax'>, 'dropout_rate': 0.4948152541730267, 'optimizer_type': <OptimizerType.sgd: 2>, 'learning_rate': 0.019456694931229843, 'epochs': 6, 'batch_size': 32, 'loss': 0.9687525920391082, 'fitness': 1.894736842105263}\n",
            "{'convulution_kernel_size': 2, 'convulution_act': <ActivationType.relu: 'relu'>, 'pooling_layer_type': <PoolingTypes.avg_pooling: 1>, 'pooling_layer_kernel_size': 3, 'first_dense_layer_neurons': 152, 'first_dense_act': <ActivationType.relu: 'relu'>, 'second_dense_layer_neurons': 76, 'second_dense_act': <ActivationType.softmax: 'softmax'>, 'dropout_rate': 0.4904630089623164, 'optimizer_type': <OptimizerType.sgd: 2>, 'learning_rate': 0.019456694931229843, 'epochs': 6, 'batch_size': 32, 'loss': 0.9722029711723328, 'fitness': 2.0}\n",
            "{'convulution_kernel_size': 2, 'convulution_act': <ActivationType.relu: 'relu'>, 'pooling_layer_type': <PoolingTypes.avg_pooling: 1>, 'pooling_layer_kernel_size': 3, 'first_dense_layer_neurons': 170, 'first_dense_act': <ActivationType.relu: 'relu'>, 'second_dense_layer_neurons': 94, 'second_dense_act': <ActivationType.softmax: 'softmax'>, 'dropout_rate': 0.5051866133750875, 'optimizer_type': <OptimizerType.sgd: 2>, 'learning_rate': 0.019456694931229843, 'epochs': 6, 'batch_size': 32, 'loss': 0.9733619443893433, 'fitness': 1.9622641509433962}\n",
            "{'convulution_kernel_size': 2, 'convulution_act': <ActivationType.relu: 'relu'>, 'pooling_layer_type': <PoolingTypes.avg_pooling: 1>, 'pooling_layer_kernel_size': 3, 'first_dense_layer_neurons': 214, 'first_dense_act': <ActivationType.relu: 'relu'>, 'second_dense_layer_neurons': 99, 'second_dense_act': <ActivationType.softmax: 'softmax'>, 'dropout_rate': 0.5025641694318137, 'optimizer_type': <OptimizerType.sgd: 2>, 'learning_rate': 0.019456694931229843, 'epochs': 6, 'batch_size': 32, 'loss': 0.9776664667129517, 'fitness': 1.9245283018867925}\n",
            "{'convulution_kernel_size': 2, 'convulution_act': <ActivationType.relu: 'relu'>, 'pooling_layer_type': <PoolingTypes.avg_pooling: 1>, 'pooling_layer_kernel_size': 3, 'first_dense_layer_neurons': 204, 'first_dense_act': <ActivationType.relu: 'relu'>, 'second_dense_layer_neurons': 94, 'second_dense_act': <ActivationType.softmax: 'softmax'>, 'dropout_rate': 0.5044596031654293, 'optimizer_type': <OptimizerType.sgd: 2>, 'learning_rate': 0.019456694931229843, 'epochs': 6, 'batch_size': 32, 'loss': 0.9779601215362549, 'fitness': 1.8867924528301887}\n",
            "{'convulution_kernel_size': 2, 'convulution_act': <ActivationType.relu: 'relu'>, 'pooling_layer_type': <PoolingTypes.avg_pooling: 1>, 'pooling_layer_kernel_size': 3, 'first_dense_layer_neurons': 203, 'first_dense_act': <ActivationType.relu: 'relu'>, 'second_dense_layer_neurons': 104, 'second_dense_act': <ActivationType.softmax: 'softmax'>, 'dropout_rate': 0.5072533470497819, 'optimizer_type': <OptimizerType.sgd: 2>, 'learning_rate': 0.019456694931229843, 'epochs': 6, 'batch_size': 32, 'loss': 0.9797859024047851, 'fitness': 1.849056603773585}\n",
            "{'convulution_kernel_size': 2, 'convulution_act': <ActivationType.relu: 'relu'>, 'pooling_layer_type': <PoolingTypes.avg_pooling: 1>, 'pooling_layer_kernel_size': 3, 'first_dense_layer_neurons': 203, 'first_dense_act': <ActivationType.relu: 'relu'>, 'second_dense_layer_neurons': 94, 'second_dense_act': <ActivationType.softmax: 'softmax'>, 'dropout_rate': 0.5215070042917461, 'optimizer_type': <OptimizerType.sgd: 2>, 'learning_rate': 0.019456694931229843, 'epochs': 6, 'batch_size': 32, 'loss': 0.9838183138847351, 'fitness': 1.8113207547169812}\n",
            "{'convulution_kernel_size': 2, 'convulution_act': <ActivationType.relu: 'relu'>, 'pooling_layer_type': <PoolingTypes.avg_pooling: 1>, 'pooling_layer_kernel_size': 3, 'first_dense_layer_neurons': 268, 'first_dense_act': <ActivationType.relu: 'relu'>, 'second_dense_layer_neurons': 76, 'second_dense_act': <ActivationType.softmax: 'softmax'>, 'dropout_rate': 0.4977072799165641, 'optimizer_type': <OptimizerType.sgd: 2>, 'learning_rate': 0.019456694931229843, 'epochs': 6, 'batch_size': 32, 'loss': 0.9890440578460693, 'fitness': 1.7735849056603774}\n",
            "{'convulution_kernel_size': 2, 'convulution_act': <ActivationType.relu: 'relu'>, 'pooling_layer_type': <PoolingTypes.avg_pooling: 1>, 'pooling_layer_kernel_size': 3, 'first_dense_layer_neurons': 159, 'first_dense_act': <ActivationType.relu: 'relu'>, 'second_dense_layer_neurons': 104, 'second_dense_act': <ActivationType.softmax: 'softmax'>, 'dropout_rate': 0.5042679604357092, 'optimizer_type': <OptimizerType.sgd: 2>, 'learning_rate': 0.019456694931229843, 'epochs': 6, 'batch_size': 32, 'loss': 0.9900470071792603, 'fitness': 1.7358490566037736}\n",
            "{'convulution_kernel_size': 2, 'convulution_act': <ActivationType.relu: 'relu'>, 'pooling_layer_type': <PoolingTypes.avg_pooling: 1>, 'pooling_layer_kernel_size': 3, 'first_dense_layer_neurons': 240, 'first_dense_act': <ActivationType.relu: 'relu'>, 'second_dense_layer_neurons': 83, 'second_dense_act': <ActivationType.softmax: 'softmax'>, 'dropout_rate': 0.5215070042917461, 'optimizer_type': <OptimizerType.sgd: 2>, 'learning_rate': 0.019456694931229843, 'epochs': 6, 'batch_size': 32, 'loss': 0.9905371870994568, 'fitness': 1.6981132075471699}\n",
            "{'convulution_kernel_size': 2, 'convulution_act': <ActivationType.relu: 'relu'>, 'pooling_layer_type': <PoolingTypes.avg_pooling: 1>, 'pooling_layer_kernel_size': 3, 'first_dense_layer_neurons': 162, 'first_dense_act': <ActivationType.relu: 'relu'>, 'second_dense_layer_neurons': 86, 'second_dense_act': <ActivationType.softmax: 'softmax'>, 'dropout_rate': 0.5215070042917461, 'optimizer_type': <OptimizerType.sgd: 2>, 'learning_rate': 0.019456694931229843, 'epochs': 6, 'batch_size': 32, 'loss': 0.9913342610359192, 'fitness': 1.6603773584905661}\n",
            "{'convulution_kernel_size': 2, 'convulution_act': <ActivationType.relu: 'relu'>, 'pooling_layer_type': <PoolingTypes.avg_pooling: 1>, 'pooling_layer_kernel_size': 3, 'first_dense_layer_neurons': 259, 'first_dense_act': <ActivationType.relu: 'relu'>, 'second_dense_layer_neurons': 79, 'second_dense_act': <ActivationType.softmax: 'softmax'>, 'dropout_rate': 0.5030886784646438, 'optimizer_type': <OptimizerType.sgd: 2>, 'learning_rate': 0.019456694931229843, 'epochs': 6, 'batch_size': 32, 'loss': 0.991373969745636, 'fitness': 1.6226415094339623}\n",
            "{'convulution_kernel_size': 2, 'convulution_act': <ActivationType.relu: 'relu'>, 'pooling_layer_type': <PoolingTypes.avg_pooling: 1>, 'pooling_layer_kernel_size': 3, 'first_dense_layer_neurons': 203, 'first_dense_act': <ActivationType.relu: 'relu'>, 'second_dense_layer_neurons': 96, 'second_dense_act': <ActivationType.softmax: 'softmax'>, 'dropout_rate': 0.5215070042917461, 'optimizer_type': <OptimizerType.sgd: 2>, 'learning_rate': 0.019456694931229843, 'epochs': 6, 'batch_size': 32, 'loss': 0.9915729809761047, 'fitness': 1.5849056603773586}\n",
            "{'convulution_kernel_size': 2, 'convulution_act': <ActivationType.relu: 'relu'>, 'pooling_layer_type': <PoolingTypes.avg_pooling: 1>, 'pooling_layer_kernel_size': 3, 'first_dense_layer_neurons': 170, 'first_dense_act': <ActivationType.relu: 'relu'>, 'second_dense_layer_neurons': 94, 'second_dense_act': <ActivationType.softmax: 'softmax'>, 'dropout_rate': 0.5061854291303285, 'optimizer_type': <OptimizerType.sgd: 2>, 'learning_rate': 0.019456694931229843, 'epochs': 6, 'batch_size': 32, 'loss': 0.9927942469596863, 'fitness': 1.5471698113207548}\n",
            "{'convulution_kernel_size': 2, 'convulution_act': <ActivationType.relu: 'relu'>, 'pooling_layer_type': <PoolingTypes.avg_pooling: 1>, 'pooling_layer_kernel_size': 3, 'first_dense_layer_neurons': 268, 'first_dense_act': <ActivationType.relu: 'relu'>, 'second_dense_layer_neurons': 79, 'second_dense_act': <ActivationType.softmax: 'softmax'>, 'dropout_rate': 0.5030886784646438, 'optimizer_type': <OptimizerType.sgd: 2>, 'learning_rate': 0.019456694931229843, 'epochs': 6, 'batch_size': 32, 'loss': 0.9957490253448487, 'fitness': 1.509433962264151}\n",
            "{'convulution_kernel_size': 2, 'convulution_act': <ActivationType.relu: 'relu'>, 'pooling_layer_type': <PoolingTypes.avg_pooling: 1>, 'pooling_layer_kernel_size': 3, 'first_dense_layer_neurons': 202, 'first_dense_act': <ActivationType.relu: 'relu'>, 'second_dense_layer_neurons': 94, 'second_dense_act': <ActivationType.softmax: 'softmax'>, 'dropout_rate': 0.5111331121652593, 'optimizer_type': <OptimizerType.sgd: 2>, 'learning_rate': 0.019456694931229843, 'epochs': 6, 'batch_size': 32, 'loss': 0.9974503303527832, 'fitness': 1.471698113207547}\n",
            "{'convulution_kernel_size': 2, 'convulution_act': <ActivationType.relu: 'relu'>, 'pooling_layer_type': <PoolingTypes.avg_pooling: 1>, 'pooling_layer_kernel_size': 3, 'first_dense_layer_neurons': 268, 'first_dense_act': <ActivationType.relu: 'relu'>, 'second_dense_layer_neurons': 90, 'second_dense_act': <ActivationType.softmax: 'softmax'>, 'dropout_rate': 0.5369037703054195, 'optimizer_type': <OptimizerType.sgd: 2>, 'learning_rate': 0.019456694931229843, 'epochs': 6, 'batch_size': 32, 'loss': 0.9983451258659363, 'fitness': 1.4339622641509433}\n",
            "{'convulution_kernel_size': 2, 'convulution_act': <ActivationType.relu: 'relu'>, 'pooling_layer_type': <PoolingTypes.avg_pooling: 1>, 'pooling_layer_kernel_size': 3, 'first_dense_layer_neurons': 170, 'first_dense_act': <ActivationType.relu: 'relu'>, 'second_dense_layer_neurons': 88, 'second_dense_act': <ActivationType.softmax: 'softmax'>, 'dropout_rate': 0.5051866133750875, 'optimizer_type': <OptimizerType.sgd: 2>, 'learning_rate': 0.019456694931229843, 'epochs': 6, 'batch_size': 32, 'loss': 0.9986933632850648, 'fitness': 1.3962264150943395}\n",
            "{'convulution_kernel_size': 2, 'convulution_act': <ActivationType.relu: 'relu'>, 'pooling_layer_type': <PoolingTypes.avg_pooling: 1>, 'pooling_layer_kernel_size': 3, 'first_dense_layer_neurons': 202, 'first_dense_act': <ActivationType.relu: 'relu'>, 'second_dense_layer_neurons': 94, 'second_dense_act': <ActivationType.softmax: 'softmax'>, 'dropout_rate': 0.5111331121652593, 'optimizer_type': <OptimizerType.sgd: 2>, 'learning_rate': 0.019456694931229843, 'epochs': 6, 'batch_size': 32, 'loss': 0.9994851292610168, 'fitness': 1.3584905660377358}\n"
          ]
        }
      ],
      "source": [
        "\n",
        "\n",
        "for pop in last_pop:\n",
        "    print(vars(pop))"
      ],
      "metadata": {
        "pycharm": {
          "name": "#%%\n"
        },
        "id": "YfuwNZUavsM2",
        "outputId": "ddf68665-26d5-4c28-f4ef-c4239738cd8a"
      }
    },
    {
      "cell_type": "code",
      "execution_count": 16,
      "outputs": [
        {
          "output_type": "error",
          "ename": "NameError",
          "evalue": "ignored",
          "traceback": [
            "\u001b[0;31m---------------------------------------------------------------------------\u001b[0m",
            "\u001b[0;31mNameError\u001b[0m                                 Traceback (most recent call last)",
            "\u001b[0;32m<ipython-input-16-19506ff23710>\u001b[0m in \u001b[0;36m<module>\u001b[0;34m()\u001b[0m\n\u001b[0;32m----> 1\u001b[0;31m \u001b[0mprint\u001b[0m\u001b[0;34m(\u001b[0m\u001b[0mvars\u001b[0m\u001b[0;34m(\u001b[0m\u001b[0mmin\u001b[0m\u001b[0;34m(\u001b[0m\u001b[0mlast_pop\u001b[0m\u001b[0;34m,\u001b[0m \u001b[0mkey\u001b[0m\u001b[0;34m=\u001b[0m\u001b[0mattrgetter\u001b[0m\u001b[0;34m(\u001b[0m\u001b[0;34m'loss'\u001b[0m\u001b[0;34m)\u001b[0m\u001b[0;34m)\u001b[0m\u001b[0;34m)\u001b[0m\u001b[0;34m)\u001b[0m\u001b[0;34m\u001b[0m\u001b[0;34m\u001b[0m\u001b[0m\n\u001b[0m",
            "\u001b[0;31mNameError\u001b[0m: name 'last_pop' is not defined"
          ]
        }
      ],
      "source": [
        "print(vars(min(last_pop, key=attrgetter('loss'))))"
      ],
      "metadata": {
        "pycharm": {
          "name": "#%%\n",
          "is_executing": true
        },
        "colab": {
          "base_uri": "https://localhost:8080/",
          "height": 171
        },
        "id": "FkhgUvievsM2",
        "outputId": "d20ad3c5-bb68-4591-aad8-f18d22f9475d"
      }
    },
    {
      "cell_type": "code",
      "execution_count": 23,
      "outputs": [
        {
          "output_type": "stream",
          "name": "stdout",
          "text": [
            "2\n"
          ]
        }
      ],
      "source": [
        ""
      ],
      "metadata": {
        "pycharm": {
          "name": "#%%\n"
        },
        "colab": {
          "base_uri": "https://localhost:8080/"
        },
        "id": "I6eiHUo7vsM2",
        "outputId": "c9356835-7926-4462-d43b-2e6d8b53d3de"
      }
    }
  ]
}