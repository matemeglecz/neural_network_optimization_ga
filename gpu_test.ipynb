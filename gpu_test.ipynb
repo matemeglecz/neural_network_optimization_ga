{
 "cells": [
  {
   "cell_type": "code",
   "execution_count": 1,
   "outputs": [
    {
     "name": "stderr",
     "output_type": "stream",
     "text": [
      "Using plaidml.keras.backend backend.\n",
      "INFO:plaidml:Opening device \"opencl_amd_ellesmere.0\"\n"
     ]
    },
    {
     "name": "stdout",
     "output_type": "stream",
     "text": [
      "Running initial batch (compiling tile program)\n",
      "Timing inference...\n",
      "Ran in 1.9989988803863525 seconds\n"
     ]
    }
   ],
   "source": [
    "import numpy as np\n",
    "import os\n",
    "import time\n",
    "import ssl\n",
    "import plaidml.keras\n",
    "ssl._create_default_https_context = ssl._create_unverified_context\n",
    "\n",
    "os.environ[\"KERAS_BACKEND\"] = \"plaidml.keras.backend\"\n",
    "\n",
    "\n",
    "import keras.applications as kapp\n",
    "from keras.datasets import cifar10\n",
    "\n",
    "(x_train, y_train_cats), (x_test, y_test_cats) = cifar10.load_data()\n",
    "batch_size = 8\n",
    "x_train = x_train[:batch_size]\n",
    "x_train = np.repeat(np.repeat(x_train, 7, axis=1), 7, axis=2)\n",
    "model = kapp.VGG19()\n",
    "model.compile(optimizer='sgd', loss='categorical_crossentropy',\n",
    "              metrics=['accuracy'])\n",
    "\n",
    "print(\"Running initial batch (compiling tile program)\")\n",
    "y = model.predict(x=x_train, batch_size=batch_size)\n",
    "\n",
    "print(\"Timing inference...\")\n",
    "start = time.time()\n",
    "for i in range(10):\n",
    "    y = model.predict(x=x_train, batch_size=batch_size)\n",
    "print(\"Ran in {} seconds\".format(time.time() - start))"
   ],
   "metadata": {
    "collapsed": false,
    "pycharm": {
     "name": "#%%\n"
    }
   }
  },
  {
   "cell_type": "code",
   "execution_count": null,
   "outputs": [],
   "source": [],
   "metadata": {
    "collapsed": false,
    "pycharm": {
     "name": "#%%\n",
     "is_executing": true
    }
   }
  },
  {
   "cell_type": "code",
   "execution_count": null,
   "outputs": [],
   "source": [],
   "metadata": {
    "collapsed": false,
    "pycharm": {
     "name": "#%%\n",
     "is_executing": true
    }
   }
  }
 ],
 "metadata": {
  "kernelspec": {
   "display_name": "Python 3",
   "language": "python",
   "name": "python3"
  },
  "language_info": {
   "codemirror_mode": {
    "name": "ipython",
    "version": 2
   },
   "file_extension": ".py",
   "mimetype": "text/x-python",
   "name": "python",
   "nbconvert_exporter": "python",
   "pygments_lexer": "ipython2",
   "version": "2.7.6"
  }
 },
 "nbformat": 4,
 "nbformat_minor": 0
}