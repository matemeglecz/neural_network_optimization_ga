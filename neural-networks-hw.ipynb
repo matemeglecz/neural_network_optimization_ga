{
  "nbformat": 4,
  "nbformat_minor": 0,
  "metadata": {
    "colab": {
      "name": "neural-networks-hw.ipynb",
      "provenance": [],
      "collapsed_sections": []
    },
    "kernelspec": {
      "name": "python3",
      "display_name": "Python 3"
    },
    "language_info": {
      "name": "python"
    },
    "accelerator": "GPU"
  },
  "cells": [
    {
      "cell_type": "code",
      "execution_count": null,
      "metadata": {
        "id": "LswNlPo6GRdu",
        "pycharm": {
          "name": "#%%\n"
        }
      },
      "outputs": [],
      "source": [
        "import copy\n",
        "import os\n",
        "import numpy as np\n",
        "import random\n",
        "import time\n",
        "import copy\n",
        "from operator import attrgetter\n",
        "\n",
        "import matplotlib.pyplot as plt\n",
        "from joblib import Parallel, delayed\n",
        "from enum import Enum\n",
        "import ssl\n",
        "ssl._create_default_https_context = ssl._create_unverified_context\n",
        "\n",
        "#os.environ[\"KERAS_BACKEND\"] = \"plaidml.keras.backend\"\n",
        "\n",
        "import keras\n",
        "from keras.datasets import cifar10\n",
        "from keras.utils.np_utils import to_categorical\n",
        "from keras.layers import Dense, Flatten, Activation, Conv2D, MaxPooling2D, AveragePooling2D, Dropout\n",
        "from keras.models import Sequential\n",
        "from tensorflow.keras.optimizers import SGD, Adam"
      ]
    },
    {
      "cell_type": "markdown",
      "source": [
        "# Configuration"
      ],
      "metadata": {
        "id": "VWaw1YaL89QO",
        "pycharm": {
          "name": "#%% md\n"
        }
      }
    },
    {
      "cell_type": "code",
      "source": [
        "class ActivationType(Enum):\n",
        "  relu = 'relu'\n",
        "  softmax = 'softmax'     \n",
        "  elu = 'elu'  "
      ],
      "metadata": {
        "id": "H9CionTlAJu7",
        "pycharm": {
          "name": "#%%\n"
        }
      },
      "execution_count": null,
      "outputs": []
    },
    {
      "cell_type": "code",
      "source": [
        "class PoolingTypes(Enum):\n",
        "  avg_pooling = 1\n",
        "  max_pooling = 2"
      ],
      "metadata": {
        "id": "U5VNaPViAeSe",
        "pycharm": {
          "name": "#%%\n"
        }
      },
      "execution_count": null,
      "outputs": []
    },
    {
      "cell_type": "code",
      "source": [
        "class OptimizerType(Enum):\n",
        "  adam = 1\n",
        "  sgd = 2"
      ],
      "metadata": {
        "id": "bde0-H5NBi95",
        "pycharm": {
          "name": "#%%\n"
        }
      },
      "execution_count": null,
      "outputs": []
    },
    {
      "cell_type": "code",
      "source": [
        "class Configuration:\n",
        "  kernel_size_set = range(1, 10, 2)\n",
        "  act_set = [ActivationType.relu, ActivationType.softmax]\n",
        "  pooling_set = [PoolingTypes.max_pooling, PoolingTypes.avg_pooling]\n",
        "  neuron_set = range(1, 300)\n",
        "  epochs_set = range(1, 20)  \n",
        "  batch_size_set = [16, 32, 64]\n",
        "  optimizer_set = [OptimizerType.adam, OptimizerType.sgd]\n",
        "\n",
        "  def __init__(self, convulution_kernel_size = 3, \n",
        "               convulution_act = ActivationType.relu, \n",
        "               pooling_layer_type = PoolingTypes.max_pooling, \n",
        "               pooling_layer_kernel_size = 2, \n",
        "               first_dense_layer_neurons = 256, \n",
        "               first_dense_act = ActivationType.relu, \n",
        "               second_dense_act = ActivationType.softmax, \n",
        "               include_first_droput_layer = False,\n",
        "               first_dropout_rate = 0.5, \n",
        "               include_second_droput_layer = True,\n",
        "               second_dropout_rate = 0.5, \n",
        "               optimizer_type = OptimizerType.sgd, \n",
        "               learning_rate = 0.01,\n",
        "               epochs = 15, \n",
        "               batch_size = 32) -> None:\n",
        "    self.convulution_kernel_size = convulution_kernel_size\n",
        "    self.convulution_act = convulution_act\n",
        "    self.pooling_layer_type = pooling_layer_type\n",
        "    self.pooling_layer_kernel_size = pooling_layer_kernel_size\n",
        "    self.first_dense_layer_neurons = first_dense_layer_neurons\n",
        "    self.first_dense_act = first_dense_act    \n",
        "    self.second_dense_act = second_dense_act\n",
        "    self.include_first_droput_layer = include_first_droput_layer\n",
        "    self.first_dropout_rate = first_dropout_rate\n",
        "    self.include_second_droput_layer = include_second_droput_layer\n",
        "    self.second_dropout_rate = second_dropout_rate\n",
        "    self.optimizer_type = optimizer_type\n",
        "    self.learning_rate = learning_rate\n",
        "    self.epochs = epochs\n",
        "    self.batch_size = batch_size\n",
        "    self.loss = None\n",
        "    self.fitness = 0"
      ],
      "metadata": {
        "id": "sOK0WfPV8678",
        "pycharm": {
          "name": "#%%\n"
        }
      },
      "execution_count": null,
      "outputs": []
    },
    {
      "cell_type": "code",
      "source": [
        "def create_random():\n",
        "  first_dense_neurons = random.choice(Configuration.neuron_set)\n",
        "  second_dense_neurons = random.choice(range(min(Configuration.neuron_set), first_dense_neurons))\n",
        "  return Configuration(\n",
        "      random.choice(Configuration.kernel_size_set),\n",
        "      random.choice(Configuration.act_set),\n",
        "      random.choice(Configuration.pooling_set),\n",
        "      random.choice(Configuration.kernel_size_set),\n",
        "      first_dense_neurons,\n",
        "      random.choice(Configuration.act_set),\n",
        "      random.choice(Configuration.act_set),\n",
        "      bool(random.getrandbits(1)),\n",
        "      random.uniform(0, 1),\n",
        "      bool(random.getrandbits(1)),\n",
        "      random.uniform(0, 1),\n",
        "      random.choice(Configuration.optimizer_set),\n",
        "      random.uniform(0.0001, 0.2),\n",
        "      random.choice(Configuration.epochs_set),\n",
        "      random.choice(Configuration.batch_size_set)\n",
        "  )"
      ],
      "metadata": {
        "id": "tLPb2pnfPjgR",
        "pycharm": {
          "name": "#%%\n"
        }
      },
      "execution_count": null,
      "outputs": []
    },
    {
      "cell_type": "markdown",
      "source": [
        "# CNN"
      ],
      "metadata": {
        "id": "qPiajPVcRNZy",
        "pycharm": {
          "name": "#%% md\n"
        }
      }
    },
    {
      "cell_type": "code",
      "source": [
        "def plotLosses(history):  \n",
        "    plt.plot(history.history['loss'])\n",
        "    # plt.plot(history.history['val_loss'])\n",
        "    plt.title('model loss')\n",
        "    plt.ylabel('loss')\n",
        "    plt.xlabel('epoch')\n",
        "    plt.legend(['train', 'validation'], loc='upper left')\n",
        "    plt.show()"
      ],
      "metadata": {
        "id": "dgUpv79MPrI2",
        "pycharm": {
          "name": "#%%\n"
        }
      },
      "execution_count": null,
      "outputs": []
    },
    {
      "cell_type": "code",
      "source": [
        "def cnn(config, img_train, img_test, label_train, label_test):\n",
        "  if config.loss is not None:\n",
        "    return config.loss\n",
        "\n",
        "  model = Sequential()\n",
        "\n",
        "  model.add(Conv2D(32, (config.convulution_kernel_size, config.convulution_kernel_size), activation=config.convulution_act.value, input_shape=(32, 32, 3)))\n",
        "  model.add(Conv2D(32, (config.convulution_kernel_size, config.convulution_kernel_size), activation=config.convulution_act.value))\n",
        "\n",
        "  if config.pooling_layer_type == PoolingTypes.max_pooling:\n",
        "    model.add(MaxPooling2D(pool_size=(config.pooling_layer_kernel_size, config.pooling_layer_kernel_size)))\n",
        "  elif config.pooling_layer_type == PoolingTypes.avg_pooling:\n",
        "    model.add(AveragePooling2D(pool_size = (config.pooling_layer_kernel_size, config.pooling_layer_kernel_size)))\n",
        "  if config.include_first_droput_layer:\n",
        "    model.add(Dropout(config.first_dropout_rate))\n",
        "\n",
        "  model.add(Flatten())\n",
        "  model.add(Dense(config.first_dense_layer_neurons, activation=config.first_dense_act.value))\n",
        "  if config.include_second_droput_layer:\n",
        "    model.add(Dropout(config.second_dropout_rate))\n",
        "\n",
        "  model.add(Dense(10, activation=config.second_dense_act.value)) # ennek softmaxnak kell lennie\n",
        "\n",
        "  if config.optimizer_type == OptimizerType.sgd:\n",
        "    opt = SGD(lr=config.learning_rate, decay=1e-6, momentum=0.9, nesterov=True)\n",
        "  elif config.optimizer_type == OptimizerType.adam:\n",
        "    opt = Adam(lr=config.learning_rate)\n",
        "\n",
        "  model.compile(loss='categorical_crossentropy', metrics=['accuracy'], optimizer=opt)\n",
        "  history = model.fit(img_train,label_train, epochs=config.epochs, batch_size=config.batch_size, verbose=2, validation_split=0.0)\n",
        "  #plotLosses(history)\n",
        "  return model.evaluate(img_test, label_test)[0]\n"
      ],
      "metadata": {
        "id": "Wd-yuzIqLoW1",
        "pycharm": {
          "name": "#%%\n"
        }
      },
      "execution_count": null,
      "outputs": []
    },
    {
      "cell_type": "code",
      "source": [
        "(img_train, label_train), (img_test, label_test) = cifar10.load_data()\n",
        "label_train = to_categorical(label_train, num_classes=10)\n",
        "label_test = to_categorical(label_test, num_classes=10)\n",
        "img_train = img_train.astype('float32')\n",
        "img_test = img_test.astype('float32')\n",
        "img_train /= 255\n",
        "img_test /= 255"
      ],
      "metadata": {
        "id": "WCtNtIRCHHxM",
        "pycharm": {
          "name": "#%%\n"
        },
        "colab": {
          "base_uri": "https://localhost:8080/"
        },
        "outputId": "60cd950c-d50c-450c-cc8d-55238e26d6a4"
      },
      "execution_count": null,
      "outputs": [
        {
          "output_type": "stream",
          "name": "stdout",
          "text": [
            "Downloading data from https://www.cs.toronto.edu/~kriz/cifar-10-python.tar.gz\n",
            "170500096/170498071 [==============================] - 3s 0us/step\n",
            "170508288/170498071 [==============================] - 3s 0us/step\n"
          ]
        }
      ]
    },
    {
      "cell_type": "code",
      "source": [
        "config = Configuration(2, ActivationType.relu, PoolingTypes.avg_pooling, 2, 151, ActivationType.relu, 42, ActivationType.softmax, 0.6599541350938929, OptimizerType.sgd, 0.020280410342938485, 3, 32)\n",
        "res = cnn(config, img_train, img_test, label_train, label_test)\n",
        "\n",
        "print(res)"
      ],
      "metadata": {
        "colab": {
          "base_uri": "https://localhost:8080/"
        },
        "id": "kcM9yC8ZPr-O",
        "outputId": "c60d21ba-e55a-43e7-d250-eafe26f077f5",
        "pycharm": {
          "name": "#%%\n"
        }
      },
      "execution_count": null,
      "outputs": [
        {
          "name": "stderr",
          "output_type": "stream",
          "text": [
            "INFO:plaidml:Opening device \"opencl_amd_ellesmere.0\"\n"
          ]
        },
        {
          "name": "stdout",
          "output_type": "stream",
          "text": [
            "Epoch 1/3\n",
            " - 24s - loss: 1.5788 - acc: 0.4327\n",
            "Epoch 2/3\n",
            " - 15s - loss: 1.2063 - acc: 0.5717\n",
            "Epoch 3/3\n",
            " - 15s - loss: 0.9899 - acc: 0.6492\n",
            "10000/10000 [==============================] - 4s 418us/step\n",
            "1.0704704772949218\n"
          ]
        }
      ]
    },
    {
      "cell_type": "markdown",
      "source": [
        "# Genetic Algorithm"
      ],
      "metadata": {
        "id": "xURpGO8uSBnS",
        "pycharm": {
          "name": "#%% md\n"
        }
      }
    },
    {
      "cell_type": "code",
      "source": [
        "class GA_parameters:\n",
        "  max_population_size = 50\n",
        "  min_population_size = 6\n",
        "  population_size = 40\n",
        "  max_number_of_generations = 90\n",
        "  min_number_of_generations = 10\n",
        "  number_of_generations = 25\n",
        "  mutation_rate = 0.3\n",
        "  min_mutation_rate = 0.0\n",
        "  crossover_rate = 0.8\n",
        "  min_crossover_rate = 0.1\n",
        "  parameters_number = 15\n",
        "  elite_rate = 0.1"
      ],
      "metadata": {
        "id": "mp90iQqNTti1",
        "pycharm": {
          "name": "#%%\n"
        }
      },
      "execution_count": null,
      "outputs": []
    },
    {
      "cell_type": "code",
      "source": [
        "def fitness(population):\n",
        "  loss_values = np.empty((len(population), 2), float)\n",
        "  \n",
        "  fitness_values = [0 for _ in range(len(population))]\n",
        "  for j in range(len(population)):\n",
        "    loss_values[j][0] = j\n",
        "    loss_values[j][1] = population[j].loss\n",
        "\n",
        "  loss_sorted = loss_values[loss_values[:, 1].argsort()]\n",
        "\n",
        "  sp = 2#loss_sorted[0][1] - loss_sorted[-1][1]\n",
        "  for j in range(len(population), 0, -1):\n",
        "    fitness = 2-sp + 2 * (sp - 1) * (j - 1) / (len(population) - 1)\n",
        "    fitness_values[int(loss_sorted[len(population)-j][0])] = fitness\n",
        "    population[int(loss_sorted[len(population)-j][0])].fitness = fitness\n",
        "\n",
        "  return fitness_values"
      ],
      "metadata": {
        "id": "FSnmOnBHTPUW",
        "pycharm": {
          "name": "#%%\n"
        }
      },
      "execution_count": null,
      "outputs": []
    },
    {
      "cell_type": "code",
      "source": [
        "def select_parents(fitness_values, population):\n",
        "  selected_parent_idx = [0 for _ in range(GA_parameters.population_size)]\n",
        "  fitness_tuples = [(i, fitness_values[i]) for i in range(GA_parameters.population_size)]\n",
        "  sorted_fitnesses = sorted(fitness_tuples, key=lambda tup: tup[1])\n",
        "  print(sorted_fitnesses)\n",
        "  #sorted_fitnesses = sorted_fitnesses[::-1]\n",
        "  print(sorted_fitnesses)\n",
        "  fitness_sum = sum(fitness_values)\n",
        "  distance = fitness_sum / GA_parameters.population_size\n",
        "  shift = random.uniform(0, distance)\n",
        "\n",
        "  borders = [0 for _ in range(GA_parameters.population_size)]\n",
        "\n",
        "  for i in range(GA_parameters.population_size):\n",
        "    new_border = shift + i * distance\n",
        "    borders[i] = new_border\n",
        "\n",
        "  for border_id in range(len(borders)):\n",
        "    i = 0\n",
        "    roulette_sum = sorted_fitnesses[i][1]\n",
        "    while roulette_sum < borders[border_id]:\n",
        "      i = i + 1\n",
        "      roulette_sum = roulette_sum + sorted_fitnesses[i][1]\n",
        "\n",
        "    selected_parent_idx[border_id] = sorted_fitnesses[i][0]\n",
        "\n",
        "  return selected_parent_idx"
      ],
      "metadata": {
        "id": "3tfWegsAS2p1",
        "pycharm": {
          "name": "#%%\n"
        }
      },
      "execution_count": null,
      "outputs": []
    },
    {
      "cell_type": "code",
      "execution_count": null,
      "outputs": [],
      "source": [
        "def crossover_blend(p1, p2, round_value):\n",
        "    c1 = p1\n",
        "    c2 = p2\n",
        "\n",
        "    r = random.uniform(0, 1)\n",
        "    c1 = p1 + r * (p2 - p1)\n",
        "    c2 = p2 - r * (p2 - p1)\n",
        "\n",
        "    if round_value:\n",
        "      c1 = round(c1)\n",
        "      c2 = round(c2)\n",
        "\n",
        "    return c1, c2\n"
      ],
      "metadata": {
        "pycharm": {
          "name": "#%%\n"
        },
        "id": "nx990L4VvsMv"
      }
    },
    {
      "cell_type": "code",
      "execution_count": null,
      "outputs": [],
      "source": [
        "def crossover_operation(p1, p2):\n",
        "    prob = 0.5\n",
        "    c1 = copy.deepcopy(p1)\n",
        "    c2 = copy.deepcopy(p2)\n",
        "\n",
        "    if random.uniform(0,1) < prob:\n",
        "      c1.convulution_kernel_size, c2.convulution_kernel_size = crossover_blend(p1.convulution_kernel_size, p2.convulution_kernel_size, True)\n",
        "    if random.uniform(0,1) < prob:\n",
        "      c1.convulution_act, c2.convulution_act = p2.convulution_act, p1.convulution_act\n",
        "    if random.uniform(0,1) < prob:\n",
        "      c1.pooling_layer_type, c2.pooling_layer_type = p2.pooling_layer_type, p1.pooling_layer_type\n",
        "    if random.uniform(0,1) < prob:\n",
        "      c1.pooling_layer_kernel_size, c2.pooling_layer_kernel_size = crossover_blend(p1.pooling_layer_kernel_size, p2.pooling_layer_kernel_size, True)\n",
        "    if random.uniform(0,1) < prob:\n",
        "      c1.first_dense_layer_neurons, c2.first_dense_layer_neurons = crossover_blend(p1.first_dense_layer_neurons, p2.first_dense_layer_neurons, True)\n",
        "    if random.uniform(0,1) < prob:\n",
        "      c1.first_dense_act, c2.first_dense_act = p2.first_dense_act, p1.first_dense_act\n",
        "    if random.uniform(0,1) < prob:\n",
        "      c1.second_dense_layer_neurons, c2.second_dense_layer_neurons = crossover_blend(p1.second_dense_layer_neurons, p2.second_dense_layer_neurons, True)\n",
        "    if random.uniform(0,1) < prob:\n",
        "      c1.second_dense_act, c2.second_dense_act = p2.second_dense_act, p1.second_dense_act\n",
        "    if random.uniform(0,1) < prob:\n",
        "      c1.first_dropout_rate, c2.first_dropout_rate = crossover_blend(p1.first_dropout_rate, p2.first_dropout_rate, False)\n",
        "    if random.uniform(0,1) < prob:\n",
        "      c1.second_dropout_rate, c2.second_dropout_rate = crossover_blend(p1.second_dropout_rate, p2.second_dropout_rate, False)\n",
        "    if random.uniform(0,1) < prob:\n",
        "      c1.include_first_droput_layer, c2.include_first_droput_layer = p2.include_first_droput_layer, p1.include_first_droput_layer\n",
        "    if random.uniform(0,1) < prob:\n",
        "      c1.include_second_droput_layer, c2.include_second_droput_layer = p2.include_second_droput_layer, p1.include_second_droput_layer\n",
        "    if random.uniform(0,1) < prob:\n",
        "      c1.optimizer_type, c2.optimizer_type = p2.optimizer_type, p1.optimizer_type\n",
        "    if random.uniform(0,1) < prob:\n",
        "      c1.learning_rate, c2.learning_rate = crossover_blend(p1.learning_rate, p2.learning_rate, False)\n",
        "    if random.uniform(0,1) < prob:\n",
        "      c1.epochs, c2.epochs = crossover_blend(p1.epochs, p2.epochs, True)\n",
        "    if random.uniform(0,1) < prob:\n",
        "      c1.batch_size, c2.batch_size = p2.batch_size, p1.batch_size\n",
        "\n",
        "    c1.fitness = 0\n",
        "    c2.fitness = 0\n",
        "    c1.loss = None\n",
        "    c2.loss = None\n",
        "    return c1, c2"
      ],
      "metadata": {
        "pycharm": {
          "name": "#%%\n"
        },
        "id": "a-x3tRpEvsMv"
      }
    },
    {
      "cell_type": "code",
      "source": [
        "def pair_exists(pairs, candidate):\n",
        "  for p in pairs:\n",
        "    if p == candidate or p == candidate[::-1]:\n",
        "      return True\n",
        "  return False\n",
        "\n",
        "def crossover(population, parents):\n",
        "  parent_pair_number = round(len(population) * GA_parameters.crossover_rate)\n",
        "\n",
        "  combinations = len(set(parents)) * (len(set(parents))-1)\n",
        "  if combinations < parent_pair_number:\n",
        "      parent_pair_number = combinations\n",
        "\n",
        "  pairs = [[0, 0] for _ in range(parent_pair_number)]\n",
        "  for i in range(parent_pair_number):\n",
        "    a = random.choice(parents)\n",
        "    leftover = parents.copy()\n",
        "    leftover = list(filter(lambda x: x != a, leftover))\n",
        "\n",
        "    b = random.choice(leftover)\n",
        "    random_pair = [a, b]\n",
        "    while random_pair[0] == random_pair[1] and pair_exists(pairs, random_pair):\n",
        "      a = random.choice(parents)\n",
        "      leftover = parents\n",
        "      leftover = list(filter(lambda x: x != a, leftover))\n",
        "      print(leftover)\n",
        "      b = random.choice(leftover)\n",
        "      random_pair = [a, b]\n",
        "\n",
        "    pairs[i] = random_pair\n",
        "\n",
        "  childs = []\n",
        "\n",
        "  for p in pairs:\n",
        "    c1, c2 = crossover_operation(population[p[0]], population[p[1]])\n",
        "    childs.append(c1)\n",
        "    childs.append(c2)\n",
        "\n",
        "  return childs\n"
      ],
      "metadata": {
        "id": "m8-sgw5ISQuL",
        "pycharm": {
          "name": "#%%\n"
        }
      },
      "execution_count": null,
      "outputs": []
    },
    {
      "cell_type": "code",
      "execution_count": null,
      "outputs": [],
      "source": [
        "def mutate(x, sigma, round_value, bounds):\n",
        "    res = x + random.gauss(0, sigma)\n",
        "    if round_value:\n",
        "        res = round(res)\n",
        "    if max(bounds) > res > min(bounds):\n",
        "        return res\n",
        "\n",
        "    return x"
      ],
      "metadata": {
        "pycharm": {
          "name": "#%%\n"
        },
        "id": "G5NERqkHvsMx"
      }
    },
    {
      "cell_type": "code",
      "source": [
        "def mutation_operation(population):\n",
        "    prob = 0.5\n",
        "    choosen = random.sample(range(0, len(population)), round(len(population) * GA_parameters.mutation_rate))\n",
        "    mutated = []\n",
        "    for p_id in choosen:\n",
        "        p = population[p_id]\n",
        "        m = copy.deepcopy(p)\n",
        "\n",
        "        if random.uniform(0,1) < prob:\n",
        "          m.convulution_kernel_size = mutate(p.convulution_kernel_size, 1, True, Configuration.kernel_size_set)\n",
        "        if random.uniform(0,1) < prob:\n",
        "          m.convulution_act = random.choice(Configuration.act_set)\n",
        "        if random.uniform(0,1) < prob:\n",
        "          m.pooling_layer_type = random.choice(Configuration.pooling_set)\n",
        "        if random.uniform(0,1) < prob:\n",
        "          m.pooling_layer_kernel_size = mutate(p.pooling_layer_kernel_size, 1, True, Configuration.kernel_size_set)\n",
        "        if random.uniform(0,1) < prob:\n",
        "          m.first_dense_layer_neurons = mutate(p.first_dense_layer_neurons, 10, True, Configuration.neuron_set)\n",
        "        if random.uniform(0,1) < prob:\n",
        "          m.first_dense_act = random.choice(Configuration.act_set)\n",
        "        if random.uniform(0,1) < prob:\n",
        "          m.second_dense_layer_neurons = mutate(p.second_dense_layer_neurons, 10, True, Configuration.neuron_set)\n",
        "        if random.uniform(0,1) < prob:\n",
        "          m.second_dense_act = random.choice(Configuration.act_set)\n",
        "        if random.uniform(0,1) < prob:\n",
        "          m.first_dropout_rate = mutate(p.first_dropout_rate, 0.05, False, [0, 1])\n",
        "        if random.uniform(0,1) < prob:\n",
        "          m.second_dropout_rate = mutate(p.second_dropout_rate, 0.05, False, [0, 1])\n",
        "        if random.uniform(0,1) < prob:\n",
        "          m.include_first_droput_layer = not m.include_first_droput_layer\n",
        "        if random.uniform(0,1) < prob:\n",
        "          m.include_second_droput_layer = not m.include_second_droput_layer\n",
        "        if random.uniform(0,1) < prob:\n",
        "          m.optimizer_type = random.choice(Configuration.optimizer_set)\n",
        "        if random.uniform(0,1) < prob:\n",
        "          m.learning_rate = mutate(p.learning_rate, 0.01, False, [0.0001, 0.1])\n",
        "        if random.uniform(0,1) < prob:\n",
        "          m.epochs = mutate(p.epochs, 1, True, [1, 20])\n",
        "        if random.uniform(0,1) < prob:\n",
        "          m.batch_size = random.choice(Configuration.batch_size_set)\n",
        "\n",
        "        m.fitness = 0\n",
        "        m.loss = None\n",
        "        mutated.append(m)\n",
        "    return mutated"
      ],
      "metadata": {
        "id": "498d9MhXSmKj",
        "pycharm": {
          "name": "#%%\n"
        }
      },
      "execution_count": null,
      "outputs": []
    },
    {
      "cell_type": "code",
      "source": [
        "def select_new_population(population, childs, mutated):\n",
        "    sorted_pop = sorted(population, key=lambda x: x.fitness, reverse=True)\n",
        "    new_population = sorted_pop[0 : round(len(population) * GA_parameters.elite_rate)]\n",
        "    leftover = sorted_pop[round(len(population) * GA_parameters.elite_rate)::]\n",
        "\n",
        "    leftover = leftover + childs + mutated\n",
        "\n",
        "    def proc(i):\n",
        "        loss = cnn(leftover[i], img_train, img_test, label_train, label_test)\n",
        "        return loss\n",
        "\n",
        "    losses = Parallel(n_jobs=None)(delayed(proc)(i) for i in range(len(leftover)))\n",
        "    for j in range(len(leftover)):\n",
        "      leftover[j].loss = losses[j]\n",
        "\n",
        "    fitness_values = fitness(leftover)\n",
        "    for j in range(len(leftover)):\n",
        "      leftover[j].fitness = fitness_values[j]\n",
        "\n",
        "    leftover_chosen = sorted(leftover, key=lambda x: x.fitness, reverse=True)[0 : GA_parameters.population_size - round(len(population) * GA_parameters.elite_rate)]\n",
        "\n",
        "    new_population = new_population + leftover_chosen\n",
        "\n",
        "    return new_population"
      ],
      "metadata": {
        "id": "IzL3-q49Sr2a",
        "pycharm": {
          "name": "#%%\n"
        }
      },
      "execution_count": 31,
      "outputs": []
    },
    {
      "cell_type": "code",
      "source": [
        "def average(series, period):\n",
        "  if len(series) < period:\n",
        "    return np.nan\n",
        "  else:\n",
        "    return sum(series[-period -1 : -1]) / period"
      ],
      "metadata": {
        "id": "FlioPoC5D4XI"
      },
      "execution_count": null,
      "outputs": []
    },
    {
      "cell_type": "code",
      "source": [
        "def is_improvement_positive(population_fit, period = 10, gap = 0.01):\n",
        "  avg = average(population_fit, period)\n",
        "  if np.isnan(avg) or avg == 0:\n",
        "    return True\n",
        "\n",
        "  return population_fit[-1] < avg * (1 - gap)"
      ],
      "metadata": {
        "id": "Z1cbkhvsDpTj"
      },
      "execution_count": null,
      "outputs": []
    },
    {
      "cell_type": "code",
      "source": [
        "population = [create_random() for a in range(GA_parameters.population_size)]\n",
        "for j in range(GA_parameters.population_size):\n",
        "  print(vars(population[j]))\n",
        "\n",
        "def process(i):\n",
        "    loss = cnn(population[i], img_train, img_test, label_train, label_test)\n",
        "    #population[i].loss = loss\n",
        "    return loss\n",
        "\n",
        "start = time.perf_counter()\n",
        "losses = Parallel(n_jobs=3)(delayed(process)(i) for i in range(GA_parameters.population_size))\n",
        "end = time.perf_counter()\n",
        "for j in range(GA_parameters.population_size):\n",
        "  print(vars(population[j]))\n"
      ],
      "metadata": {
        "id": "zVyMN4g6S0Kp",
        "pycharm": {
          "name": "#%%\n"
        }
      },
      "execution_count": null,
      "outputs": []
    },
    {
      "cell_type": "code",
      "execution_count": null,
      "outputs": [
        {
          "name": "stdout",
          "output_type": "stream",
          "text": [
            "1500.1381 seconds\n"
          ]
        }
      ],
      "source": [
        "elapsed_time = end-start\n",
        "print(f\"{elapsed_time:0.4f} seconds\")"
      ],
      "metadata": {
        "pycharm": {
          "name": "#%%\n"
        },
        "id": "9ZMvGZg1vsMz",
        "outputId": "75126dc9-6ac8-4da5-bb92-7a84374bc147"
      }
    },
    {
      "cell_type": "code",
      "source": [
        "for j in range(GA_parameters.population_size):\n",
        "  print(population[j].loss)"
      ],
      "metadata": {
        "colab": {
          "base_uri": "https://localhost:8080/"
        },
        "id": "4Y9rBY4Vlrwt",
        "outputId": "57be8b44-e87b-4d73-deb9-e64ecde0eda1",
        "pycharm": {
          "name": "#%%\n"
        }
      },
      "execution_count": null,
      "outputs": [
        {
          "name": "stdout",
          "output_type": "stream",
          "text": [
            "2.309623580169678\n",
            "8.870509118652343\n",
            "6.1983064155578615\n",
            "2.3126065975189207\n",
            "4.875065173339844\n",
            "2.3059911834716798\n",
            "11.613233776855468\n",
            "7.52274270324707\n",
            "2.309860329055786\n",
            "2.304917765045166\n"
          ]
        }
      ]
    },
    {
      "cell_type": "code",
      "source": [
        "for j in range(GA_parameters.population_size):\n",
        "  population[j].loss = losses[j]\n",
        "  #print(vars(population[j]))\n",
        "\n",
        "fitness_values = fitness(population)\n",
        "for j in range(GA_parameters.population_size):\n",
        "    population[j].fitness = fitness_values[j]\n",
        "\n",
        "print(fitness_values)"
      ],
      "metadata": {
        "colab": {
          "base_uri": "https://localhost:8080/"
        },
        "id": "WrYwtuAT1cT_",
        "outputId": "ea93a152-522c-4bb7-96be-30dae684679c",
        "pycharm": {
          "name": "#%%\n"
        }
      },
      "execution_count": null,
      "outputs": [
        {
          "name": "stdout",
          "output_type": "stream",
          "text": [
            "[1.5555555555555556, 0.2222222222222222, 0.6666666666666666, 1.1111111111111112, 0.8888888888888888, 1.7777777777777777, 0.0, 0.4444444444444444, 1.3333333333333333, 2.0]\n"
          ]
        }
      ]
    },
    {
      "cell_type": "code",
      "execution_count": null,
      "outputs": [
        {
          "name": "stdout",
          "output_type": "stream",
          "text": [
            "[(6, 0.0), (1, 0.2222222222222222), (7, 0.4444444444444444), (2, 0.6666666666666666), (4, 0.8888888888888888), (3, 1.1111111111111112), (8, 1.3333333333333333), (0, 1.5555555555555556), (5, 1.7777777777777777), (9, 2.0)]\n",
            "[(6, 0.0), (1, 0.2222222222222222), (7, 0.4444444444444444), (2, 0.6666666666666666), (4, 0.8888888888888888), (3, 1.1111111111111112), (8, 1.3333333333333333), (0, 1.5555555555555556), (5, 1.7777777777777777), (9, 2.0)]\n"
          ]
        }
      ],
      "source": [
        "parents = select_parents(fitness_values, population)"
      ],
      "metadata": {
        "pycharm": {
          "name": "#%%\n"
        },
        "id": "N4F8v9BUvsM0",
        "outputId": "ad745d75-191f-4a59-94e9-0071722646c6"
      }
    },
    {
      "cell_type": "code",
      "execution_count": null,
      "outputs": [
        {
          "name": "stdout",
          "output_type": "stream",
          "text": [
            "{'convulution_kernel_size': 3, 'convulution_act': <ActivationType.relu: 'relu'>, 'pooling_layer_type': <PoolingTypes.max_pooling: 2>, 'pooling_layer_kernel_size': 1, 'first_dense_layer_neurons': 207, 'first_dense_act': <ActivationType.relu: 'relu'>, 'second_dense_layer_neurons': 129, 'second_dense_act': <ActivationType.softmax: 'softmax'>, 'dropout_rate': 0.6897607009757344, 'optimizer_type': <OptimizerType.adam: 1>, 'learning_rate': 0.0951055041134371, 'epochs': 3, 'batch_size': 16, 'loss': 2.309623580169678, 'fitness': 1.5555555555555556}\n"
          ]
        }
      ],
      "source": [
        "childs = crossover(population, parents)\n",
        "print(vars(childs[0]))"
      ],
      "metadata": {
        "pycharm": {
          "name": "#%%\n"
        },
        "id": "6jVw6MxTvsM0",
        "outputId": "358fe234-6b37-4eb3-d95c-e45000deb40b"
      }
    },
    {
      "cell_type": "code",
      "execution_count": null,
      "outputs": [
        {
          "name": "stdout",
          "output_type": "stream",
          "text": [
            "{'convulution_kernel_size': 3, 'convulution_act': <ActivationType.relu: 'relu'>, 'pooling_layer_type': <PoolingTypes.avg_pooling: 1>, 'pooling_layer_kernel_size': 2, 'first_dense_layer_neurons': 133, 'first_dense_act': <ActivationType.relu: 'relu'>, 'second_dense_layer_neurons': 126, 'second_dense_act': <ActivationType.relu: 'relu'>, 'dropout_rate': 0.39073201474356, 'optimizer_type': <OptimizerType.adam: 1>, 'learning_rate': 0.053857042637628076, 'epochs': 4, 'batch_size': 16, 'loss': None, 'fitness': 0}\n"
          ]
        }
      ],
      "source": [
        "mutated = mutation_operation(population)\n",
        "print(vars(mutated[0]))"
      ],
      "metadata": {
        "pycharm": {
          "name": "#%%\n"
        },
        "id": "KA5Ebhu5vsM1",
        "outputId": "b589410e-083b-426b-fb90-d75d7dd62de6"
      }
    },
    {
      "cell_type": "code",
      "execution_count": null,
      "outputs": [
        {
          "ename": "UnboundLocalError",
          "evalue": "local variable 'opt' referenced before assignment",
          "output_type": "error",
          "traceback": [
            "\u001b[1;31m---------------------------------------------------------------------------\u001b[0m",
            "\u001b[1;31m_RemoteTraceback\u001b[0m                          Traceback (most recent call last)",
            "\u001b[1;31m_RemoteTraceback\u001b[0m: \n\"\"\"\nTraceback (most recent call last):\n  File \"C:\\ProgramData\\Anaconda3\\envs\\gpu2\\lib\\site-packages\\joblib\\externals\\loky\\process_executor.py\", line 436, in _process_worker\n    r = call_item()\n  File \"C:\\ProgramData\\Anaconda3\\envs\\gpu2\\lib\\site-packages\\joblib\\externals\\loky\\process_executor.py\", line 288, in __call__\n    return self.fn(*self.args, **self.kwargs)\n  File \"C:\\ProgramData\\Anaconda3\\envs\\gpu2\\lib\\site-packages\\joblib\\_parallel_backends.py\", line 595, in __call__\n    return self.func(*args, **kwargs)\n  File \"C:\\ProgramData\\Anaconda3\\envs\\gpu2\\lib\\site-packages\\joblib\\parallel.py\", line 262, in __call__\n    return [func(*args, **kwargs)\n  File \"C:\\ProgramData\\Anaconda3\\envs\\gpu2\\lib\\site-packages\\joblib\\parallel.py\", line 262, in <listcomp>\n    return [func(*args, **kwargs)\n  File \"C:\\Users\\Máté\\AppData\\Local\\Temp\\ipykernel_44620\\2711574291.py\", line 9, in proc\n  File \"C:\\Users\\Máté\\AppData\\Local\\Temp\\ipykernel_44620\\1184460440.py\", line 26, in cnn\nUnboundLocalError: local variable 'opt' referenced before assignment\n\"\"\"",
            "\nThe above exception was the direct cause of the following exception:\n",
            "\u001b[1;31mUnboundLocalError\u001b[0m                         Traceback (most recent call last)",
            "Input \u001b[1;32mIn [114]\u001b[0m, in \u001b[0;36m<cell line: 1>\u001b[1;34m()\u001b[0m\n\u001b[1;32m----> 1\u001b[0m new_population \u001b[38;5;241m=\u001b[39m \u001b[43mselect_new_population\u001b[49m\u001b[43m(\u001b[49m\u001b[43mpopulation\u001b[49m\u001b[43m,\u001b[49m\u001b[43m \u001b[49m\u001b[43mchilds\u001b[49m\u001b[43m,\u001b[49m\u001b[43m \u001b[49m\u001b[43mmutated\u001b[49m\u001b[43m)\u001b[49m\n\u001b[0;32m      2\u001b[0m \u001b[38;5;28mprint\u001b[39m(new_population)\n",
            "Input \u001b[1;32mIn [112]\u001b[0m, in \u001b[0;36mselect_new_population\u001b[1;34m(population, childs, mutated)\u001b[0m\n\u001b[0;32m      9\u001b[0m     loss \u001b[38;5;241m=\u001b[39m cnn(leftover[i], img_train, img_test, label_train, label_test)\n\u001b[0;32m     10\u001b[0m     \u001b[38;5;28;01mreturn\u001b[39;00m loss\n\u001b[1;32m---> 12\u001b[0m losses \u001b[38;5;241m=\u001b[39m \u001b[43mParallel\u001b[49m\u001b[43m(\u001b[49m\u001b[43mn_jobs\u001b[49m\u001b[38;5;241;43m=\u001b[39;49m\u001b[38;5;241;43m3\u001b[39;49m\u001b[43m)\u001b[49m\u001b[43m(\u001b[49m\u001b[43mdelayed\u001b[49m\u001b[43m(\u001b[49m\u001b[43mproc\u001b[49m\u001b[43m)\u001b[49m\u001b[43m(\u001b[49m\u001b[43mi\u001b[49m\u001b[43m)\u001b[49m\u001b[43m \u001b[49m\u001b[38;5;28;43;01mfor\u001b[39;49;00m\u001b[43m \u001b[49m\u001b[43mi\u001b[49m\u001b[43m \u001b[49m\u001b[38;5;129;43;01min\u001b[39;49;00m\u001b[43m \u001b[49m\u001b[38;5;28;43mrange\u001b[39;49m\u001b[43m(\u001b[49m\u001b[38;5;28;43mlen\u001b[39;49m\u001b[43m(\u001b[49m\u001b[43mleftover\u001b[49m\u001b[43m)\u001b[49m\u001b[43m)\u001b[49m\u001b[43m)\u001b[49m\n\u001b[0;32m     13\u001b[0m \u001b[38;5;28;01mfor\u001b[39;00m j \u001b[38;5;129;01min\u001b[39;00m \u001b[38;5;28mrange\u001b[39m(\u001b[38;5;28mlen\u001b[39m(leftover)):\n\u001b[0;32m     14\u001b[0m   leftover[j]\u001b[38;5;241m.\u001b[39mloss \u001b[38;5;241m=\u001b[39m losses[j]\n",
            "File \u001b[1;32mC:\\ProgramData\\Anaconda3\\envs\\gpu2\\lib\\site-packages\\joblib\\parallel.py:1056\u001b[0m, in \u001b[0;36mParallel.__call__\u001b[1;34m(self, iterable)\u001b[0m\n\u001b[0;32m   1053\u001b[0m     \u001b[38;5;28mself\u001b[39m\u001b[38;5;241m.\u001b[39m_iterating \u001b[38;5;241m=\u001b[39m \u001b[38;5;28;01mFalse\u001b[39;00m\n\u001b[0;32m   1055\u001b[0m \u001b[38;5;28;01mwith\u001b[39;00m \u001b[38;5;28mself\u001b[39m\u001b[38;5;241m.\u001b[39m_backend\u001b[38;5;241m.\u001b[39mretrieval_context():\n\u001b[1;32m-> 1056\u001b[0m     \u001b[38;5;28;43mself\u001b[39;49m\u001b[38;5;241;43m.\u001b[39;49m\u001b[43mretrieve\u001b[49m\u001b[43m(\u001b[49m\u001b[43m)\u001b[49m\n\u001b[0;32m   1057\u001b[0m \u001b[38;5;66;03m# Make sure that we get a last message telling us we are done\u001b[39;00m\n\u001b[0;32m   1058\u001b[0m elapsed_time \u001b[38;5;241m=\u001b[39m time\u001b[38;5;241m.\u001b[39mtime() \u001b[38;5;241m-\u001b[39m \u001b[38;5;28mself\u001b[39m\u001b[38;5;241m.\u001b[39m_start_time\n",
            "File \u001b[1;32mC:\\ProgramData\\Anaconda3\\envs\\gpu2\\lib\\site-packages\\joblib\\parallel.py:935\u001b[0m, in \u001b[0;36mParallel.retrieve\u001b[1;34m(self)\u001b[0m\n\u001b[0;32m    933\u001b[0m \u001b[38;5;28;01mtry\u001b[39;00m:\n\u001b[0;32m    934\u001b[0m     \u001b[38;5;28;01mif\u001b[39;00m \u001b[38;5;28mgetattr\u001b[39m(\u001b[38;5;28mself\u001b[39m\u001b[38;5;241m.\u001b[39m_backend, \u001b[38;5;124m'\u001b[39m\u001b[38;5;124msupports_timeout\u001b[39m\u001b[38;5;124m'\u001b[39m, \u001b[38;5;28;01mFalse\u001b[39;00m):\n\u001b[1;32m--> 935\u001b[0m         \u001b[38;5;28mself\u001b[39m\u001b[38;5;241m.\u001b[39m_output\u001b[38;5;241m.\u001b[39mextend(\u001b[43mjob\u001b[49m\u001b[38;5;241;43m.\u001b[39;49m\u001b[43mget\u001b[49m\u001b[43m(\u001b[49m\u001b[43mtimeout\u001b[49m\u001b[38;5;241;43m=\u001b[39;49m\u001b[38;5;28;43mself\u001b[39;49m\u001b[38;5;241;43m.\u001b[39;49m\u001b[43mtimeout\u001b[49m\u001b[43m)\u001b[49m)\n\u001b[0;32m    936\u001b[0m     \u001b[38;5;28;01melse\u001b[39;00m:\n\u001b[0;32m    937\u001b[0m         \u001b[38;5;28mself\u001b[39m\u001b[38;5;241m.\u001b[39m_output\u001b[38;5;241m.\u001b[39mextend(job\u001b[38;5;241m.\u001b[39mget())\n",
            "File \u001b[1;32mC:\\ProgramData\\Anaconda3\\envs\\gpu2\\lib\\site-packages\\joblib\\_parallel_backends.py:542\u001b[0m, in \u001b[0;36mLokyBackend.wrap_future_result\u001b[1;34m(future, timeout)\u001b[0m\n\u001b[0;32m    539\u001b[0m \u001b[38;5;124;03m\"\"\"Wrapper for Future.result to implement the same behaviour as\u001b[39;00m\n\u001b[0;32m    540\u001b[0m \u001b[38;5;124;03mAsyncResults.get from multiprocessing.\"\"\"\u001b[39;00m\n\u001b[0;32m    541\u001b[0m \u001b[38;5;28;01mtry\u001b[39;00m:\n\u001b[1;32m--> 542\u001b[0m     \u001b[38;5;28;01mreturn\u001b[39;00m \u001b[43mfuture\u001b[49m\u001b[38;5;241;43m.\u001b[39;49m\u001b[43mresult\u001b[49m\u001b[43m(\u001b[49m\u001b[43mtimeout\u001b[49m\u001b[38;5;241;43m=\u001b[39;49m\u001b[43mtimeout\u001b[49m\u001b[43m)\u001b[49m\n\u001b[0;32m    543\u001b[0m \u001b[38;5;28;01mexcept\u001b[39;00m CfTimeoutError \u001b[38;5;28;01mas\u001b[39;00m e:\n\u001b[0;32m    544\u001b[0m     \u001b[38;5;28;01mraise\u001b[39;00m \u001b[38;5;167;01mTimeoutError\u001b[39;00m \u001b[38;5;28;01mfrom\u001b[39;00m \u001b[38;5;21;01me\u001b[39;00m\n",
            "File \u001b[1;32mC:\\ProgramData\\Anaconda3\\envs\\gpu2\\lib\\concurrent\\futures\\_base.py:446\u001b[0m, in \u001b[0;36mFuture.result\u001b[1;34m(self, timeout)\u001b[0m\n\u001b[0;32m    444\u001b[0m     \u001b[38;5;28;01mraise\u001b[39;00m CancelledError()\n\u001b[0;32m    445\u001b[0m \u001b[38;5;28;01melif\u001b[39;00m \u001b[38;5;28mself\u001b[39m\u001b[38;5;241m.\u001b[39m_state \u001b[38;5;241m==\u001b[39m FINISHED:\n\u001b[1;32m--> 446\u001b[0m     \u001b[38;5;28;01mreturn\u001b[39;00m \u001b[38;5;28;43mself\u001b[39;49m\u001b[38;5;241;43m.\u001b[39;49m\u001b[43m__get_result\u001b[49m\u001b[43m(\u001b[49m\u001b[43m)\u001b[49m\n\u001b[0;32m    447\u001b[0m \u001b[38;5;28;01melse\u001b[39;00m:\n\u001b[0;32m    448\u001b[0m     \u001b[38;5;28;01mraise\u001b[39;00m \u001b[38;5;167;01mTimeoutError\u001b[39;00m()\n",
            "File \u001b[1;32mC:\\ProgramData\\Anaconda3\\envs\\gpu2\\lib\\concurrent\\futures\\_base.py:391\u001b[0m, in \u001b[0;36mFuture.__get_result\u001b[1;34m(self)\u001b[0m\n\u001b[0;32m    389\u001b[0m \u001b[38;5;28;01mif\u001b[39;00m \u001b[38;5;28mself\u001b[39m\u001b[38;5;241m.\u001b[39m_exception:\n\u001b[0;32m    390\u001b[0m     \u001b[38;5;28;01mtry\u001b[39;00m:\n\u001b[1;32m--> 391\u001b[0m         \u001b[38;5;28;01mraise\u001b[39;00m \u001b[38;5;28mself\u001b[39m\u001b[38;5;241m.\u001b[39m_exception\n\u001b[0;32m    392\u001b[0m     \u001b[38;5;28;01mfinally\u001b[39;00m:\n\u001b[0;32m    393\u001b[0m         \u001b[38;5;66;03m# Break a reference cycle with the exception in self._exception\u001b[39;00m\n\u001b[0;32m    394\u001b[0m         \u001b[38;5;28mself\u001b[39m \u001b[38;5;241m=\u001b[39m \u001b[38;5;28;01mNone\u001b[39;00m\n",
            "\u001b[1;31mUnboundLocalError\u001b[0m: local variable 'opt' referenced before assignment"
          ]
        }
      ],
      "source": [
        "new_population = select_new_population(population, childs, mutated)\n",
        "print(new_population)"
      ],
      "metadata": {
        "pycharm": {
          "name": "#%%\n"
        },
        "id": "DpF3eWYVvsM1",
        "outputId": "5e27d085-630c-411c-fdac-a9ff112e9374"
      }
    },
    {
      "cell_type": "code",
      "source": [
        "def get_gen_losses(population):\n",
        "  result = []\n",
        "  for i in population:\n",
        "    result.append(i.loss)\n",
        "  return result"
      ],
      "metadata": {
        "id": "pXtcYEgYGsoZ"
      },
      "execution_count": null,
      "outputs": []
    },
    {
      "cell_type": "code",
      "execution_count": 34,
      "outputs": [],
      "source": [
        "best_config_in_gen = []\n",
        "best_loss_in_gen = []\n",
        "losses_in_gen = []\n",
        "impr_list = []\n",
        "\n",
        "def main(population):\n",
        "    population = [create_random() for a in range(GA_parameters.population_size)]\n",
        "    for j in range(GA_parameters.population_size):\n",
        "        print(vars(population[j]))\n",
        "\n",
        "    def process(i):\n",
        "      loss = cnn(population[i], img_train, img_test, label_train, label_test)\n",
        "      #population[i].loss = loss\n",
        "      return loss\n",
        "\n",
        "    start = time.perf_counter()\n",
        "    losses = Parallel(n_jobs=None)(delayed(process)(i) for i in range(GA_parameters.population_size))\n",
        "    end = time.perf_counter()\n",
        "    for j in range(GA_parameters.population_size):\n",
        "        print(vars(population[j]))\n",
        "\n",
        "    elapsed_time = end-start\n",
        "    print(f\"{elapsed_time:0.4f} seconds\")\n",
        "\n",
        "    for j in range(GA_parameters.population_size):\n",
        "        population[j].loss = losses[j]\n",
        "        #print(vars(population[j]))\n",
        "    #best_config_in_gen.append(min(population, key=attrgetter('loss')))\n",
        "    #best_loss_in_gen.append(min(population, key=attrgetter('loss').loss))\n",
        "    #losses_in_gen.append(get_gen_losses(population))\n",
        "    gen = 0\n",
        "    #for gen in range(GA_parameters.number_of_generations):\n",
        "    while gen < GA_parameters.min_number_of_generations or (gen < GA_parameters.max_number_of_generations and is_improvement_positive(best_loss_in_gen, 10, 0.01)):\n",
        "        print(gen)        \n",
        "        impr_rate = is_improvement_positive(best_loss_in_gen, 5, 0.01)\n",
        "        impr_list.append(impr_rate)\n",
        "\n",
        "        if not impr_rate:\n",
        "          GA_parameters.crossover_rate = min(GA_parameters.crossover_rate * 1.1, 1)\n",
        "          GA_parameters.mutation_rate = min(GA_parameters.mutation_rate * 1.1, 1)\n",
        "          if GA_parameters.population_size < GA_parameters.max_population_size:\n",
        "            GA_parameters.population_size = GA_parameters.population_size + 2\n",
        "            for _ in range(2):\n",
        "              new_ind = create_random()\n",
        "              new_ind.loss = cnn(new_ind, img_train, img_test, label_train, label_test)\n",
        "              population.append(new_ind)\n",
        "        else:   \n",
        "          GA_parameters.crossover_rate = max(GA_parameters.crossover_rate * 0.9, GA_parameters.min_crossover_rate)\n",
        "          GA_parameters.mutation_rate = max(GA_parameters.mutation_rate * 0.9, GA_parameters.min_mutation_rate)\n",
        "          if GA_parameters.population_size > GA_parameters.min_population_size:\n",
        "            GA_parameters.population_size = GA_parameters.population_size - 1\n",
        "            worst_ind = max(population, key=attrgetter('loss'))\n",
        "            population.remove(worst_ind)\n",
        "\n",
        "        fitness_values = fitness(population)\n",
        "\n",
        "        best_config_in_gen.append(min(population, key=attrgetter('loss')))\n",
        "        best_loss_in_gen.append(min(population, key=attrgetter('loss')).loss)\n",
        "        losses_in_gen.append(get_gen_losses(population))\n",
        "\n",
        "        for j in range(GA_parameters.population_size):\n",
        "            population[j].fitness = fitness_values[j]\n",
        "        print('parents')\n",
        "        parents = select_parents(fitness_values, population)\n",
        "        print('childs')\n",
        "        childs = crossover(population, parents)\n",
        "        print('mutated')\n",
        "        mutated = mutation_operation(population)\n",
        "        print('select_new_population')\n",
        "        population = select_new_population(population, childs, mutated)\n",
        "        gen = gen + 1\n",
        "\n",
        "    return population"
      ],
      "metadata": {
        "pycharm": {
          "name": "#%%\n"
        },
        "id": "KFrQfuOVvsM1"
      }
    },
    {
      "cell_type": "code",
      "execution_count": null,
      "outputs": [
        {
          "output_type": "stream",
          "name": "stdout",
          "text": [
            "{'convulution_kernel_size': 5, 'convulution_act': <ActivationType.softmax: 'softmax'>, 'pooling_layer_type': <PoolingTypes.avg_pooling: 1>, 'pooling_layer_kernel_size': 5, 'first_dense_layer_neurons': 163, 'first_dense_act': <ActivationType.relu: 'relu'>, 'second_dense_act': <ActivationType.relu: 'relu'>, 'include_first_droput_layer': True, 'first_dropout_rate': 0.021649993251133925, 'include_second_droput_layer': True, 'second_dropout_rate': 0.5385555102285889, 'optimizer_type': <OptimizerType.adam: 1>, 'learning_rate': 0.07907786817853395, 'epochs': 11, 'batch_size': 16, 'loss': None, 'fitness': 0}\n",
            "{'convulution_kernel_size': 9, 'convulution_act': <ActivationType.relu: 'relu'>, 'pooling_layer_type': <PoolingTypes.avg_pooling: 1>, 'pooling_layer_kernel_size': 9, 'first_dense_layer_neurons': 124, 'first_dense_act': <ActivationType.softmax: 'softmax'>, 'second_dense_act': <ActivationType.softmax: 'softmax'>, 'include_first_droput_layer': True, 'first_dropout_rate': 0.8738529506508552, 'include_second_droput_layer': True, 'second_dropout_rate': 0.9466456770499286, 'optimizer_type': <OptimizerType.sgd: 2>, 'learning_rate': 0.06294658583518152, 'epochs': 18, 'batch_size': 16, 'loss': None, 'fitness': 0}\n",
            "{'convulution_kernel_size': 9, 'convulution_act': <ActivationType.softmax: 'softmax'>, 'pooling_layer_type': <PoolingTypes.avg_pooling: 1>, 'pooling_layer_kernel_size': 3, 'first_dense_layer_neurons': 99, 'first_dense_act': <ActivationType.relu: 'relu'>, 'second_dense_act': <ActivationType.relu: 'relu'>, 'include_first_droput_layer': False, 'first_dropout_rate': 0.19923818996539644, 'include_second_droput_layer': True, 'second_dropout_rate': 0.24743198545526213, 'optimizer_type': <OptimizerType.sgd: 2>, 'learning_rate': 0.02096853212782673, 'epochs': 17, 'batch_size': 16, 'loss': None, 'fitness': 0}\n",
            "{'convulution_kernel_size': 9, 'convulution_act': <ActivationType.softmax: 'softmax'>, 'pooling_layer_type': <PoolingTypes.max_pooling: 2>, 'pooling_layer_kernel_size': 7, 'first_dense_layer_neurons': 220, 'first_dense_act': <ActivationType.softmax: 'softmax'>, 'second_dense_act': <ActivationType.softmax: 'softmax'>, 'include_first_droput_layer': False, 'first_dropout_rate': 0.4894526599832587, 'include_second_droput_layer': True, 'second_dropout_rate': 0.39915932390547026, 'optimizer_type': <OptimizerType.adam: 1>, 'learning_rate': 0.17800586012670336, 'epochs': 18, 'batch_size': 16, 'loss': None, 'fitness': 0}\n",
            "{'convulution_kernel_size': 3, 'convulution_act': <ActivationType.relu: 'relu'>, 'pooling_layer_type': <PoolingTypes.max_pooling: 2>, 'pooling_layer_kernel_size': 5, 'first_dense_layer_neurons': 87, 'first_dense_act': <ActivationType.relu: 'relu'>, 'second_dense_act': <ActivationType.softmax: 'softmax'>, 'include_first_droput_layer': False, 'first_dropout_rate': 0.4795400176267368, 'include_second_droput_layer': True, 'second_dropout_rate': 0.5706633056346709, 'optimizer_type': <OptimizerType.adam: 1>, 'learning_rate': 0.06440005672295028, 'epochs': 11, 'batch_size': 32, 'loss': None, 'fitness': 0}\n",
            "{'convulution_kernel_size': 5, 'convulution_act': <ActivationType.relu: 'relu'>, 'pooling_layer_type': <PoolingTypes.avg_pooling: 1>, 'pooling_layer_kernel_size': 1, 'first_dense_layer_neurons': 289, 'first_dense_act': <ActivationType.softmax: 'softmax'>, 'second_dense_act': <ActivationType.softmax: 'softmax'>, 'include_first_droput_layer': False, 'first_dropout_rate': 0.8474970236143974, 'include_second_droput_layer': False, 'second_dropout_rate': 0.3279782018254085, 'optimizer_type': <OptimizerType.sgd: 2>, 'learning_rate': 0.03723966403884923, 'epochs': 13, 'batch_size': 64, 'loss': None, 'fitness': 0}\n",
            "{'convulution_kernel_size': 9, 'convulution_act': <ActivationType.relu: 'relu'>, 'pooling_layer_type': <PoolingTypes.avg_pooling: 1>, 'pooling_layer_kernel_size': 9, 'first_dense_layer_neurons': 59, 'first_dense_act': <ActivationType.relu: 'relu'>, 'second_dense_act': <ActivationType.relu: 'relu'>, 'include_first_droput_layer': False, 'first_dropout_rate': 0.9437909293040601, 'include_second_droput_layer': True, 'second_dropout_rate': 0.49881438670497025, 'optimizer_type': <OptimizerType.adam: 1>, 'learning_rate': 0.03207403281771555, 'epochs': 5, 'batch_size': 64, 'loss': None, 'fitness': 0}\n",
            "{'convulution_kernel_size': 5, 'convulution_act': <ActivationType.relu: 'relu'>, 'pooling_layer_type': <PoolingTypes.avg_pooling: 1>, 'pooling_layer_kernel_size': 3, 'first_dense_layer_neurons': 205, 'first_dense_act': <ActivationType.softmax: 'softmax'>, 'second_dense_act': <ActivationType.softmax: 'softmax'>, 'include_first_droput_layer': True, 'first_dropout_rate': 0.5966508551460975, 'include_second_droput_layer': False, 'second_dropout_rate': 0.4004895887225165, 'optimizer_type': <OptimizerType.sgd: 2>, 'learning_rate': 0.17776989733248102, 'epochs': 3, 'batch_size': 64, 'loss': None, 'fitness': 0}\n",
            "{'convulution_kernel_size': 1, 'convulution_act': <ActivationType.relu: 'relu'>, 'pooling_layer_type': <PoolingTypes.avg_pooling: 1>, 'pooling_layer_kernel_size': 1, 'first_dense_layer_neurons': 55, 'first_dense_act': <ActivationType.relu: 'relu'>, 'second_dense_act': <ActivationType.softmax: 'softmax'>, 'include_first_droput_layer': True, 'first_dropout_rate': 0.26764191352446365, 'include_second_droput_layer': True, 'second_dropout_rate': 0.08641299941004499, 'optimizer_type': <OptimizerType.adam: 1>, 'learning_rate': 0.12200842171678399, 'epochs': 12, 'batch_size': 16, 'loss': None, 'fitness': 0}\n",
            "{'convulution_kernel_size': 9, 'convulution_act': <ActivationType.relu: 'relu'>, 'pooling_layer_type': <PoolingTypes.avg_pooling: 1>, 'pooling_layer_kernel_size': 7, 'first_dense_layer_neurons': 57, 'first_dense_act': <ActivationType.relu: 'relu'>, 'second_dense_act': <ActivationType.relu: 'relu'>, 'include_first_droput_layer': False, 'first_dropout_rate': 0.3462716078929803, 'include_second_droput_layer': False, 'second_dropout_rate': 0.05006139970592993, 'optimizer_type': <OptimizerType.sgd: 2>, 'learning_rate': 0.0615262923318025, 'epochs': 10, 'batch_size': 32, 'loss': None, 'fitness': 0}\n",
            "{'convulution_kernel_size': 1, 'convulution_act': <ActivationType.relu: 'relu'>, 'pooling_layer_type': <PoolingTypes.avg_pooling: 1>, 'pooling_layer_kernel_size': 5, 'first_dense_layer_neurons': 89, 'first_dense_act': <ActivationType.relu: 'relu'>, 'second_dense_act': <ActivationType.relu: 'relu'>, 'include_first_droput_layer': False, 'first_dropout_rate': 0.013570559532846804, 'include_second_droput_layer': False, 'second_dropout_rate': 0.5492905186038322, 'optimizer_type': <OptimizerType.sgd: 2>, 'learning_rate': 0.10110741031213315, 'epochs': 10, 'batch_size': 32, 'loss': None, 'fitness': 0}\n",
            "{'convulution_kernel_size': 7, 'convulution_act': <ActivationType.relu: 'relu'>, 'pooling_layer_type': <PoolingTypes.avg_pooling: 1>, 'pooling_layer_kernel_size': 1, 'first_dense_layer_neurons': 57, 'first_dense_act': <ActivationType.relu: 'relu'>, 'second_dense_act': <ActivationType.softmax: 'softmax'>, 'include_first_droput_layer': True, 'first_dropout_rate': 0.3569890684860444, 'include_second_droput_layer': True, 'second_dropout_rate': 0.512553756839194, 'optimizer_type': <OptimizerType.adam: 1>, 'learning_rate': 0.15349897665857495, 'epochs': 12, 'batch_size': 64, 'loss': None, 'fitness': 0}\n",
            "{'convulution_kernel_size': 7, 'convulution_act': <ActivationType.softmax: 'softmax'>, 'pooling_layer_type': <PoolingTypes.avg_pooling: 1>, 'pooling_layer_kernel_size': 5, 'first_dense_layer_neurons': 142, 'first_dense_act': <ActivationType.softmax: 'softmax'>, 'second_dense_act': <ActivationType.softmax: 'softmax'>, 'include_first_droput_layer': False, 'first_dropout_rate': 0.6265078589633717, 'include_second_droput_layer': False, 'second_dropout_rate': 0.6595625678446639, 'optimizer_type': <OptimizerType.adam: 1>, 'learning_rate': 0.0026398402293816717, 'epochs': 6, 'batch_size': 64, 'loss': None, 'fitness': 0}\n",
            "{'convulution_kernel_size': 3, 'convulution_act': <ActivationType.softmax: 'softmax'>, 'pooling_layer_type': <PoolingTypes.avg_pooling: 1>, 'pooling_layer_kernel_size': 9, 'first_dense_layer_neurons': 40, 'first_dense_act': <ActivationType.relu: 'relu'>, 'second_dense_act': <ActivationType.relu: 'relu'>, 'include_first_droput_layer': True, 'first_dropout_rate': 0.7152376727639636, 'include_second_droput_layer': False, 'second_dropout_rate': 0.5581419641802623, 'optimizer_type': <OptimizerType.sgd: 2>, 'learning_rate': 0.17478834448901487, 'epochs': 11, 'batch_size': 32, 'loss': None, 'fitness': 0}\n",
            "{'convulution_kernel_size': 1, 'convulution_act': <ActivationType.relu: 'relu'>, 'pooling_layer_type': <PoolingTypes.avg_pooling: 1>, 'pooling_layer_kernel_size': 1, 'first_dense_layer_neurons': 155, 'first_dense_act': <ActivationType.softmax: 'softmax'>, 'second_dense_act': <ActivationType.softmax: 'softmax'>, 'include_first_droput_layer': True, 'first_dropout_rate': 0.71904373761353, 'include_second_droput_layer': True, 'second_dropout_rate': 0.6219421233138912, 'optimizer_type': <OptimizerType.adam: 1>, 'learning_rate': 0.0716037981738262, 'epochs': 3, 'batch_size': 64, 'loss': None, 'fitness': 0}\n",
            "{'convulution_kernel_size': 3, 'convulution_act': <ActivationType.softmax: 'softmax'>, 'pooling_layer_type': <PoolingTypes.avg_pooling: 1>, 'pooling_layer_kernel_size': 1, 'first_dense_layer_neurons': 259, 'first_dense_act': <ActivationType.softmax: 'softmax'>, 'second_dense_act': <ActivationType.softmax: 'softmax'>, 'include_first_droput_layer': False, 'first_dropout_rate': 0.2955542326011855, 'include_second_droput_layer': True, 'second_dropout_rate': 0.6476919014917543, 'optimizer_type': <OptimizerType.adam: 1>, 'learning_rate': 0.0686279858283006, 'epochs': 12, 'batch_size': 32, 'loss': None, 'fitness': 0}\n",
            "{'convulution_kernel_size': 3, 'convulution_act': <ActivationType.relu: 'relu'>, 'pooling_layer_type': <PoolingTypes.max_pooling: 2>, 'pooling_layer_kernel_size': 5, 'first_dense_layer_neurons': 141, 'first_dense_act': <ActivationType.softmax: 'softmax'>, 'second_dense_act': <ActivationType.softmax: 'softmax'>, 'include_first_droput_layer': False, 'first_dropout_rate': 0.34504846452801397, 'include_second_droput_layer': False, 'second_dropout_rate': 0.17023563192064772, 'optimizer_type': <OptimizerType.adam: 1>, 'learning_rate': 0.1630403071939264, 'epochs': 16, 'batch_size': 16, 'loss': None, 'fitness': 0}\n",
            "{'convulution_kernel_size': 9, 'convulution_act': <ActivationType.softmax: 'softmax'>, 'pooling_layer_type': <PoolingTypes.avg_pooling: 1>, 'pooling_layer_kernel_size': 7, 'first_dense_layer_neurons': 70, 'first_dense_act': <ActivationType.softmax: 'softmax'>, 'second_dense_act': <ActivationType.softmax: 'softmax'>, 'include_first_droput_layer': True, 'first_dropout_rate': 0.19031255090624455, 'include_second_droput_layer': True, 'second_dropout_rate': 0.4311631327450681, 'optimizer_type': <OptimizerType.adam: 1>, 'learning_rate': 0.16451656865420208, 'epochs': 5, 'batch_size': 16, 'loss': None, 'fitness': 0}\n",
            "{'convulution_kernel_size': 1, 'convulution_act': <ActivationType.relu: 'relu'>, 'pooling_layer_type': <PoolingTypes.avg_pooling: 1>, 'pooling_layer_kernel_size': 7, 'first_dense_layer_neurons': 246, 'first_dense_act': <ActivationType.relu: 'relu'>, 'second_dense_act': <ActivationType.relu: 'relu'>, 'include_first_droput_layer': False, 'first_dropout_rate': 0.927838636746692, 'include_second_droput_layer': True, 'second_dropout_rate': 0.3442499220849884, 'optimizer_type': <OptimizerType.adam: 1>, 'learning_rate': 0.11407534949824172, 'epochs': 10, 'batch_size': 32, 'loss': None, 'fitness': 0}\n",
            "{'convulution_kernel_size': 5, 'convulution_act': <ActivationType.softmax: 'softmax'>, 'pooling_layer_type': <PoolingTypes.max_pooling: 2>, 'pooling_layer_kernel_size': 1, 'first_dense_layer_neurons': 177, 'first_dense_act': <ActivationType.softmax: 'softmax'>, 'second_dense_act': <ActivationType.softmax: 'softmax'>, 'include_first_droput_layer': False, 'first_dropout_rate': 0.9324406889149336, 'include_second_droput_layer': False, 'second_dropout_rate': 0.7611902762475787, 'optimizer_type': <OptimizerType.adam: 1>, 'learning_rate': 0.07340969672597665, 'epochs': 17, 'batch_size': 32, 'loss': None, 'fitness': 0}\n",
            "{'convulution_kernel_size': 1, 'convulution_act': <ActivationType.softmax: 'softmax'>, 'pooling_layer_type': <PoolingTypes.max_pooling: 2>, 'pooling_layer_kernel_size': 5, 'first_dense_layer_neurons': 138, 'first_dense_act': <ActivationType.softmax: 'softmax'>, 'second_dense_act': <ActivationType.relu: 'relu'>, 'include_first_droput_layer': False, 'first_dropout_rate': 0.889337228057026, 'include_second_droput_layer': True, 'second_dropout_rate': 0.4102874488763457, 'optimizer_type': <OptimizerType.sgd: 2>, 'learning_rate': 0.10382096837288719, 'epochs': 6, 'batch_size': 32, 'loss': None, 'fitness': 0}\n",
            "{'convulution_kernel_size': 5, 'convulution_act': <ActivationType.softmax: 'softmax'>, 'pooling_layer_type': <PoolingTypes.avg_pooling: 1>, 'pooling_layer_kernel_size': 9, 'first_dense_layer_neurons': 45, 'first_dense_act': <ActivationType.softmax: 'softmax'>, 'second_dense_act': <ActivationType.relu: 'relu'>, 'include_first_droput_layer': False, 'first_dropout_rate': 0.575046164543054, 'include_second_droput_layer': True, 'second_dropout_rate': 0.5222752870093498, 'optimizer_type': <OptimizerType.sgd: 2>, 'learning_rate': 0.03475177601886858, 'epochs': 11, 'batch_size': 16, 'loss': None, 'fitness': 0}\n",
            "{'convulution_kernel_size': 1, 'convulution_act': <ActivationType.relu: 'relu'>, 'pooling_layer_type': <PoolingTypes.max_pooling: 2>, 'pooling_layer_kernel_size': 3, 'first_dense_layer_neurons': 267, 'first_dense_act': <ActivationType.softmax: 'softmax'>, 'second_dense_act': <ActivationType.relu: 'relu'>, 'include_first_droput_layer': True, 'first_dropout_rate': 0.6378152371540514, 'include_second_droput_layer': False, 'second_dropout_rate': 0.43345156628046644, 'optimizer_type': <OptimizerType.adam: 1>, 'learning_rate': 0.14544858726057547, 'epochs': 2, 'batch_size': 32, 'loss': None, 'fitness': 0}\n",
            "{'convulution_kernel_size': 3, 'convulution_act': <ActivationType.relu: 'relu'>, 'pooling_layer_type': <PoolingTypes.avg_pooling: 1>, 'pooling_layer_kernel_size': 5, 'first_dense_layer_neurons': 284, 'first_dense_act': <ActivationType.relu: 'relu'>, 'second_dense_act': <ActivationType.relu: 'relu'>, 'include_first_droput_layer': True, 'first_dropout_rate': 0.6361425298746599, 'include_second_droput_layer': False, 'second_dropout_rate': 0.5518963887997419, 'optimizer_type': <OptimizerType.sgd: 2>, 'learning_rate': 0.01994379131878085, 'epochs': 9, 'batch_size': 16, 'loss': None, 'fitness': 0}\n",
            "{'convulution_kernel_size': 9, 'convulution_act': <ActivationType.relu: 'relu'>, 'pooling_layer_type': <PoolingTypes.max_pooling: 2>, 'pooling_layer_kernel_size': 1, 'first_dense_layer_neurons': 105, 'first_dense_act': <ActivationType.softmax: 'softmax'>, 'second_dense_act': <ActivationType.softmax: 'softmax'>, 'include_first_droput_layer': False, 'first_dropout_rate': 0.8893912770485488, 'include_second_droput_layer': True, 'second_dropout_rate': 0.8139696766568296, 'optimizer_type': <OptimizerType.sgd: 2>, 'learning_rate': 0.02459527276269531, 'epochs': 4, 'batch_size': 64, 'loss': None, 'fitness': 0}\n",
            "{'convulution_kernel_size': 1, 'convulution_act': <ActivationType.softmax: 'softmax'>, 'pooling_layer_type': <PoolingTypes.avg_pooling: 1>, 'pooling_layer_kernel_size': 5, 'first_dense_layer_neurons': 158, 'first_dense_act': <ActivationType.softmax: 'softmax'>, 'second_dense_act': <ActivationType.relu: 'relu'>, 'include_first_droput_layer': True, 'first_dropout_rate': 0.7069838498157041, 'include_second_droput_layer': True, 'second_dropout_rate': 0.21426115700473447, 'optimizer_type': <OptimizerType.adam: 1>, 'learning_rate': 0.07124940977273475, 'epochs': 6, 'batch_size': 64, 'loss': None, 'fitness': 0}\n",
            "{'convulution_kernel_size': 9, 'convulution_act': <ActivationType.relu: 'relu'>, 'pooling_layer_type': <PoolingTypes.max_pooling: 2>, 'pooling_layer_kernel_size': 9, 'first_dense_layer_neurons': 218, 'first_dense_act': <ActivationType.relu: 'relu'>, 'second_dense_act': <ActivationType.relu: 'relu'>, 'include_first_droput_layer': True, 'first_dropout_rate': 0.8893908097953275, 'include_second_droput_layer': False, 'second_dropout_rate': 0.9144701071399538, 'optimizer_type': <OptimizerType.sgd: 2>, 'learning_rate': 0.04667956034714922, 'epochs': 1, 'batch_size': 32, 'loss': None, 'fitness': 0}\n",
            "{'convulution_kernel_size': 1, 'convulution_act': <ActivationType.softmax: 'softmax'>, 'pooling_layer_type': <PoolingTypes.max_pooling: 2>, 'pooling_layer_kernel_size': 1, 'first_dense_layer_neurons': 161, 'first_dense_act': <ActivationType.relu: 'relu'>, 'second_dense_act': <ActivationType.softmax: 'softmax'>, 'include_first_droput_layer': True, 'first_dropout_rate': 0.6235160571144568, 'include_second_droput_layer': True, 'second_dropout_rate': 0.2801443105680864, 'optimizer_type': <OptimizerType.sgd: 2>, 'learning_rate': 0.06475040340472411, 'epochs': 12, 'batch_size': 16, 'loss': None, 'fitness': 0}\n",
            "{'convulution_kernel_size': 5, 'convulution_act': <ActivationType.softmax: 'softmax'>, 'pooling_layer_type': <PoolingTypes.max_pooling: 2>, 'pooling_layer_kernel_size': 7, 'first_dense_layer_neurons': 45, 'first_dense_act': <ActivationType.softmax: 'softmax'>, 'second_dense_act': <ActivationType.relu: 'relu'>, 'include_first_droput_layer': False, 'first_dropout_rate': 0.590920940055579, 'include_second_droput_layer': False, 'second_dropout_rate': 0.8425176312427021, 'optimizer_type': <OptimizerType.adam: 1>, 'learning_rate': 0.12671845294271153, 'epochs': 5, 'batch_size': 32, 'loss': None, 'fitness': 0}\n",
            "{'convulution_kernel_size': 7, 'convulution_act': <ActivationType.relu: 'relu'>, 'pooling_layer_type': <PoolingTypes.avg_pooling: 1>, 'pooling_layer_kernel_size': 9, 'first_dense_layer_neurons': 246, 'first_dense_act': <ActivationType.relu: 'relu'>, 'second_dense_act': <ActivationType.softmax: 'softmax'>, 'include_first_droput_layer': False, 'first_dropout_rate': 0.6232610288982108, 'include_second_droput_layer': True, 'second_dropout_rate': 0.8413004971046691, 'optimizer_type': <OptimizerType.sgd: 2>, 'learning_rate': 0.004684417031915851, 'epochs': 4, 'batch_size': 64, 'loss': None, 'fitness': 0}\n",
            "{'convulution_kernel_size': 1, 'convulution_act': <ActivationType.relu: 'relu'>, 'pooling_layer_type': <PoolingTypes.avg_pooling: 1>, 'pooling_layer_kernel_size': 9, 'first_dense_layer_neurons': 270, 'first_dense_act': <ActivationType.softmax: 'softmax'>, 'second_dense_act': <ActivationType.relu: 'relu'>, 'include_first_droput_layer': False, 'first_dropout_rate': 0.7959139105653416, 'include_second_droput_layer': True, 'second_dropout_rate': 0.38206656511150605, 'optimizer_type': <OptimizerType.sgd: 2>, 'learning_rate': 0.1256318461695821, 'epochs': 2, 'batch_size': 16, 'loss': None, 'fitness': 0}\n",
            "{'convulution_kernel_size': 1, 'convulution_act': <ActivationType.softmax: 'softmax'>, 'pooling_layer_type': <PoolingTypes.max_pooling: 2>, 'pooling_layer_kernel_size': 3, 'first_dense_layer_neurons': 122, 'first_dense_act': <ActivationType.softmax: 'softmax'>, 'second_dense_act': <ActivationType.softmax: 'softmax'>, 'include_first_droput_layer': True, 'first_dropout_rate': 0.1457386140485878, 'include_second_droput_layer': True, 'second_dropout_rate': 0.8597768193434078, 'optimizer_type': <OptimizerType.adam: 1>, 'learning_rate': 0.036764234247883866, 'epochs': 19, 'batch_size': 16, 'loss': None, 'fitness': 0}\n",
            "{'convulution_kernel_size': 9, 'convulution_act': <ActivationType.softmax: 'softmax'>, 'pooling_layer_type': <PoolingTypes.max_pooling: 2>, 'pooling_layer_kernel_size': 1, 'first_dense_layer_neurons': 127, 'first_dense_act': <ActivationType.softmax: 'softmax'>, 'second_dense_act': <ActivationType.softmax: 'softmax'>, 'include_first_droput_layer': True, 'first_dropout_rate': 0.6455899374398113, 'include_second_droput_layer': True, 'second_dropout_rate': 0.4816701067838296, 'optimizer_type': <OptimizerType.sgd: 2>, 'learning_rate': 0.022207325495546725, 'epochs': 2, 'batch_size': 64, 'loss': None, 'fitness': 0}\n",
            "{'convulution_kernel_size': 1, 'convulution_act': <ActivationType.softmax: 'softmax'>, 'pooling_layer_type': <PoolingTypes.avg_pooling: 1>, 'pooling_layer_kernel_size': 5, 'first_dense_layer_neurons': 200, 'first_dense_act': <ActivationType.relu: 'relu'>, 'second_dense_act': <ActivationType.relu: 'relu'>, 'include_first_droput_layer': False, 'first_dropout_rate': 0.531024650779602, 'include_second_droput_layer': True, 'second_dropout_rate': 0.25969222460788643, 'optimizer_type': <OptimizerType.adam: 1>, 'learning_rate': 0.10017774034362113, 'epochs': 11, 'batch_size': 32, 'loss': None, 'fitness': 0}\n",
            "{'convulution_kernel_size': 3, 'convulution_act': <ActivationType.softmax: 'softmax'>, 'pooling_layer_type': <PoolingTypes.max_pooling: 2>, 'pooling_layer_kernel_size': 9, 'first_dense_layer_neurons': 9, 'first_dense_act': <ActivationType.relu: 'relu'>, 'second_dense_act': <ActivationType.softmax: 'softmax'>, 'include_first_droput_layer': False, 'first_dropout_rate': 0.8358005005942982, 'include_second_droput_layer': True, 'second_dropout_rate': 0.5047076543403969, 'optimizer_type': <OptimizerType.adam: 1>, 'learning_rate': 0.07144076630011659, 'epochs': 4, 'batch_size': 16, 'loss': None, 'fitness': 0}\n",
            "{'convulution_kernel_size': 9, 'convulution_act': <ActivationType.softmax: 'softmax'>, 'pooling_layer_type': <PoolingTypes.avg_pooling: 1>, 'pooling_layer_kernel_size': 7, 'first_dense_layer_neurons': 187, 'first_dense_act': <ActivationType.softmax: 'softmax'>, 'second_dense_act': <ActivationType.softmax: 'softmax'>, 'include_first_droput_layer': True, 'first_dropout_rate': 0.026939643722444173, 'include_second_droput_layer': True, 'second_dropout_rate': 0.10971568417904165, 'optimizer_type': <OptimizerType.adam: 1>, 'learning_rate': 0.19152421289988578, 'epochs': 18, 'batch_size': 32, 'loss': None, 'fitness': 0}\n",
            "{'convulution_kernel_size': 5, 'convulution_act': <ActivationType.relu: 'relu'>, 'pooling_layer_type': <PoolingTypes.max_pooling: 2>, 'pooling_layer_kernel_size': 3, 'first_dense_layer_neurons': 208, 'first_dense_act': <ActivationType.softmax: 'softmax'>, 'second_dense_act': <ActivationType.softmax: 'softmax'>, 'include_first_droput_layer': False, 'first_dropout_rate': 0.0754387358685441, 'include_second_droput_layer': True, 'second_dropout_rate': 0.17146741864531867, 'optimizer_type': <OptimizerType.adam: 1>, 'learning_rate': 0.09257873644318633, 'epochs': 10, 'batch_size': 64, 'loss': None, 'fitness': 0}\n",
            "{'convulution_kernel_size': 7, 'convulution_act': <ActivationType.softmax: 'softmax'>, 'pooling_layer_type': <PoolingTypes.max_pooling: 2>, 'pooling_layer_kernel_size': 7, 'first_dense_layer_neurons': 268, 'first_dense_act': <ActivationType.softmax: 'softmax'>, 'second_dense_act': <ActivationType.relu: 'relu'>, 'include_first_droput_layer': False, 'first_dropout_rate': 0.3629456135084643, 'include_second_droput_layer': False, 'second_dropout_rate': 0.04581550344713259, 'optimizer_type': <OptimizerType.adam: 1>, 'learning_rate': 0.03403531850338245, 'epochs': 19, 'batch_size': 32, 'loss': None, 'fitness': 0}\n",
            "{'convulution_kernel_size': 5, 'convulution_act': <ActivationType.relu: 'relu'>, 'pooling_layer_type': <PoolingTypes.avg_pooling: 1>, 'pooling_layer_kernel_size': 9, 'first_dense_layer_neurons': 34, 'first_dense_act': <ActivationType.softmax: 'softmax'>, 'second_dense_act': <ActivationType.softmax: 'softmax'>, 'include_first_droput_layer': True, 'first_dropout_rate': 0.661562954408475, 'include_second_droput_layer': False, 'second_dropout_rate': 0.00982516100855313, 'optimizer_type': <OptimizerType.adam: 1>, 'learning_rate': 0.04035487061061225, 'epochs': 14, 'batch_size': 64, 'loss': None, 'fitness': 0}\n"
          ]
        },
        {
          "output_type": "stream",
          "name": "stderr",
          "text": [
            "/usr/local/lib/python3.7/dist-packages/keras/optimizer_v2/adam.py:105: UserWarning: The `lr` argument is deprecated, use `learning_rate` instead.\n",
            "  super(Adam, self).__init__(name, **kwargs)\n"
          ]
        },
        {
          "output_type": "stream",
          "name": "stdout",
          "text": [
            "Epoch 1/11\n",
            "3125/3125 - 9s - loss: 10.2312 - accuracy: 0.0999 - 9s/epoch - 3ms/step\n",
            "Epoch 2/11\n",
            "3125/3125 - 8s - loss: 10.2274 - accuracy: 0.1008 - 8s/epoch - 3ms/step\n",
            "Epoch 3/11\n",
            "3125/3125 - 9s - loss: 9.2481 - accuracy: 0.0998 - 9s/epoch - 3ms/step\n",
            "Epoch 4/11\n",
            "3125/3125 - 8s - loss: 8.8656 - accuracy: 0.1005 - 8s/epoch - 3ms/step\n",
            "Epoch 5/11\n",
            "3125/3125 - 8s - loss: 8.8655 - accuracy: 0.0961 - 8s/epoch - 3ms/step\n",
            "Epoch 6/11\n",
            "3125/3125 - 8s - loss: 8.8652 - accuracy: 0.1009 - 8s/epoch - 3ms/step\n",
            "Epoch 7/11\n",
            "3125/3125 - 8s - loss: 8.8653 - accuracy: 0.0978 - 8s/epoch - 3ms/step\n",
            "Epoch 8/11\n",
            "3125/3125 - 8s - loss: 8.8648 - accuracy: 0.0991 - 8s/epoch - 3ms/step\n",
            "Epoch 9/11\n",
            "3125/3125 - 8s - loss: 8.8649 - accuracy: 0.0998 - 8s/epoch - 3ms/step\n",
            "Epoch 10/11\n",
            "3125/3125 - 8s - loss: 8.8647 - accuracy: 0.1008 - 8s/epoch - 3ms/step\n",
            "Epoch 11/11\n",
            "3125/3125 - 8s - loss: 8.8647 - accuracy: 0.1000 - 8s/epoch - 3ms/step\n",
            "313/313 [==============================] - 1s 3ms/step - loss: 8.8643 - accuracy: 0.1000\n"
          ]
        },
        {
          "output_type": "stream",
          "name": "stderr",
          "text": [
            "/usr/local/lib/python3.7/dist-packages/keras/optimizer_v2/gradient_descent.py:102: UserWarning: The `lr` argument is deprecated, use `learning_rate` instead.\n",
            "  super(SGD, self).__init__(name, **kwargs)\n"
          ]
        },
        {
          "output_type": "stream",
          "name": "stdout",
          "text": [
            "Epoch 1/18\n",
            "3125/3125 - 9s - loss: 2.4227 - accuracy: 0.0999 - 9s/epoch - 3ms/step\n",
            "Epoch 2/18\n",
            "3125/3125 - 8s - loss: 2.4177 - accuracy: 0.1032 - 8s/epoch - 3ms/step\n",
            "Epoch 3/18\n",
            "3125/3125 - 8s - loss: 2.4109 - accuracy: 0.0991 - 8s/epoch - 3ms/step\n",
            "Epoch 4/18\n",
            "3125/3125 - 8s - loss: 2.4227 - accuracy: 0.0975 - 8s/epoch - 3ms/step\n",
            "Epoch 5/18\n",
            "3125/3125 - 9s - loss: 2.4078 - accuracy: 0.0985 - 9s/epoch - 3ms/step\n",
            "Epoch 6/18\n",
            "3125/3125 - 8s - loss: 2.4232 - accuracy: 0.0984 - 8s/epoch - 3ms/step\n",
            "Epoch 7/18\n",
            "3125/3125 - 8s - loss: 2.4053 - accuracy: 0.1005 - 8s/epoch - 3ms/step\n",
            "Epoch 8/18\n",
            "3125/3125 - 8s - loss: 2.4155 - accuracy: 0.1003 - 8s/epoch - 3ms/step\n",
            "Epoch 9/18\n",
            "3125/3125 - 8s - loss: 2.4129 - accuracy: 0.1001 - 8s/epoch - 3ms/step\n",
            "Epoch 10/18\n",
            "3125/3125 - 8s - loss: 2.4256 - accuracy: 0.1012 - 8s/epoch - 3ms/step\n",
            "Epoch 11/18\n",
            "3125/3125 - 8s - loss: 2.4068 - accuracy: 0.0996 - 8s/epoch - 3ms/step\n",
            "Epoch 12/18\n",
            "3125/3125 - 8s - loss: 2.4094 - accuracy: 0.0968 - 8s/epoch - 3ms/step\n",
            "Epoch 13/18\n",
            "3125/3125 - 8s - loss: 2.4149 - accuracy: 0.1010 - 8s/epoch - 3ms/step\n",
            "Epoch 14/18\n",
            "3125/3125 - 8s - loss: 2.4167 - accuracy: 0.0994 - 8s/epoch - 3ms/step\n",
            "Epoch 15/18\n",
            "3125/3125 - 8s - loss: 2.4195 - accuracy: 0.0982 - 8s/epoch - 3ms/step\n",
            "Epoch 16/18\n",
            "3125/3125 - 8s - loss: 2.4150 - accuracy: 0.0973 - 8s/epoch - 3ms/step\n",
            "Epoch 17/18\n",
            "3125/3125 - 8s - loss: 2.4130 - accuracy: 0.1019 - 8s/epoch - 3ms/step\n",
            "Epoch 18/18\n",
            "3125/3125 - 8s - loss: 2.4082 - accuracy: 0.1006 - 8s/epoch - 3ms/step\n",
            "313/313 [==============================] - 1s 3ms/step - loss: 2.3513 - accuracy: 0.1000\n",
            "Epoch 1/17\n",
            "3125/3125 - 9s - loss: 2.4208 - accuracy: 0.1002 - 9s/epoch - 3ms/step\n",
            "Epoch 2/17\n",
            "3125/3125 - 8s - loss: 2.3050 - accuracy: 0.0992 - 8s/epoch - 3ms/step\n",
            "Epoch 3/17\n",
            "3125/3125 - 8s - loss: 2.3039 - accuracy: 0.1006 - 8s/epoch - 3ms/step\n",
            "Epoch 4/17\n"
          ]
        }
      ],
      "source": [
        "last_pop = main([])"
      ],
      "metadata": {
        "pycharm": {
          "name": "#%%\n",
          "is_executing": true
        },
        "colab": {
          "base_uri": "https://localhost:8080/"
        },
        "id": "rdsYvqdwvsM2",
        "outputId": "b1741196-379e-48e8-e8dd-cfea6526d893"
      }
    },
    {
      "cell_type": "code",
      "execution_count": null,
      "outputs": [
        {
          "name": "stdout",
          "output_type": "stream",
          "text": [
            "{'convulution_kernel_size': 2, 'convulution_act': <ActivationType.relu: 'relu'>, 'pooling_layer_type': <PoolingTypes.avg_pooling: 1>, 'pooling_layer_kernel_size': 3, 'first_dense_layer_neurons': 203, 'first_dense_act': <ActivationType.relu: 'relu'>, 'second_dense_layer_neurons': 96, 'second_dense_act': <ActivationType.softmax: 'softmax'>, 'dropout_rate': 0.5111331121652593, 'optimizer_type': <OptimizerType.sgd: 2>, 'learning_rate': 0.019456694931229843, 'epochs': 6, 'batch_size': 32, 'loss': 0.9676980646133423, 'fitness': 2.0}\n",
            "{'convulution_kernel_size': 2, 'convulution_act': <ActivationType.relu: 'relu'>, 'pooling_layer_type': <PoolingTypes.avg_pooling: 1>, 'pooling_layer_kernel_size': 3, 'first_dense_layer_neurons': 152, 'first_dense_act': <ActivationType.relu: 'relu'>, 'second_dense_layer_neurons': 76, 'second_dense_act': <ActivationType.softmax: 'softmax'>, 'dropout_rate': 0.4948152541730267, 'optimizer_type': <OptimizerType.sgd: 2>, 'learning_rate': 0.019456694931229843, 'epochs': 6, 'batch_size': 32, 'loss': 0.9687525920391082, 'fitness': 1.894736842105263}\n",
            "{'convulution_kernel_size': 2, 'convulution_act': <ActivationType.relu: 'relu'>, 'pooling_layer_type': <PoolingTypes.avg_pooling: 1>, 'pooling_layer_kernel_size': 3, 'first_dense_layer_neurons': 152, 'first_dense_act': <ActivationType.relu: 'relu'>, 'second_dense_layer_neurons': 76, 'second_dense_act': <ActivationType.softmax: 'softmax'>, 'dropout_rate': 0.4904630089623164, 'optimizer_type': <OptimizerType.sgd: 2>, 'learning_rate': 0.019456694931229843, 'epochs': 6, 'batch_size': 32, 'loss': 0.9722029711723328, 'fitness': 2.0}\n",
            "{'convulution_kernel_size': 2, 'convulution_act': <ActivationType.relu: 'relu'>, 'pooling_layer_type': <PoolingTypes.avg_pooling: 1>, 'pooling_layer_kernel_size': 3, 'first_dense_layer_neurons': 170, 'first_dense_act': <ActivationType.relu: 'relu'>, 'second_dense_layer_neurons': 94, 'second_dense_act': <ActivationType.softmax: 'softmax'>, 'dropout_rate': 0.5051866133750875, 'optimizer_type': <OptimizerType.sgd: 2>, 'learning_rate': 0.019456694931229843, 'epochs': 6, 'batch_size': 32, 'loss': 0.9733619443893433, 'fitness': 1.9622641509433962}\n",
            "{'convulution_kernel_size': 2, 'convulution_act': <ActivationType.relu: 'relu'>, 'pooling_layer_type': <PoolingTypes.avg_pooling: 1>, 'pooling_layer_kernel_size': 3, 'first_dense_layer_neurons': 214, 'first_dense_act': <ActivationType.relu: 'relu'>, 'second_dense_layer_neurons': 99, 'second_dense_act': <ActivationType.softmax: 'softmax'>, 'dropout_rate': 0.5025641694318137, 'optimizer_type': <OptimizerType.sgd: 2>, 'learning_rate': 0.019456694931229843, 'epochs': 6, 'batch_size': 32, 'loss': 0.9776664667129517, 'fitness': 1.9245283018867925}\n",
            "{'convulution_kernel_size': 2, 'convulution_act': <ActivationType.relu: 'relu'>, 'pooling_layer_type': <PoolingTypes.avg_pooling: 1>, 'pooling_layer_kernel_size': 3, 'first_dense_layer_neurons': 204, 'first_dense_act': <ActivationType.relu: 'relu'>, 'second_dense_layer_neurons': 94, 'second_dense_act': <ActivationType.softmax: 'softmax'>, 'dropout_rate': 0.5044596031654293, 'optimizer_type': <OptimizerType.sgd: 2>, 'learning_rate': 0.019456694931229843, 'epochs': 6, 'batch_size': 32, 'loss': 0.9779601215362549, 'fitness': 1.8867924528301887}\n",
            "{'convulution_kernel_size': 2, 'convulution_act': <ActivationType.relu: 'relu'>, 'pooling_layer_type': <PoolingTypes.avg_pooling: 1>, 'pooling_layer_kernel_size': 3, 'first_dense_layer_neurons': 203, 'first_dense_act': <ActivationType.relu: 'relu'>, 'second_dense_layer_neurons': 104, 'second_dense_act': <ActivationType.softmax: 'softmax'>, 'dropout_rate': 0.5072533470497819, 'optimizer_type': <OptimizerType.sgd: 2>, 'learning_rate': 0.019456694931229843, 'epochs': 6, 'batch_size': 32, 'loss': 0.9797859024047851, 'fitness': 1.849056603773585}\n",
            "{'convulution_kernel_size': 2, 'convulution_act': <ActivationType.relu: 'relu'>, 'pooling_layer_type': <PoolingTypes.avg_pooling: 1>, 'pooling_layer_kernel_size': 3, 'first_dense_layer_neurons': 203, 'first_dense_act': <ActivationType.relu: 'relu'>, 'second_dense_layer_neurons': 94, 'second_dense_act': <ActivationType.softmax: 'softmax'>, 'dropout_rate': 0.5215070042917461, 'optimizer_type': <OptimizerType.sgd: 2>, 'learning_rate': 0.019456694931229843, 'epochs': 6, 'batch_size': 32, 'loss': 0.9838183138847351, 'fitness': 1.8113207547169812}\n",
            "{'convulution_kernel_size': 2, 'convulution_act': <ActivationType.relu: 'relu'>, 'pooling_layer_type': <PoolingTypes.avg_pooling: 1>, 'pooling_layer_kernel_size': 3, 'first_dense_layer_neurons': 268, 'first_dense_act': <ActivationType.relu: 'relu'>, 'second_dense_layer_neurons': 76, 'second_dense_act': <ActivationType.softmax: 'softmax'>, 'dropout_rate': 0.4977072799165641, 'optimizer_type': <OptimizerType.sgd: 2>, 'learning_rate': 0.019456694931229843, 'epochs': 6, 'batch_size': 32, 'loss': 0.9890440578460693, 'fitness': 1.7735849056603774}\n",
            "{'convulution_kernel_size': 2, 'convulution_act': <ActivationType.relu: 'relu'>, 'pooling_layer_type': <PoolingTypes.avg_pooling: 1>, 'pooling_layer_kernel_size': 3, 'first_dense_layer_neurons': 159, 'first_dense_act': <ActivationType.relu: 'relu'>, 'second_dense_layer_neurons': 104, 'second_dense_act': <ActivationType.softmax: 'softmax'>, 'dropout_rate': 0.5042679604357092, 'optimizer_type': <OptimizerType.sgd: 2>, 'learning_rate': 0.019456694931229843, 'epochs': 6, 'batch_size': 32, 'loss': 0.9900470071792603, 'fitness': 1.7358490566037736}\n",
            "{'convulution_kernel_size': 2, 'convulution_act': <ActivationType.relu: 'relu'>, 'pooling_layer_type': <PoolingTypes.avg_pooling: 1>, 'pooling_layer_kernel_size': 3, 'first_dense_layer_neurons': 240, 'first_dense_act': <ActivationType.relu: 'relu'>, 'second_dense_layer_neurons': 83, 'second_dense_act': <ActivationType.softmax: 'softmax'>, 'dropout_rate': 0.5215070042917461, 'optimizer_type': <OptimizerType.sgd: 2>, 'learning_rate': 0.019456694931229843, 'epochs': 6, 'batch_size': 32, 'loss': 0.9905371870994568, 'fitness': 1.6981132075471699}\n",
            "{'convulution_kernel_size': 2, 'convulution_act': <ActivationType.relu: 'relu'>, 'pooling_layer_type': <PoolingTypes.avg_pooling: 1>, 'pooling_layer_kernel_size': 3, 'first_dense_layer_neurons': 162, 'first_dense_act': <ActivationType.relu: 'relu'>, 'second_dense_layer_neurons': 86, 'second_dense_act': <ActivationType.softmax: 'softmax'>, 'dropout_rate': 0.5215070042917461, 'optimizer_type': <OptimizerType.sgd: 2>, 'learning_rate': 0.019456694931229843, 'epochs': 6, 'batch_size': 32, 'loss': 0.9913342610359192, 'fitness': 1.6603773584905661}\n",
            "{'convulution_kernel_size': 2, 'convulution_act': <ActivationType.relu: 'relu'>, 'pooling_layer_type': <PoolingTypes.avg_pooling: 1>, 'pooling_layer_kernel_size': 3, 'first_dense_layer_neurons': 259, 'first_dense_act': <ActivationType.relu: 'relu'>, 'second_dense_layer_neurons': 79, 'second_dense_act': <ActivationType.softmax: 'softmax'>, 'dropout_rate': 0.5030886784646438, 'optimizer_type': <OptimizerType.sgd: 2>, 'learning_rate': 0.019456694931229843, 'epochs': 6, 'batch_size': 32, 'loss': 0.991373969745636, 'fitness': 1.6226415094339623}\n",
            "{'convulution_kernel_size': 2, 'convulution_act': <ActivationType.relu: 'relu'>, 'pooling_layer_type': <PoolingTypes.avg_pooling: 1>, 'pooling_layer_kernel_size': 3, 'first_dense_layer_neurons': 203, 'first_dense_act': <ActivationType.relu: 'relu'>, 'second_dense_layer_neurons': 96, 'second_dense_act': <ActivationType.softmax: 'softmax'>, 'dropout_rate': 0.5215070042917461, 'optimizer_type': <OptimizerType.sgd: 2>, 'learning_rate': 0.019456694931229843, 'epochs': 6, 'batch_size': 32, 'loss': 0.9915729809761047, 'fitness': 1.5849056603773586}\n",
            "{'convulution_kernel_size': 2, 'convulution_act': <ActivationType.relu: 'relu'>, 'pooling_layer_type': <PoolingTypes.avg_pooling: 1>, 'pooling_layer_kernel_size': 3, 'first_dense_layer_neurons': 170, 'first_dense_act': <ActivationType.relu: 'relu'>, 'second_dense_layer_neurons': 94, 'second_dense_act': <ActivationType.softmax: 'softmax'>, 'dropout_rate': 0.5061854291303285, 'optimizer_type': <OptimizerType.sgd: 2>, 'learning_rate': 0.019456694931229843, 'epochs': 6, 'batch_size': 32, 'loss': 0.9927942469596863, 'fitness': 1.5471698113207548}\n",
            "{'convulution_kernel_size': 2, 'convulution_act': <ActivationType.relu: 'relu'>, 'pooling_layer_type': <PoolingTypes.avg_pooling: 1>, 'pooling_layer_kernel_size': 3, 'first_dense_layer_neurons': 268, 'first_dense_act': <ActivationType.relu: 'relu'>, 'second_dense_layer_neurons': 79, 'second_dense_act': <ActivationType.softmax: 'softmax'>, 'dropout_rate': 0.5030886784646438, 'optimizer_type': <OptimizerType.sgd: 2>, 'learning_rate': 0.019456694931229843, 'epochs': 6, 'batch_size': 32, 'loss': 0.9957490253448487, 'fitness': 1.509433962264151}\n",
            "{'convulution_kernel_size': 2, 'convulution_act': <ActivationType.relu: 'relu'>, 'pooling_layer_type': <PoolingTypes.avg_pooling: 1>, 'pooling_layer_kernel_size': 3, 'first_dense_layer_neurons': 202, 'first_dense_act': <ActivationType.relu: 'relu'>, 'second_dense_layer_neurons': 94, 'second_dense_act': <ActivationType.softmax: 'softmax'>, 'dropout_rate': 0.5111331121652593, 'optimizer_type': <OptimizerType.sgd: 2>, 'learning_rate': 0.019456694931229843, 'epochs': 6, 'batch_size': 32, 'loss': 0.9974503303527832, 'fitness': 1.471698113207547}\n",
            "{'convulution_kernel_size': 2, 'convulution_act': <ActivationType.relu: 'relu'>, 'pooling_layer_type': <PoolingTypes.avg_pooling: 1>, 'pooling_layer_kernel_size': 3, 'first_dense_layer_neurons': 268, 'first_dense_act': <ActivationType.relu: 'relu'>, 'second_dense_layer_neurons': 90, 'second_dense_act': <ActivationType.softmax: 'softmax'>, 'dropout_rate': 0.5369037703054195, 'optimizer_type': <OptimizerType.sgd: 2>, 'learning_rate': 0.019456694931229843, 'epochs': 6, 'batch_size': 32, 'loss': 0.9983451258659363, 'fitness': 1.4339622641509433}\n",
            "{'convulution_kernel_size': 2, 'convulution_act': <ActivationType.relu: 'relu'>, 'pooling_layer_type': <PoolingTypes.avg_pooling: 1>, 'pooling_layer_kernel_size': 3, 'first_dense_layer_neurons': 170, 'first_dense_act': <ActivationType.relu: 'relu'>, 'second_dense_layer_neurons': 88, 'second_dense_act': <ActivationType.softmax: 'softmax'>, 'dropout_rate': 0.5051866133750875, 'optimizer_type': <OptimizerType.sgd: 2>, 'learning_rate': 0.019456694931229843, 'epochs': 6, 'batch_size': 32, 'loss': 0.9986933632850648, 'fitness': 1.3962264150943395}\n",
            "{'convulution_kernel_size': 2, 'convulution_act': <ActivationType.relu: 'relu'>, 'pooling_layer_type': <PoolingTypes.avg_pooling: 1>, 'pooling_layer_kernel_size': 3, 'first_dense_layer_neurons': 202, 'first_dense_act': <ActivationType.relu: 'relu'>, 'second_dense_layer_neurons': 94, 'second_dense_act': <ActivationType.softmax: 'softmax'>, 'dropout_rate': 0.5111331121652593, 'optimizer_type': <OptimizerType.sgd: 2>, 'learning_rate': 0.019456694931229843, 'epochs': 6, 'batch_size': 32, 'loss': 0.9994851292610168, 'fitness': 1.3584905660377358}\n"
          ]
        }
      ],
      "source": [
        "\n",
        "\n",
        "for pop in last_pop:\n",
        "    print(vars(pop))"
      ],
      "metadata": {
        "pycharm": {
          "name": "#%%\n"
        },
        "id": "YfuwNZUavsM2",
        "outputId": "ddf68665-26d5-4c28-f4ef-c4239738cd8a"
      }
    },
    {
      "cell_type": "code",
      "execution_count": null,
      "outputs": [
        {
          "output_type": "error",
          "ename": "NameError",
          "evalue": "ignored",
          "traceback": [
            "\u001b[0;31m---------------------------------------------------------------------------\u001b[0m",
            "\u001b[0;31mNameError\u001b[0m                                 Traceback (most recent call last)",
            "\u001b[0;32m<ipython-input-16-19506ff23710>\u001b[0m in \u001b[0;36m<module>\u001b[0;34m()\u001b[0m\n\u001b[0;32m----> 1\u001b[0;31m \u001b[0mprint\u001b[0m\u001b[0;34m(\u001b[0m\u001b[0mvars\u001b[0m\u001b[0;34m(\u001b[0m\u001b[0mmin\u001b[0m\u001b[0;34m(\u001b[0m\u001b[0mlast_pop\u001b[0m\u001b[0;34m,\u001b[0m \u001b[0mkey\u001b[0m\u001b[0;34m=\u001b[0m\u001b[0mattrgetter\u001b[0m\u001b[0;34m(\u001b[0m\u001b[0;34m'loss'\u001b[0m\u001b[0;34m)\u001b[0m\u001b[0;34m)\u001b[0m\u001b[0;34m)\u001b[0m\u001b[0;34m)\u001b[0m\u001b[0;34m\u001b[0m\u001b[0;34m\u001b[0m\u001b[0m\n\u001b[0m",
            "\u001b[0;31mNameError\u001b[0m: name 'last_pop' is not defined"
          ]
        }
      ],
      "source": [
        "print(vars(min(last_pop, key=attrgetter('loss'))))"
      ],
      "metadata": {
        "pycharm": {
          "name": "#%%\n",
          "is_executing": true
        },
        "colab": {
          "base_uri": "https://localhost:8080/",
          "height": 171
        },
        "id": "FkhgUvievsM2",
        "outputId": "d20ad3c5-bb68-4591-aad8-f18d22f9475d"
      }
    },
    {
      "cell_type": "code",
      "execution_count": null,
      "outputs": [
        {
          "output_type": "stream",
          "name": "stdout",
          "text": [
            "2\n"
          ]
        }
      ],
      "source": [
        ""
      ],
      "metadata": {
        "pycharm": {
          "name": "#%%\n"
        },
        "colab": {
          "base_uri": "https://localhost:8080/"
        },
        "id": "I6eiHUo7vsM2",
        "outputId": "c9356835-7926-4462-d43b-2e6d8b53d3de"
      }
    }
  ]
}